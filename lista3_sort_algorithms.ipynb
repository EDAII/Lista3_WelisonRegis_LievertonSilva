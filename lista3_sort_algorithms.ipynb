{
 "cells": [
  {
   "cell_type": "markdown",
   "metadata": {},
   "source": [
    "# ALGORITMOS DE ORDENAÇÃO $ N \\cdot LOG ~N $\n",
    "\n",
    "### Proposta:\n",
    "\n",
    "### Alunos:\n",
    "\n",
    "- Welison Lucas Almeida Regis - 2019.1,\n",
    "- Lieverton Santos Silva - 2019.1."
   ]
  },
  {
   "cell_type": "markdown",
   "metadata": {},
   "source": [
    "# IMPORTS"
   ]
  },
  {
   "cell_type": "code",
   "execution_count": 13,
   "metadata": {},
   "outputs": [],
   "source": [
    "import pandas as pd\n",
    "#import numpy as np\n",
    "#import matplotlib\n",
    "#import urllib\n",
    "#import time\n",
    "#import random\n",
    "\n",
    "#from matplotlib import pyplot as plt\n",
    "#from ipywidgets import IntProgress\n",
    "#from IPython.display import display"
   ]
  },
  {
   "cell_type": "markdown",
   "metadata": {},
   "source": [
    "# OLYMPIC ATHLETE CLASS"
   ]
  },
  {
   "cell_type": "code",
   "execution_count": 17,
   "metadata": {},
   "outputs": [],
   "source": [
    "class Athlete:\n",
    "    \n",
    "    def __init__(self, name, sex, team, NOC, season, city, event, medal):\n",
    "        self.name = name\n",
    "        self.sex = sex\n",
    "        self.team = team\n",
    "        self.NOC = NOC\n",
    "        self.season = season\n",
    "        self.city = city\n",
    "        self.event = event\n",
    "        self.medal = medal"
   ]
  },
  {
   "cell_type": "markdown",
   "metadata": {},
   "source": [
    "# READ ATHLETES FROM CSV"
   ]
  },
  {
   "cell_type": "code",
   "execution_count": 20,
   "metadata": {},
   "outputs": [],
   "source": [
    "def read_csv(filename = './assets/athlete_events.csv'): \n",
    "    \"\"\"Method to read specific soccer informations from csv file\n",
    "    \n",
    "    attributes:\n",
    "        filename: path to csv file with athletes data.\n",
    "    \"\"\"\n",
    "    \n",
    "    df = pd.read_csv(filename, usecols=['Name', 'Sex', 'Team', 'NOC', 'Season', 'City', 'Event', 'Medal'])\n",
    "    \n",
    "    athletes = []\n",
    "    for index, row in df.iterrows():\n",
    "        name = row['Name']\n",
    "        sex = row['Sex']\n",
    "        team = row['Team']\n",
    "        NOC = row['NOC']\n",
    "        season = row['Season']\n",
    "        city = row['City']\n",
    "        event = row['Event']\n",
    "        medal = row['Medal']\n",
    "        \n",
    "        athlete = Athlete(name, sex, team, NOC, season, city, event, medal)\n",
    "        athletes.append(athlete)\n",
    "        \n",
    "    return athletes"
   ]
  },
  {
   "cell_type": "code",
   "execution_count": 21,
   "metadata": {},
   "outputs": [],
   "source": [
    "athletes = read_csv()"
   ]
  },
  {
   "cell_type": "code",
   "execution_count": null,
   "metadata": {},
   "outputs": [],
   "source": []
  }
 ],
 "metadata": {
  "kernelspec": {
   "display_name": "Python 3",
   "language": "python",
   "name": "python3"
  },
  "language_info": {
   "codemirror_mode": {
    "name": "ipython",
    "version": 3
   },
   "file_extension": ".py",
   "mimetype": "text/x-python",
   "name": "python",
   "nbconvert_exporter": "python",
   "pygments_lexer": "ipython3",
   "version": "3.7.3"
  }
 },
 "nbformat": 4,
 "nbformat_minor": 2
}
