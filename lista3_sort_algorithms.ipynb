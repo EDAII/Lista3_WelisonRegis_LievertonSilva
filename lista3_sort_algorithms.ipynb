{
 "cells": [
  {
   "cell_type": "markdown",
   "metadata": {},
   "source": [
    "# ALGORITMOS DE ORDENAÇÃO $ N \\cdot LOG ~N $\n",
    "\n",
    "### Proposta:\n",
    "\n",
    "- Utilizou-se os algoritmos $n \\cdot log ~n$ **`quick sort`, `merge sort` e `bucket sort` aplicados em um `dataset`** (arquivo \"athlete_events.csv\") dos resultados e partipação de atletas nos jogos olímpicos.\n",
    "- O arquivo **csv** proposto possui o registro de **134732 atletas**. Para o dado problema, utilizou-se todos os registros dos atletas filtrando os campos de interesse — nome, sexo, time, NOC, jogos, cidade e evento.\n",
    "- Também utilizou-se um dataset (arquivo \"noc_regions.csv\") dos países participantes.\n",
    "- O objetivo do **`notebook`** é **apresentar informações dos jogos olímpicos**, como o número de atletas participantes por edição e do número de participação de cada país, e utilizar os algoritmos de ordenação para ordenar os atletas por nome e, ao final, **gerar metodos de busca e apresentar os resutados encontrados em uma tabela**.\n",
    "- É representado também a **comparação gráfica (histograma)** dos algoritmos de ordenação aplicado a todos atletas, assim como a **comparação gráfica (`Violin`)** dos algoritmos de ordenação aplicados a vetores de diferentes tamanhos com atletas aleatórios.\n",
    "\n",
    "### Alunos:\n",
    "\n",
    "- Welison Lucas Almeida Regis - 2019.1,\n",
    "- Lieverton Santos Silva - 2019.1."
   ]
  },
  {
   "cell_type": "markdown",
   "metadata": {},
   "source": [
    "# IMPORTS"
   ]
  },
  {
   "cell_type": "code",
   "execution_count": 1,
   "metadata": {},
   "outputs": [
    {
     "data": {
      "text/html": [
       "<script type=\"text/javascript\">window.PlotlyConfig = {MathJaxConfig: 'local'};</script><script type=\"text/javascript\">if (window.MathJax) {MathJax.Hub.Config({SVG: {font: \"STIX-Web\"}});}</script><script>requirejs.config({paths: { 'plotly': ['https://cdn.plot.ly/plotly-latest.min']},});if(!window._Plotly) {require(['plotly'],function(plotly) {window._Plotly=plotly;});}</script>"
      ],
      "text/vnd.plotly.v1+html": [
       "<script type=\"text/javascript\">window.PlotlyConfig = {MathJaxConfig: 'local'};</script><script type=\"text/javascript\">if (window.MathJax) {MathJax.Hub.Config({SVG: {font: \"STIX-Web\"}});}</script><script>requirejs.config({paths: { 'plotly': ['https://cdn.plot.ly/plotly-latest.min']},});if(!window._Plotly) {require(['plotly'],function(plotly) {window._Plotly=plotly;});}</script>"
      ]
     },
     "metadata": {},
     "output_type": "display_data"
    }
   ],
   "source": [
    "import pandas as pd\n",
    "import random\n",
    "import time\n",
    "import plotly.graph_objs as go\n",
    "\n",
    "from matplotlib import pyplot as plt\n",
    "from itertools import chain\n",
    "from ipywidgets import IntProgress\n",
    "\n",
    "from plotly.offline import download_plotlyjs, init_notebook_mode, plot, iplot\n",
    "\n",
    "init_notebook_mode(connected=True)"
   ]
  },
  {
   "cell_type": "markdown",
   "metadata": {},
   "source": [
    "# OLYMPIC ATHLETE CLASS"
   ]
  },
  {
   "cell_type": "code",
   "execution_count": 2,
   "metadata": {},
   "outputs": [],
   "source": [
    "class Athlete:\n",
    "    \n",
    "    def __init__(self, name, sex, team, NOC, games, city, event, medal):\n",
    "        self.name = name\n",
    "        self.sex = sex\n",
    "        self.team = team\n",
    "        self.NOC = NOC\n",
    "        self.games = games\n",
    "        self.city = city\n",
    "        self.event = event\n",
    "        self.medal = medal"
   ]
  },
  {
   "cell_type": "markdown",
   "metadata": {},
   "source": [
    "# READ ATHLETES FROM CSV"
   ]
  },
  {
   "cell_type": "code",
   "execution_count": 3,
   "metadata": {},
   "outputs": [],
   "source": [
    "def read_csv(filename = './assets/athlete_events.csv'): \n",
    "    \"\"\"Method to read specific soccer informations from csv file\n",
    "    \n",
    "    attributes:\n",
    "        filename: path to csv file with athletes data.\n",
    "    \"\"\"\n",
    "    \n",
    "    print(\">>>>>> LOADING <<<<<<\")\n",
    "    \n",
    "    df = pd.read_csv(filename, usecols=['Name', 'Sex', 'Team', 'NOC', 'Games', 'City', 'Event', 'Medal'])\n",
    "    \n",
    "    athletes = athletes_objects(df)\n",
    "        \n",
    "    print(\">>> LOADING SUCCESS! <<<\")\n",
    "        \n",
    "    return athletes"
   ]
  },
  {
   "cell_type": "code",
   "execution_count": 4,
   "metadata": {},
   "outputs": [],
   "source": [
    "def athletes_objects(athletes_df):\n",
    "    athletes = []\n",
    "    for index, row in athletes_df.iterrows():\n",
    "        name = row['Name'].strip().title()\n",
    "        sex = row['Sex']\n",
    "        team = row['Team']\n",
    "        NOC = row['NOC']\n",
    "        games = row['Games']\n",
    "        city = row['City']\n",
    "        event = row['Event']\n",
    "        medal = row['Medal']\n",
    "        \n",
    "        athlete = Athlete(name, sex, team, NOC, games, city, event, medal)\n",
    "        athletes.append(athlete)\n",
    "    \n",
    "    return athletes"
   ]
  },
  {
   "cell_type": "code",
   "execution_count": 5,
   "metadata": {},
   "outputs": [
    {
     "name": "stdout",
     "output_type": "stream",
     "text": [
      ">>>>>> LOADING <<<<<<\n",
      ">>> LOADING SUCCESS! <<<\n"
     ]
    }
   ],
   "source": [
    "# LIST OF ATHLETES OBJECTS\n",
    "ATHLETES = read_csv()"
   ]
  },
  {
   "cell_type": "markdown",
   "metadata": {},
   "source": [
    "# DATASET EXAMPLE"
   ]
  },
  {
   "cell_type": "code",
   "execution_count": 6,
   "metadata": {},
   "outputs": [],
   "source": [
    "def generate_random_athletes(athletes, n = 5):\n",
    "    \n",
    "    random_athletes = []\n",
    "    for i in range(n):\n",
    "        athlete = random.choices(athletes)\n",
    "        random_athletes.append(athlete)\n",
    "    \n",
    "    return random_athletes"
   ]
  },
  {
   "cell_type": "code",
   "execution_count": 7,
   "metadata": {},
   "outputs": [],
   "source": [
    "def athletes_info(athletes):\n",
    "    if athletes:\n",
    "        if athletes == \"Not found!\":\n",
    "            print(athletes)\n",
    "        else:\n",
    "            athletes_table = []\n",
    "            for athlete in athletes:\n",
    "                athlete = athlete[0].__dict__.values()\n",
    "                athletes_table.append(athlete)\n",
    "\n",
    "            df = pd.DataFrame(\n",
    "                athletes_table,\n",
    "                columns=['Nome', 'Sexo', 'Time', 'NOC', 'Jogos', 'Cidade', 'Evento', 'Medalha']\n",
    "            )\n",
    "\n",
    "            return df"
   ]
  },
  {
   "cell_type": "code",
   "execution_count": 8,
   "metadata": {},
   "outputs": [
    {
     "data": {
      "text/html": [
       "<div>\n",
       "<style scoped>\n",
       "    .dataframe tbody tr th:only-of-type {\n",
       "        vertical-align: middle;\n",
       "    }\n",
       "\n",
       "    .dataframe tbody tr th {\n",
       "        vertical-align: top;\n",
       "    }\n",
       "\n",
       "    .dataframe thead th {\n",
       "        text-align: right;\n",
       "    }\n",
       "</style>\n",
       "<table border=\"1\" class=\"dataframe\">\n",
       "  <thead>\n",
       "    <tr style=\"text-align: right;\">\n",
       "      <th></th>\n",
       "      <th>Nome</th>\n",
       "      <th>Sexo</th>\n",
       "      <th>Time</th>\n",
       "      <th>NOC</th>\n",
       "      <th>Jogos</th>\n",
       "      <th>Cidade</th>\n",
       "      <th>Evento</th>\n",
       "      <th>Medalha</th>\n",
       "    </tr>\n",
       "  </thead>\n",
       "  <tbody>\n",
       "    <tr>\n",
       "      <th>0</th>\n",
       "      <td>Matthew Ward \"Matt\" Wells</td>\n",
       "      <td>M</td>\n",
       "      <td>Great Britain</td>\n",
       "      <td>GBR</td>\n",
       "      <td>2000 Summer</td>\n",
       "      <td>Sydney</td>\n",
       "      <td>Rowing Men's Single Sculls</td>\n",
       "      <td>NaN</td>\n",
       "    </tr>\n",
       "    <tr>\n",
       "      <th>1</th>\n",
       "      <td>V'Iacheslav Mykolaiovych Oliynyk</td>\n",
       "      <td>M</td>\n",
       "      <td>Ukraine</td>\n",
       "      <td>UKR</td>\n",
       "      <td>1996 Summer</td>\n",
       "      <td>Atlanta</td>\n",
       "      <td>Wrestling Men's Light-Heavyweight, Greco-Roman</td>\n",
       "      <td>Gold</td>\n",
       "    </tr>\n",
       "    <tr>\n",
       "      <th>2</th>\n",
       "      <td>James Lurane Williams</td>\n",
       "      <td>M</td>\n",
       "      <td>Great Britain</td>\n",
       "      <td>GBR</td>\n",
       "      <td>1992 Summer</td>\n",
       "      <td>Barcelona</td>\n",
       "      <td>Fencing Men's Sabre, Team</td>\n",
       "      <td>NaN</td>\n",
       "    </tr>\n",
       "    <tr>\n",
       "      <th>3</th>\n",
       "      <td>Matthias Behr</td>\n",
       "      <td>M</td>\n",
       "      <td>West Germany</td>\n",
       "      <td>FRG</td>\n",
       "      <td>1988 Summer</td>\n",
       "      <td>Seoul</td>\n",
       "      <td>Fencing Men's Foil, Individual</td>\n",
       "      <td>NaN</td>\n",
       "    </tr>\n",
       "    <tr>\n",
       "      <th>4</th>\n",
       "      <td>Martin Edward Reynolds</td>\n",
       "      <td>M</td>\n",
       "      <td>Great Britain</td>\n",
       "      <td>GBR</td>\n",
       "      <td>1972 Summer</td>\n",
       "      <td>Munich</td>\n",
       "      <td>Athletics Men's 400 metres</td>\n",
       "      <td>NaN</td>\n",
       "    </tr>\n",
       "  </tbody>\n",
       "</table>\n",
       "</div>"
      ],
      "text/plain": [
       "                               Nome Sexo           Time  NOC        Jogos  \\\n",
       "0         Matthew Ward \"Matt\" Wells    M  Great Britain  GBR  2000 Summer   \n",
       "1  V'Iacheslav Mykolaiovych Oliynyk    M        Ukraine  UKR  1996 Summer   \n",
       "2             James Lurane Williams    M  Great Britain  GBR  1992 Summer   \n",
       "3                     Matthias Behr    M   West Germany  FRG  1988 Summer   \n",
       "4            Martin Edward Reynolds    M  Great Britain  GBR  1972 Summer   \n",
       "\n",
       "      Cidade                                          Evento Medalha  \n",
       "0     Sydney                      Rowing Men's Single Sculls     NaN  \n",
       "1    Atlanta  Wrestling Men's Light-Heavyweight, Greco-Roman    Gold  \n",
       "2  Barcelona                       Fencing Men's Sabre, Team     NaN  \n",
       "3      Seoul                  Fencing Men's Foil, Individual     NaN  \n",
       "4     Munich                      Athletics Men's 400 metres     NaN  "
      ]
     },
     "execution_count": 8,
     "metadata": {},
     "output_type": "execute_result"
    }
   ],
   "source": [
    "athletes = generate_random_athletes(ATHLETES.copy())\n",
    "athletes_info(athletes)"
   ]
  },
  {
   "cell_type": "markdown",
   "metadata": {},
   "source": [
    "# VISUALIZING DATA WITH PANDAS AND PLOTLY"
   ]
  },
  {
   "cell_type": "code",
   "execution_count": 9,
   "metadata": {},
   "outputs": [],
   "source": [
    "ATHLETE_EVENTS_CSV = pd.read_csv('./assets/athlete_events.csv')\n",
    "NOC_REGIONS_CSV = pd.read_csv('./assets/noc_regions.csv')"
   ]
  },
  {
   "cell_type": "markdown",
   "metadata": {},
   "source": [
    "### Count number of competitors per olympic"
   ]
  },
  {
   "cell_type": "code",
   "execution_count": 10,
   "metadata": {},
   "outputs": [],
   "source": [
    "def plot_summer_winter_athletes(olympics_df):\n",
    "    summer_df = olympics_df[olympics_df['Season'] == 'Summer']\n",
    "    winter_df = olympics_df[olympics_df['Season'] == 'Winter']\n",
    "\n",
    "    summer = go.Scatter(\n",
    "        x = summer_df['Year'],\n",
    "        y = summer_df['Athletes'],\n",
    "        name=\"Jogos de Verão\",\n",
    "        marker=dict(color=\"Green\"),\n",
    "        mode = \"markers+lines\"\n",
    "    )\n",
    "    winter = go.Scatter(\n",
    "        x = winter_df['Year'],\n",
    "        y = winter_df['Athletes'],\n",
    "        name=\"Jogos de Inverno\",\n",
    "        marker=dict(color=\"Red\"),\n",
    "        mode = \"markers+lines\"\n",
    "    )\n",
    "\n",
    "    data = [summer, winter]\n",
    "    layout = dict(title = 'Competidores por Olimpíadas',\n",
    "              xaxis = dict(title = 'Ano', showticklabels=True), \n",
    "              yaxis = dict(title = 'Número de Competidores'),\n",
    "              hovermode = 'closest'\n",
    "             )\n",
    "    fig = dict(data=data, layout=layout)\n",
    "    iplot(fig, filename='olympic_athletes')"
   ]
  },
  {
   "cell_type": "code",
   "execution_count": 11,
   "metadata": {},
   "outputs": [
    {
     "data": {
      "application/vnd.plotly.v1+json": {
       "config": {
        "linkText": "Export to plot.ly",
        "plotlyServerURL": "https://plot.ly",
        "showLink": false
       },
       "data": [
        {
         "marker": {
          "color": "Green"
         },
         "mode": "markers+lines",
         "name": "Jogos de Verão",
         "type": "scatter",
         "uid": "aecaa1f8-925d-4ca9-ab01-def1495164c1",
         "x": [
          1896,
          1900,
          1904,
          1906,
          1908,
          1912,
          1920,
          1924,
          1928,
          1932,
          1936,
          1948,
          1952,
          1956,
          1960,
          1964,
          1968,
          1972,
          1976,
          1980,
          1984,
          1988,
          1992,
          1996,
          2000,
          2004,
          2008,
          2012,
          2016
         ],
         "y": [
          380,
          1936,
          1301,
          1733,
          3101,
          4040,
          4292,
          5233,
          4992,
          2969,
          6506,
          6405,
          8270,
          5127,
          8119,
          7702,
          8588,
          10304,
          8641,
          7191,
          9454,
          12037,
          12977,
          13780,
          13821,
          13443,
          13602,
          12920,
          13688
         ]
        },
        {
         "marker": {
          "color": "Red"
         },
         "mode": "markers+lines",
         "name": "Jogos de Inverno",
         "type": "scatter",
         "uid": "96549e32-5534-4f8c-bf11-a0de21b7cc6d",
         "x": [
          1924,
          1928,
          1932,
          1936,
          1948,
          1952,
          1956,
          1960,
          1964,
          1968,
          1972,
          1976,
          1980,
          1984,
          1988,
          1992,
          1994,
          1998,
          2002,
          2006,
          2010,
          2014
         ],
         "y": [
          460,
          582,
          352,
          895,
          1075,
          1088,
          1307,
          1116,
          1778,
          1891,
          1655,
          1861,
          1746,
          2134,
          2639,
          3436,
          3160,
          3605,
          4109,
          4382,
          4402,
          4891
         ]
        }
       ],
       "layout": {
        "hovermode": "closest",
        "title": {
         "text": "Competidores por Olimpíadas"
        },
        "xaxis": {
         "showticklabels": true,
         "title": {
          "text": "Ano"
         }
        },
        "yaxis": {
         "title": {
          "text": "Número de Competidores"
         }
        }
       }
      },
      "text/html": [
       "<div id=\"62666a6d-efb2-45b1-bbea-f44eaeb94814\" style=\"height: 525px; width: 100%;\" class=\"plotly-graph-div\"></div><script type=\"text/javascript\">require([\"plotly\"], function(Plotly) { window.PLOTLYENV=window.PLOTLYENV || {};window.PLOTLYENV.BASE_URL=\"https://plot.ly\";Plotly.newPlot(\"62666a6d-efb2-45b1-bbea-f44eaeb94814\", [{\"marker\": {\"color\": \"Green\"}, \"mode\": \"markers+lines\", \"name\": \"Jogos de Ver\\u00e3o\", \"x\": [1896, 1900, 1904, 1906, 1908, 1912, 1920, 1924, 1928, 1932, 1936, 1948, 1952, 1956, 1960, 1964, 1968, 1972, 1976, 1980, 1984, 1988, 1992, 1996, 2000, 2004, 2008, 2012, 2016], \"y\": [380, 1936, 1301, 1733, 3101, 4040, 4292, 5233, 4992, 2969, 6506, 6405, 8270, 5127, 8119, 7702, 8588, 10304, 8641, 7191, 9454, 12037, 12977, 13780, 13821, 13443, 13602, 12920, 13688], \"type\": \"scatter\", \"uid\": \"f5312cb7-b054-42e1-abc5-c4537deea83d\"}, {\"marker\": {\"color\": \"Red\"}, \"mode\": \"markers+lines\", \"name\": \"Jogos de Inverno\", \"x\": [1924, 1928, 1932, 1936, 1948, 1952, 1956, 1960, 1964, 1968, 1972, 1976, 1980, 1984, 1988, 1992, 1994, 1998, 2002, 2006, 2010, 2014], \"y\": [460, 582, 352, 895, 1075, 1088, 1307, 1116, 1778, 1891, 1655, 1861, 1746, 2134, 2639, 3436, 3160, 3605, 4109, 4382, 4402, 4891], \"type\": \"scatter\", \"uid\": \"0f084ba8-9a27-4b0f-ab40-f8465a859f9b\"}], {\"hovermode\": \"closest\", \"title\": {\"text\": \"Competidores por Olimp\\u00edadas\"}, \"xaxis\": {\"showticklabels\": true, \"title\": {\"text\": \"Ano\"}}, \"yaxis\": {\"title\": {\"text\": \"N\\u00famero de Competidores\"}}}, {\"showLink\": false, \"linkText\": \"Export to plot.ly\", \"plotlyServerURL\": \"https://plot.ly\"})});</script><script type=\"text/javascript\">window.addEventListener(\"resize\", function(){window._Plotly.Plots.resize(document.getElementById(\"62666a6d-efb2-45b1-bbea-f44eaeb94814\"));});</script>"
      ],
      "text/vnd.plotly.v1+html": [
       "<div id=\"62666a6d-efb2-45b1-bbea-f44eaeb94814\" style=\"height: 525px; width: 100%;\" class=\"plotly-graph-div\"></div><script type=\"text/javascript\">require([\"plotly\"], function(Plotly) { window.PLOTLYENV=window.PLOTLYENV || {};window.PLOTLYENV.BASE_URL=\"https://plot.ly\";Plotly.newPlot(\"62666a6d-efb2-45b1-bbea-f44eaeb94814\", [{\"marker\": {\"color\": \"Green\"}, \"mode\": \"markers+lines\", \"name\": \"Jogos de Ver\\u00e3o\", \"x\": [1896, 1900, 1904, 1906, 1908, 1912, 1920, 1924, 1928, 1932, 1936, 1948, 1952, 1956, 1960, 1964, 1968, 1972, 1976, 1980, 1984, 1988, 1992, 1996, 2000, 2004, 2008, 2012, 2016], \"y\": [380, 1936, 1301, 1733, 3101, 4040, 4292, 5233, 4992, 2969, 6506, 6405, 8270, 5127, 8119, 7702, 8588, 10304, 8641, 7191, 9454, 12037, 12977, 13780, 13821, 13443, 13602, 12920, 13688], \"type\": \"scatter\", \"uid\": \"f5312cb7-b054-42e1-abc5-c4537deea83d\"}, {\"marker\": {\"color\": \"Red\"}, \"mode\": \"markers+lines\", \"name\": \"Jogos de Inverno\", \"x\": [1924, 1928, 1932, 1936, 1948, 1952, 1956, 1960, 1964, 1968, 1972, 1976, 1980, 1984, 1988, 1992, 1994, 1998, 2002, 2006, 2010, 2014], \"y\": [460, 582, 352, 895, 1075, 1088, 1307, 1116, 1778, 1891, 1655, 1861, 1746, 2134, 2639, 3436, 3160, 3605, 4109, 4382, 4402, 4891], \"type\": \"scatter\", \"uid\": \"0f084ba8-9a27-4b0f-ab40-f8465a859f9b\"}], {\"hovermode\": \"closest\", \"title\": {\"text\": \"Competidores por Olimp\\u00edadas\"}, \"xaxis\": {\"showticklabels\": true, \"title\": {\"text\": \"Ano\"}}, \"yaxis\": {\"title\": {\"text\": \"N\\u00famero de Competidores\"}}}, {\"showLink\": false, \"linkText\": \"Export to plot.ly\", \"plotlyServerURL\": \"https://plot.ly\"})});</script><script type=\"text/javascript\">window.addEventListener(\"resize\", function(){window._Plotly.Plots.resize(document.getElementById(\"62666a6d-efb2-45b1-bbea-f44eaeb94814\"));});</script>"
      ]
     },
     "metadata": {},
     "output_type": "display_data"
    }
   ],
   "source": [
    "olympic_athletes = ATHLETE_EVENTS_CSV.groupby('Year')['Season'].value_counts()\n",
    "\n",
    "olympics_df = pd.DataFrame(\n",
    "    data = {'Athletes': olympic_athletes.values},\n",
    "    index = olympic_athletes.index\n",
    ").reset_index()\n",
    "\n",
    "\n",
    "plot_summer_winter_athletes(olympics_df)"
   ]
  },
  {
   "cell_type": "markdown",
   "metadata": {},
   "source": [
    "# OLYMPIC GAMES - COUNTRY'S PARTICIPATION"
   ]
  },
  {
   "cell_type": "markdown",
   "metadata": {},
   "source": [
    "### Draw 3D map with countries partition"
   ]
  },
  {
   "cell_type": "code",
   "execution_count": 12,
   "metadata": {},
   "outputs": [],
   "source": [
    "def draw_map(dataset, title, colorscale, map_type = 'orthographic'):\n",
    "    trace = go.Choropleth(\n",
    "                locations = dataset['Country'],\n",
    "                locationmode = 'country names',\n",
    "                z = dataset['Editions'],\n",
    "                text = dataset['Country'],\n",
    "                autocolorscale = False,\n",
    "                reversescale = False,\n",
    "                colorscale = colorscale,\n",
    "                marker = dict(\n",
    "                    line = dict(\n",
    "                        color = 'rgb(0,0,0)',\n",
    "                        width = 0.5)\n",
    "                ),\n",
    "                colorbar = dict(\n",
    "                    title = 'Edições',\n",
    "                    tickprefix = '')\n",
    "            )\n",
    "\n",
    "    data = [trace]\n",
    "    layout = go.Layout(\n",
    "        title = title,\n",
    "        geo = dict(\n",
    "            showframe = True,\n",
    "            showlakes = False,\n",
    "            showcoastlines = True,\n",
    "            projection = dict(\n",
    "                type = map_type\n",
    "            )\n",
    "        )\n",
    "    )\n",
    "    \n",
    "    fig = dict( data=data, layout=layout)\n",
    "    iplot(fig)"
   ]
  },
  {
   "cell_type": "markdown",
   "metadata": {},
   "source": [
    "### Merge athletes with regions datasets"
   ]
  },
  {
   "cell_type": "code",
   "execution_count": 13,
   "metadata": {},
   "outputs": [],
   "source": [
    "olympics_df = ATHLETE_EVENTS_CSV.merge(NOC_REGIONS_CSV)\n",
    "olympics_df = olympics_df.rename(columns = {'region':'Country'})\n",
    "\n",
    "countries_participations = olympics_df.groupby(['Country', 'Season'])['Year'].nunique()\n",
    "\n",
    "olympic_editions = pd.DataFrame(\n",
    "    data={'Editions': countries_participations.values},\n",
    "    index=countries_participations.index\n",
    ").reset_index()"
   ]
  },
  {
   "cell_type": "markdown",
   "metadata": {},
   "source": [
    "## Participation per country in summer editions"
   ]
  },
  {
   "cell_type": "code",
   "execution_count": 14,
   "metadata": {},
   "outputs": [
    {
     "data": {
      "application/vnd.plotly.v1+json": {
       "config": {
        "linkText": "Export to plot.ly",
        "plotlyServerURL": "https://plot.ly",
        "showLink": false
       },
       "data": [
        {
         "autocolorscale": false,
         "colorbar": {
          "tickprefix": "",
          "title": {
           "text": "Edições"
          }
         },
         "colorscale": "Reds",
         "locationmode": "country names",
         "locations": [
          "Afghanistan",
          "Albania",
          "Algeria",
          "American Samoa",
          "Andorra",
          "Angola",
          "Antigua",
          "Argentina",
          "Armenia",
          "Aruba",
          "Australia",
          "Austria",
          "Azerbaijan",
          "Bahamas",
          "Bahrain",
          "Bangladesh",
          "Barbados",
          "Belarus",
          "Belgium",
          "Belize",
          "Benin",
          "Bermuda",
          "Bhutan",
          "Boliva",
          "Bosnia and Herzegovina",
          "Botswana",
          "Brazil",
          "Brunei",
          "Bulgaria",
          "Burkina Faso",
          "Burundi",
          "Cambodia",
          "Cameroon",
          "Canada",
          "Cape Verde",
          "Cayman Islands",
          "Central African Republic",
          "Chad",
          "Chile",
          "China",
          "Colombia",
          "Comoros",
          "Cook Islands",
          "Costa Rica",
          "Croatia",
          "Cuba",
          "Curacao",
          "Cyprus",
          "Czech Republic",
          "Democratic Republic of the Congo",
          "Denmark",
          "Djibouti",
          "Dominica",
          "Dominican Republic",
          "Ecuador",
          "Egypt",
          "El Salvador",
          "Equatorial Guinea",
          "Eritrea",
          "Estonia",
          "Ethiopia",
          "Fiji",
          "Finland",
          "France",
          "Gabon",
          "Gambia",
          "Georgia",
          "Germany",
          "Ghana",
          "Greece",
          "Grenada",
          "Guam",
          "Guatemala",
          "Guinea",
          "Guinea-Bissau",
          "Guyana",
          "Haiti",
          "Honduras",
          "Hungary",
          "Iceland",
          "India",
          "Individual Olympic Athletes",
          "Indonesia",
          "Iran",
          "Iraq",
          "Ireland",
          "Israel",
          "Italy",
          "Ivory Coast",
          "Jamaica",
          "Japan",
          "Jordan",
          "Kazakhstan",
          "Kenya",
          "Kiribati",
          "Kosovo",
          "Kuwait",
          "Kyrgyzstan",
          "Laos",
          "Latvia",
          "Lebanon",
          "Lesotho",
          "Liberia",
          "Libya",
          "Liechtenstein",
          "Lithuania",
          "Luxembourg",
          "Macedonia",
          "Madagascar",
          "Malawi",
          "Malaysia",
          "Maldives",
          "Mali",
          "Malta",
          "Marshall Islands",
          "Mauritania",
          "Mauritius",
          "Mexico",
          "Micronesia",
          "Moldova",
          "Monaco",
          "Mongolia",
          "Montenegro",
          "Morocco",
          "Mozambique",
          "Myanmar",
          "Namibia",
          "Nauru",
          "Nepal",
          "Netherlands",
          "New Zealand",
          "Nicaragua",
          "Niger",
          "Nigeria",
          "North Korea",
          "Norway",
          "Oman",
          "Pakistan",
          "Palau",
          "Palestine",
          "Panama",
          "Papua New Guinea",
          "Paraguay",
          "Peru",
          "Philippines",
          "Poland",
          "Portugal",
          "Puerto Rico",
          "Qatar",
          "Republic of Congo",
          "Romania",
          "Russia",
          "Rwanda",
          "Saint Kitts",
          "Saint Lucia",
          "Saint Vincent",
          "Samoa",
          "San Marino",
          "Sao Tome and Principe",
          "Saudi Arabia",
          "Senegal",
          "Serbia",
          "Seychelles",
          "Sierra Leone",
          "Slovakia",
          "Slovenia",
          "Solomon Islands",
          "Somalia",
          "South Africa",
          "South Korea",
          "South Sudan",
          "Spain",
          "Sri Lanka",
          "Sudan",
          "Suriname",
          "Swaziland",
          "Sweden",
          "Switzerland",
          "Syria",
          "Taiwan",
          "Tajikistan",
          "Tanzania",
          "Thailand",
          "Timor-Leste",
          "Togo",
          "Tonga",
          "Trinidad",
          "Tunisia",
          "Turkey",
          "Turkmenistan",
          "UK",
          "USA",
          "Uganda",
          "Ukraine",
          "United Arab Emirates",
          "Uruguay",
          "Uzbekistan",
          "Vanuatu",
          "Venezuela",
          "Vietnam",
          "Virgin Islands, British",
          "Virgin Islands, US",
          "Yemen",
          "Zambia",
          "Zimbabwe"
         ],
         "marker": {
          "line": {
           "color": "rgb(0,0,0)",
           "width": 0.5
          }
         },
         "reversescale": false,
         "text": [
          "Afghanistan",
          "Albania",
          "Algeria",
          "American Samoa",
          "Andorra",
          "Angola",
          "Antigua",
          "Argentina",
          "Armenia",
          "Aruba",
          "Australia",
          "Austria",
          "Azerbaijan",
          "Bahamas",
          "Bahrain",
          "Bangladesh",
          "Barbados",
          "Belarus",
          "Belgium",
          "Belize",
          "Benin",
          "Bermuda",
          "Bhutan",
          "Boliva",
          "Bosnia and Herzegovina",
          "Botswana",
          "Brazil",
          "Brunei",
          "Bulgaria",
          "Burkina Faso",
          "Burundi",
          "Cambodia",
          "Cameroon",
          "Canada",
          "Cape Verde",
          "Cayman Islands",
          "Central African Republic",
          "Chad",
          "Chile",
          "China",
          "Colombia",
          "Comoros",
          "Cook Islands",
          "Costa Rica",
          "Croatia",
          "Cuba",
          "Curacao",
          "Cyprus",
          "Czech Republic",
          "Democratic Republic of the Congo",
          "Denmark",
          "Djibouti",
          "Dominica",
          "Dominican Republic",
          "Ecuador",
          "Egypt",
          "El Salvador",
          "Equatorial Guinea",
          "Eritrea",
          "Estonia",
          "Ethiopia",
          "Fiji",
          "Finland",
          "France",
          "Gabon",
          "Gambia",
          "Georgia",
          "Germany",
          "Ghana",
          "Greece",
          "Grenada",
          "Guam",
          "Guatemala",
          "Guinea",
          "Guinea-Bissau",
          "Guyana",
          "Haiti",
          "Honduras",
          "Hungary",
          "Iceland",
          "India",
          "Individual Olympic Athletes",
          "Indonesia",
          "Iran",
          "Iraq",
          "Ireland",
          "Israel",
          "Italy",
          "Ivory Coast",
          "Jamaica",
          "Japan",
          "Jordan",
          "Kazakhstan",
          "Kenya",
          "Kiribati",
          "Kosovo",
          "Kuwait",
          "Kyrgyzstan",
          "Laos",
          "Latvia",
          "Lebanon",
          "Lesotho",
          "Liberia",
          "Libya",
          "Liechtenstein",
          "Lithuania",
          "Luxembourg",
          "Macedonia",
          "Madagascar",
          "Malawi",
          "Malaysia",
          "Maldives",
          "Mali",
          "Malta",
          "Marshall Islands",
          "Mauritania",
          "Mauritius",
          "Mexico",
          "Micronesia",
          "Moldova",
          "Monaco",
          "Mongolia",
          "Montenegro",
          "Morocco",
          "Mozambique",
          "Myanmar",
          "Namibia",
          "Nauru",
          "Nepal",
          "Netherlands",
          "New Zealand",
          "Nicaragua",
          "Niger",
          "Nigeria",
          "North Korea",
          "Norway",
          "Oman",
          "Pakistan",
          "Palau",
          "Palestine",
          "Panama",
          "Papua New Guinea",
          "Paraguay",
          "Peru",
          "Philippines",
          "Poland",
          "Portugal",
          "Puerto Rico",
          "Qatar",
          "Republic of Congo",
          "Romania",
          "Russia",
          "Rwanda",
          "Saint Kitts",
          "Saint Lucia",
          "Saint Vincent",
          "Samoa",
          "San Marino",
          "Sao Tome and Principe",
          "Saudi Arabia",
          "Senegal",
          "Serbia",
          "Seychelles",
          "Sierra Leone",
          "Slovakia",
          "Slovenia",
          "Solomon Islands",
          "Somalia",
          "South Africa",
          "South Korea",
          "South Sudan",
          "Spain",
          "Sri Lanka",
          "Sudan",
          "Suriname",
          "Swaziland",
          "Sweden",
          "Switzerland",
          "Syria",
          "Taiwan",
          "Tajikistan",
          "Tanzania",
          "Thailand",
          "Timor-Leste",
          "Togo",
          "Tonga",
          "Trinidad",
          "Tunisia",
          "Turkey",
          "Turkmenistan",
          "UK",
          "USA",
          "Uganda",
          "Ukraine",
          "United Arab Emirates",
          "Uruguay",
          "Uzbekistan",
          "Vanuatu",
          "Venezuela",
          "Vietnam",
          "Virgin Islands, British",
          "Virgin Islands, US",
          "Yemen",
          "Zambia",
          "Zimbabwe"
         ],
         "type": "choropleth",
         "uid": "2e6a957f-b873-44c4-9a92-2b00d5a43e4c",
         "z": [
          14,
          8,
          13,
          8,
          11,
          9,
          10,
          24,
          6,
          8,
          29,
          28,
          6,
          16,
          9,
          9,
          12,
          6,
          27,
          12,
          11,
          18,
          9,
          14,
          7,
          10,
          23,
          5,
          20,
          9,
          6,
          9,
          14,
          27,
          6,
          10,
          10,
          12,
          22,
          19,
          20,
          6,
          8,
          15,
          7,
          21,
          13,
          10,
          26,
          10,
          28,
          8,
          6,
          14,
          14,
          21,
          12,
          9,
          5,
          12,
          13,
          14,
          26,
          29,
          10,
          9,
          6,
          26,
          14,
          29,
          9,
          8,
          15,
          11,
          6,
          17,
          16,
          11,
          27,
          21,
          24,
          4,
          15,
          17,
          14,
          21,
          16,
          29,
          13,
          17,
          22,
          10,
          6,
          14,
          4,
          1,
          12,
          6,
          9,
          11,
          17,
          11,
          12,
          10,
          17,
          9,
          25,
          6,
          12,
          10,
          15,
          8,
          13,
          16,
          3,
          9,
          9,
          23,
          5,
          6,
          21,
          13,
          3,
          14,
          10,
          17,
          7,
          6,
          13,
          27,
          24,
          12,
          12,
          16,
          10,
          27,
          9,
          17,
          5,
          6,
          17,
          10,
          12,
          20,
          21,
          22,
          24,
          18,
          9,
          12,
          22,
          20,
          9,
          6,
          6,
          8,
          9,
          14,
          6,
          11,
          14,
          23,
          9,
          11,
          6,
          7,
          9,
          9,
          19,
          17,
          1,
          23,
          17,
          12,
          12,
          10,
          28,
          29,
          14,
          14,
          6,
          13,
          16,
          4,
          10,
          9,
          18,
          14,
          23,
          6,
          29,
          28,
          15,
          6,
          9,
          21,
          6,
          8,
          19,
          15,
          9,
          12,
          9,
          13,
          13
         ]
        }
       ],
       "layout": {
        "geo": {
         "projection": {
          "type": "orthographic"
         },
         "showcoastlines": true,
         "showframe": true,
         "showlakes": false
        },
        "title": {
         "text": "PARTICIPAÇÃO MUNDIAL NOS JOGOS OLÍMPICOS DE VERÃO"
        }
       }
      },
      "text/html": [
       "<div id=\"fca54c92-1a2e-4d22-85f0-cd56b76b8451\" style=\"height: 525px; width: 100%;\" class=\"plotly-graph-div\"></div><script type=\"text/javascript\">require([\"plotly\"], function(Plotly) { window.PLOTLYENV=window.PLOTLYENV || {};window.PLOTLYENV.BASE_URL=\"https://plot.ly\";Plotly.newPlot(\"fca54c92-1a2e-4d22-85f0-cd56b76b8451\", [{\"autocolorscale\": false, \"colorbar\": {\"tickprefix\": \"\", \"title\": {\"text\": \"Edi\\u00e7\\u00f5es\"}}, \"colorscale\": \"Reds\", \"locationmode\": \"country names\", \"locations\": [\"Afghanistan\", \"Albania\", \"Algeria\", \"American Samoa\", \"Andorra\", \"Angola\", \"Antigua\", \"Argentina\", \"Armenia\", \"Aruba\", \"Australia\", \"Austria\", \"Azerbaijan\", \"Bahamas\", \"Bahrain\", \"Bangladesh\", \"Barbados\", \"Belarus\", \"Belgium\", \"Belize\", \"Benin\", \"Bermuda\", \"Bhutan\", \"Boliva\", \"Bosnia and Herzegovina\", \"Botswana\", \"Brazil\", \"Brunei\", \"Bulgaria\", \"Burkina Faso\", \"Burundi\", \"Cambodia\", \"Cameroon\", \"Canada\", \"Cape Verde\", \"Cayman Islands\", \"Central African Republic\", \"Chad\", \"Chile\", \"China\", \"Colombia\", \"Comoros\", \"Cook Islands\", \"Costa Rica\", \"Croatia\", \"Cuba\", \"Curacao\", \"Cyprus\", \"Czech Republic\", \"Democratic Republic of the Congo\", \"Denmark\", \"Djibouti\", \"Dominica\", \"Dominican Republic\", \"Ecuador\", \"Egypt\", \"El Salvador\", \"Equatorial Guinea\", \"Eritrea\", \"Estonia\", \"Ethiopia\", \"Fiji\", \"Finland\", \"France\", \"Gabon\", \"Gambia\", \"Georgia\", \"Germany\", \"Ghana\", \"Greece\", \"Grenada\", \"Guam\", \"Guatemala\", \"Guinea\", \"Guinea-Bissau\", \"Guyana\", \"Haiti\", \"Honduras\", \"Hungary\", \"Iceland\", \"India\", \"Individual Olympic Athletes\", \"Indonesia\", \"Iran\", \"Iraq\", \"Ireland\", \"Israel\", \"Italy\", \"Ivory Coast\", \"Jamaica\", \"Japan\", \"Jordan\", \"Kazakhstan\", \"Kenya\", \"Kiribati\", \"Kosovo\", \"Kuwait\", \"Kyrgyzstan\", \"Laos\", \"Latvia\", \"Lebanon\", \"Lesotho\", \"Liberia\", \"Libya\", \"Liechtenstein\", \"Lithuania\", \"Luxembourg\", \"Macedonia\", \"Madagascar\", \"Malawi\", \"Malaysia\", \"Maldives\", \"Mali\", \"Malta\", \"Marshall Islands\", \"Mauritania\", \"Mauritius\", \"Mexico\", \"Micronesia\", \"Moldova\", \"Monaco\", \"Mongolia\", \"Montenegro\", \"Morocco\", \"Mozambique\", \"Myanmar\", \"Namibia\", \"Nauru\", \"Nepal\", \"Netherlands\", \"New Zealand\", \"Nicaragua\", \"Niger\", \"Nigeria\", \"North Korea\", \"Norway\", \"Oman\", \"Pakistan\", \"Palau\", \"Palestine\", \"Panama\", \"Papua New Guinea\", \"Paraguay\", \"Peru\", \"Philippines\", \"Poland\", \"Portugal\", \"Puerto Rico\", \"Qatar\", \"Republic of Congo\", \"Romania\", \"Russia\", \"Rwanda\", \"Saint Kitts\", \"Saint Lucia\", \"Saint Vincent\", \"Samoa\", \"San Marino\", \"Sao Tome and Principe\", \"Saudi Arabia\", \"Senegal\", \"Serbia\", \"Seychelles\", \"Sierra Leone\", \"Slovakia\", \"Slovenia\", \"Solomon Islands\", \"Somalia\", \"South Africa\", \"South Korea\", \"South Sudan\", \"Spain\", \"Sri Lanka\", \"Sudan\", \"Suriname\", \"Swaziland\", \"Sweden\", \"Switzerland\", \"Syria\", \"Taiwan\", \"Tajikistan\", \"Tanzania\", \"Thailand\", \"Timor-Leste\", \"Togo\", \"Tonga\", \"Trinidad\", \"Tunisia\", \"Turkey\", \"Turkmenistan\", \"UK\", \"USA\", \"Uganda\", \"Ukraine\", \"United Arab Emirates\", \"Uruguay\", \"Uzbekistan\", \"Vanuatu\", \"Venezuela\", \"Vietnam\", \"Virgin Islands, British\", \"Virgin Islands, US\", \"Yemen\", \"Zambia\", \"Zimbabwe\"], \"marker\": {\"line\": {\"color\": \"rgb(0,0,0)\", \"width\": 0.5}}, \"reversescale\": false, \"text\": [\"Afghanistan\", \"Albania\", \"Algeria\", \"American Samoa\", \"Andorra\", \"Angola\", \"Antigua\", \"Argentina\", \"Armenia\", \"Aruba\", \"Australia\", \"Austria\", \"Azerbaijan\", \"Bahamas\", \"Bahrain\", \"Bangladesh\", \"Barbados\", \"Belarus\", \"Belgium\", \"Belize\", \"Benin\", \"Bermuda\", \"Bhutan\", \"Boliva\", \"Bosnia and Herzegovina\", \"Botswana\", \"Brazil\", \"Brunei\", \"Bulgaria\", \"Burkina Faso\", \"Burundi\", \"Cambodia\", \"Cameroon\", \"Canada\", \"Cape Verde\", \"Cayman Islands\", \"Central African Republic\", \"Chad\", \"Chile\", \"China\", \"Colombia\", \"Comoros\", \"Cook Islands\", \"Costa Rica\", \"Croatia\", \"Cuba\", \"Curacao\", \"Cyprus\", \"Czech Republic\", \"Democratic Republic of the Congo\", \"Denmark\", \"Djibouti\", \"Dominica\", \"Dominican Republic\", \"Ecuador\", \"Egypt\", \"El Salvador\", \"Equatorial Guinea\", \"Eritrea\", \"Estonia\", \"Ethiopia\", \"Fiji\", \"Finland\", \"France\", \"Gabon\", \"Gambia\", \"Georgia\", \"Germany\", \"Ghana\", \"Greece\", \"Grenada\", \"Guam\", \"Guatemala\", \"Guinea\", \"Guinea-Bissau\", \"Guyana\", \"Haiti\", \"Honduras\", \"Hungary\", \"Iceland\", \"India\", \"Individual Olympic Athletes\", \"Indonesia\", \"Iran\", \"Iraq\", \"Ireland\", \"Israel\", \"Italy\", \"Ivory Coast\", \"Jamaica\", \"Japan\", \"Jordan\", \"Kazakhstan\", \"Kenya\", \"Kiribati\", \"Kosovo\", \"Kuwait\", \"Kyrgyzstan\", \"Laos\", \"Latvia\", \"Lebanon\", \"Lesotho\", \"Liberia\", \"Libya\", \"Liechtenstein\", \"Lithuania\", \"Luxembourg\", \"Macedonia\", \"Madagascar\", \"Malawi\", \"Malaysia\", \"Maldives\", \"Mali\", \"Malta\", \"Marshall Islands\", \"Mauritania\", \"Mauritius\", \"Mexico\", \"Micronesia\", \"Moldova\", \"Monaco\", \"Mongolia\", \"Montenegro\", \"Morocco\", \"Mozambique\", \"Myanmar\", \"Namibia\", \"Nauru\", \"Nepal\", \"Netherlands\", \"New Zealand\", \"Nicaragua\", \"Niger\", \"Nigeria\", \"North Korea\", \"Norway\", \"Oman\", \"Pakistan\", \"Palau\", \"Palestine\", \"Panama\", \"Papua New Guinea\", \"Paraguay\", \"Peru\", \"Philippines\", \"Poland\", \"Portugal\", \"Puerto Rico\", \"Qatar\", \"Republic of Congo\", \"Romania\", \"Russia\", \"Rwanda\", \"Saint Kitts\", \"Saint Lucia\", \"Saint Vincent\", \"Samoa\", \"San Marino\", \"Sao Tome and Principe\", \"Saudi Arabia\", \"Senegal\", \"Serbia\", \"Seychelles\", \"Sierra Leone\", \"Slovakia\", \"Slovenia\", \"Solomon Islands\", \"Somalia\", \"South Africa\", \"South Korea\", \"South Sudan\", \"Spain\", \"Sri Lanka\", \"Sudan\", \"Suriname\", \"Swaziland\", \"Sweden\", \"Switzerland\", \"Syria\", \"Taiwan\", \"Tajikistan\", \"Tanzania\", \"Thailand\", \"Timor-Leste\", \"Togo\", \"Tonga\", \"Trinidad\", \"Tunisia\", \"Turkey\", \"Turkmenistan\", \"UK\", \"USA\", \"Uganda\", \"Ukraine\", \"United Arab Emirates\", \"Uruguay\", \"Uzbekistan\", \"Vanuatu\", \"Venezuela\", \"Vietnam\", \"Virgin Islands, British\", \"Virgin Islands, US\", \"Yemen\", \"Zambia\", \"Zimbabwe\"], \"z\": [14, 8, 13, 8, 11, 9, 10, 24, 6, 8, 29, 28, 6, 16, 9, 9, 12, 6, 27, 12, 11, 18, 9, 14, 7, 10, 23, 5, 20, 9, 6, 9, 14, 27, 6, 10, 10, 12, 22, 19, 20, 6, 8, 15, 7, 21, 13, 10, 26, 10, 28, 8, 6, 14, 14, 21, 12, 9, 5, 12, 13, 14, 26, 29, 10, 9, 6, 26, 14, 29, 9, 8, 15, 11, 6, 17, 16, 11, 27, 21, 24, 4, 15, 17, 14, 21, 16, 29, 13, 17, 22, 10, 6, 14, 4, 1, 12, 6, 9, 11, 17, 11, 12, 10, 17, 9, 25, 6, 12, 10, 15, 8, 13, 16, 3, 9, 9, 23, 5, 6, 21, 13, 3, 14, 10, 17, 7, 6, 13, 27, 24, 12, 12, 16, 10, 27, 9, 17, 5, 6, 17, 10, 12, 20, 21, 22, 24, 18, 9, 12, 22, 20, 9, 6, 6, 8, 9, 14, 6, 11, 14, 23, 9, 11, 6, 7, 9, 9, 19, 17, 1, 23, 17, 12, 12, 10, 28, 29, 14, 14, 6, 13, 16, 4, 10, 9, 18, 14, 23, 6, 29, 28, 15, 6, 9, 21, 6, 8, 19, 15, 9, 12, 9, 13, 13], \"type\": \"choropleth\", \"uid\": \"7170becb-a1bd-4f4b-b065-38934f2c86d4\"}], {\"geo\": {\"projection\": {\"type\": \"orthographic\"}, \"showcoastlines\": true, \"showframe\": true, \"showlakes\": false}, \"title\": {\"text\": \"PARTICIPA\\u00c7\\u00c3O MUNDIAL NOS JOGOS OL\\u00cdMPICOS DE VER\\u00c3O\"}}, {\"showLink\": false, \"linkText\": \"Export to plot.ly\", \"plotlyServerURL\": \"https://plot.ly\"})});</script><script type=\"text/javascript\">window.addEventListener(\"resize\", function(){window._Plotly.Plots.resize(document.getElementById(\"fca54c92-1a2e-4d22-85f0-cd56b76b8451\"));});</script>"
      ],
      "text/vnd.plotly.v1+html": [
       "<div id=\"fca54c92-1a2e-4d22-85f0-cd56b76b8451\" style=\"height: 525px; width: 100%;\" class=\"plotly-graph-div\"></div><script type=\"text/javascript\">require([\"plotly\"], function(Plotly) { window.PLOTLYENV=window.PLOTLYENV || {};window.PLOTLYENV.BASE_URL=\"https://plot.ly\";Plotly.newPlot(\"fca54c92-1a2e-4d22-85f0-cd56b76b8451\", [{\"autocolorscale\": false, \"colorbar\": {\"tickprefix\": \"\", \"title\": {\"text\": \"Edi\\u00e7\\u00f5es\"}}, \"colorscale\": \"Reds\", \"locationmode\": \"country names\", \"locations\": [\"Afghanistan\", \"Albania\", \"Algeria\", \"American Samoa\", \"Andorra\", \"Angola\", \"Antigua\", \"Argentina\", \"Armenia\", \"Aruba\", \"Australia\", \"Austria\", \"Azerbaijan\", \"Bahamas\", \"Bahrain\", \"Bangladesh\", \"Barbados\", \"Belarus\", \"Belgium\", \"Belize\", \"Benin\", \"Bermuda\", \"Bhutan\", \"Boliva\", \"Bosnia and Herzegovina\", \"Botswana\", \"Brazil\", \"Brunei\", \"Bulgaria\", \"Burkina Faso\", \"Burundi\", \"Cambodia\", \"Cameroon\", \"Canada\", \"Cape Verde\", \"Cayman Islands\", \"Central African Republic\", \"Chad\", \"Chile\", \"China\", \"Colombia\", \"Comoros\", \"Cook Islands\", \"Costa Rica\", \"Croatia\", \"Cuba\", \"Curacao\", \"Cyprus\", \"Czech Republic\", \"Democratic Republic of the Congo\", \"Denmark\", \"Djibouti\", \"Dominica\", \"Dominican Republic\", \"Ecuador\", \"Egypt\", \"El Salvador\", \"Equatorial Guinea\", \"Eritrea\", \"Estonia\", \"Ethiopia\", \"Fiji\", \"Finland\", \"France\", \"Gabon\", \"Gambia\", \"Georgia\", \"Germany\", \"Ghana\", \"Greece\", \"Grenada\", \"Guam\", \"Guatemala\", \"Guinea\", \"Guinea-Bissau\", \"Guyana\", \"Haiti\", \"Honduras\", \"Hungary\", \"Iceland\", \"India\", \"Individual Olympic Athletes\", \"Indonesia\", \"Iran\", \"Iraq\", \"Ireland\", \"Israel\", \"Italy\", \"Ivory Coast\", \"Jamaica\", \"Japan\", \"Jordan\", \"Kazakhstan\", \"Kenya\", \"Kiribati\", \"Kosovo\", \"Kuwait\", \"Kyrgyzstan\", \"Laos\", \"Latvia\", \"Lebanon\", \"Lesotho\", \"Liberia\", \"Libya\", \"Liechtenstein\", \"Lithuania\", \"Luxembourg\", \"Macedonia\", \"Madagascar\", \"Malawi\", \"Malaysia\", \"Maldives\", \"Mali\", \"Malta\", \"Marshall Islands\", \"Mauritania\", \"Mauritius\", \"Mexico\", \"Micronesia\", \"Moldova\", \"Monaco\", \"Mongolia\", \"Montenegro\", \"Morocco\", \"Mozambique\", \"Myanmar\", \"Namibia\", \"Nauru\", \"Nepal\", \"Netherlands\", \"New Zealand\", \"Nicaragua\", \"Niger\", \"Nigeria\", \"North Korea\", \"Norway\", \"Oman\", \"Pakistan\", \"Palau\", \"Palestine\", \"Panama\", \"Papua New Guinea\", \"Paraguay\", \"Peru\", \"Philippines\", \"Poland\", \"Portugal\", \"Puerto Rico\", \"Qatar\", \"Republic of Congo\", \"Romania\", \"Russia\", \"Rwanda\", \"Saint Kitts\", \"Saint Lucia\", \"Saint Vincent\", \"Samoa\", \"San Marino\", \"Sao Tome and Principe\", \"Saudi Arabia\", \"Senegal\", \"Serbia\", \"Seychelles\", \"Sierra Leone\", \"Slovakia\", \"Slovenia\", \"Solomon Islands\", \"Somalia\", \"South Africa\", \"South Korea\", \"South Sudan\", \"Spain\", \"Sri Lanka\", \"Sudan\", \"Suriname\", \"Swaziland\", \"Sweden\", \"Switzerland\", \"Syria\", \"Taiwan\", \"Tajikistan\", \"Tanzania\", \"Thailand\", \"Timor-Leste\", \"Togo\", \"Tonga\", \"Trinidad\", \"Tunisia\", \"Turkey\", \"Turkmenistan\", \"UK\", \"USA\", \"Uganda\", \"Ukraine\", \"United Arab Emirates\", \"Uruguay\", \"Uzbekistan\", \"Vanuatu\", \"Venezuela\", \"Vietnam\", \"Virgin Islands, British\", \"Virgin Islands, US\", \"Yemen\", \"Zambia\", \"Zimbabwe\"], \"marker\": {\"line\": {\"color\": \"rgb(0,0,0)\", \"width\": 0.5}}, \"reversescale\": false, \"text\": [\"Afghanistan\", \"Albania\", \"Algeria\", \"American Samoa\", \"Andorra\", \"Angola\", \"Antigua\", \"Argentina\", \"Armenia\", \"Aruba\", \"Australia\", \"Austria\", \"Azerbaijan\", \"Bahamas\", \"Bahrain\", \"Bangladesh\", \"Barbados\", \"Belarus\", \"Belgium\", \"Belize\", \"Benin\", \"Bermuda\", \"Bhutan\", \"Boliva\", \"Bosnia and Herzegovina\", \"Botswana\", \"Brazil\", \"Brunei\", \"Bulgaria\", \"Burkina Faso\", \"Burundi\", \"Cambodia\", \"Cameroon\", \"Canada\", \"Cape Verde\", \"Cayman Islands\", \"Central African Republic\", \"Chad\", \"Chile\", \"China\", \"Colombia\", \"Comoros\", \"Cook Islands\", \"Costa Rica\", \"Croatia\", \"Cuba\", \"Curacao\", \"Cyprus\", \"Czech Republic\", \"Democratic Republic of the Congo\", \"Denmark\", \"Djibouti\", \"Dominica\", \"Dominican Republic\", \"Ecuador\", \"Egypt\", \"El Salvador\", \"Equatorial Guinea\", \"Eritrea\", \"Estonia\", \"Ethiopia\", \"Fiji\", \"Finland\", \"France\", \"Gabon\", \"Gambia\", \"Georgia\", \"Germany\", \"Ghana\", \"Greece\", \"Grenada\", \"Guam\", \"Guatemala\", \"Guinea\", \"Guinea-Bissau\", \"Guyana\", \"Haiti\", \"Honduras\", \"Hungary\", \"Iceland\", \"India\", \"Individual Olympic Athletes\", \"Indonesia\", \"Iran\", \"Iraq\", \"Ireland\", \"Israel\", \"Italy\", \"Ivory Coast\", \"Jamaica\", \"Japan\", \"Jordan\", \"Kazakhstan\", \"Kenya\", \"Kiribati\", \"Kosovo\", \"Kuwait\", \"Kyrgyzstan\", \"Laos\", \"Latvia\", \"Lebanon\", \"Lesotho\", \"Liberia\", \"Libya\", \"Liechtenstein\", \"Lithuania\", \"Luxembourg\", \"Macedonia\", \"Madagascar\", \"Malawi\", \"Malaysia\", \"Maldives\", \"Mali\", \"Malta\", \"Marshall Islands\", \"Mauritania\", \"Mauritius\", \"Mexico\", \"Micronesia\", \"Moldova\", \"Monaco\", \"Mongolia\", \"Montenegro\", \"Morocco\", \"Mozambique\", \"Myanmar\", \"Namibia\", \"Nauru\", \"Nepal\", \"Netherlands\", \"New Zealand\", \"Nicaragua\", \"Niger\", \"Nigeria\", \"North Korea\", \"Norway\", \"Oman\", \"Pakistan\", \"Palau\", \"Palestine\", \"Panama\", \"Papua New Guinea\", \"Paraguay\", \"Peru\", \"Philippines\", \"Poland\", \"Portugal\", \"Puerto Rico\", \"Qatar\", \"Republic of Congo\", \"Romania\", \"Russia\", \"Rwanda\", \"Saint Kitts\", \"Saint Lucia\", \"Saint Vincent\", \"Samoa\", \"San Marino\", \"Sao Tome and Principe\", \"Saudi Arabia\", \"Senegal\", \"Serbia\", \"Seychelles\", \"Sierra Leone\", \"Slovakia\", \"Slovenia\", \"Solomon Islands\", \"Somalia\", \"South Africa\", \"South Korea\", \"South Sudan\", \"Spain\", \"Sri Lanka\", \"Sudan\", \"Suriname\", \"Swaziland\", \"Sweden\", \"Switzerland\", \"Syria\", \"Taiwan\", \"Tajikistan\", \"Tanzania\", \"Thailand\", \"Timor-Leste\", \"Togo\", \"Tonga\", \"Trinidad\", \"Tunisia\", \"Turkey\", \"Turkmenistan\", \"UK\", \"USA\", \"Uganda\", \"Ukraine\", \"United Arab Emirates\", \"Uruguay\", \"Uzbekistan\", \"Vanuatu\", \"Venezuela\", \"Vietnam\", \"Virgin Islands, British\", \"Virgin Islands, US\", \"Yemen\", \"Zambia\", \"Zimbabwe\"], \"z\": [14, 8, 13, 8, 11, 9, 10, 24, 6, 8, 29, 28, 6, 16, 9, 9, 12, 6, 27, 12, 11, 18, 9, 14, 7, 10, 23, 5, 20, 9, 6, 9, 14, 27, 6, 10, 10, 12, 22, 19, 20, 6, 8, 15, 7, 21, 13, 10, 26, 10, 28, 8, 6, 14, 14, 21, 12, 9, 5, 12, 13, 14, 26, 29, 10, 9, 6, 26, 14, 29, 9, 8, 15, 11, 6, 17, 16, 11, 27, 21, 24, 4, 15, 17, 14, 21, 16, 29, 13, 17, 22, 10, 6, 14, 4, 1, 12, 6, 9, 11, 17, 11, 12, 10, 17, 9, 25, 6, 12, 10, 15, 8, 13, 16, 3, 9, 9, 23, 5, 6, 21, 13, 3, 14, 10, 17, 7, 6, 13, 27, 24, 12, 12, 16, 10, 27, 9, 17, 5, 6, 17, 10, 12, 20, 21, 22, 24, 18, 9, 12, 22, 20, 9, 6, 6, 8, 9, 14, 6, 11, 14, 23, 9, 11, 6, 7, 9, 9, 19, 17, 1, 23, 17, 12, 12, 10, 28, 29, 14, 14, 6, 13, 16, 4, 10, 9, 18, 14, 23, 6, 29, 28, 15, 6, 9, 21, 6, 8, 19, 15, 9, 12, 9, 13, 13], \"type\": \"choropleth\", \"uid\": \"7170becb-a1bd-4f4b-b065-38934f2c86d4\"}], {\"geo\": {\"projection\": {\"type\": \"orthographic\"}, \"showcoastlines\": true, \"showframe\": true, \"showlakes\": false}, \"title\": {\"text\": \"PARTICIPA\\u00c7\\u00c3O MUNDIAL NOS JOGOS OL\\u00cdMPICOS DE VER\\u00c3O\"}}, {\"showLink\": false, \"linkText\": \"Export to plot.ly\", \"plotlyServerURL\": \"https://plot.ly\"})});</script><script type=\"text/javascript\">window.addEventListener(\"resize\", function(){window._Plotly.Plots.resize(document.getElementById(\"fca54c92-1a2e-4d22-85f0-cd56b76b8451\"));});</script>"
      ]
     },
     "metadata": {},
     "output_type": "display_data"
    }
   ],
   "source": [
    "summer = olympic_editions['Season'] == 'Summer'\n",
    "summer_editions = olympic_editions[summer]\n",
    "\n",
    "draw_map(summer_editions, 'PARTICIPAÇÃO MUNDIAL NOS JOGOS OLÍMPICOS DE VERÃO', \"Reds\")"
   ]
  },
  {
   "cell_type": "markdown",
   "metadata": {},
   "source": [
    "## Participation per country in winter editions"
   ]
  },
  {
   "cell_type": "code",
   "execution_count": 15,
   "metadata": {},
   "outputs": [
    {
     "data": {
      "application/vnd.plotly.v1+json": {
       "config": {
        "linkText": "Export to plot.ly",
        "plotlyServerURL": "https://plot.ly",
        "showLink": false
       },
       "data": [
        {
         "autocolorscale": false,
         "colorbar": {
          "tickprefix": "",
          "title": {
           "text": "Edições"
          }
         },
         "colorscale": "Blues",
         "locationmode": "country names",
         "locations": [
          "Albania",
          "Algeria",
          "American Samoa",
          "Andorra",
          "Argentina",
          "Armenia",
          "Australia",
          "Austria",
          "Azerbaijan",
          "Belarus",
          "Belgium",
          "Bermuda",
          "Boliva",
          "Bosnia and Herzegovina",
          "Brazil",
          "Bulgaria",
          "Cameroon",
          "Canada",
          "Cayman Islands",
          "Chile",
          "China",
          "Colombia",
          "Costa Rica",
          "Croatia",
          "Curacao",
          "Cyprus",
          "Czech Republic",
          "Denmark",
          "Dominica",
          "Egypt",
          "Estonia",
          "Ethiopia",
          "Fiji",
          "Finland",
          "France",
          "Georgia",
          "Germany",
          "Ghana",
          "Greece",
          "Guam",
          "Guatemala",
          "Honduras",
          "Hungary",
          "Iceland",
          "India",
          "Individual Olympic Athletes",
          "Iran",
          "Ireland",
          "Israel",
          "Italy",
          "Jamaica",
          "Japan",
          "Kazakhstan",
          "Kenya",
          "Kyrgyzstan",
          "Latvia",
          "Lebanon",
          "Liechtenstein",
          "Lithuania",
          "Luxembourg",
          "Macedonia",
          "Madagascar",
          "Malta",
          "Mexico",
          "Moldova",
          "Monaco",
          "Mongolia",
          "Montenegro",
          "Morocco",
          "Nepal",
          "Netherlands",
          "New Zealand",
          "North Korea",
          "Norway",
          "Pakistan",
          "Paraguay",
          "Peru",
          "Philippines",
          "Poland",
          "Portugal",
          "Puerto Rico",
          "Romania",
          "Russia",
          "San Marino",
          "Senegal",
          "Serbia",
          "Slovakia",
          "Slovenia",
          "South Africa",
          "South Korea",
          "Spain",
          "Swaziland",
          "Sweden",
          "Switzerland",
          "Taiwan",
          "Tajikistan",
          "Thailand",
          "Timor-Leste",
          "Togo",
          "Tonga",
          "Trinidad",
          "Turkey",
          "UK",
          "USA",
          "Ukraine",
          "Uruguay",
          "Uzbekistan",
          "Venezuela",
          "Virgin Islands, British",
          "Virgin Islands, US",
          "Zimbabwe"
         ],
         "marker": {
          "line": {
           "color": "rgb(0,0,0)",
           "width": 0.5
          }
         },
         "reversescale": false,
         "text": [
          "Albania",
          "Algeria",
          "American Samoa",
          "Andorra",
          "Argentina",
          "Armenia",
          "Australia",
          "Austria",
          "Azerbaijan",
          "Belarus",
          "Belgium",
          "Bermuda",
          "Boliva",
          "Bosnia and Herzegovina",
          "Brazil",
          "Bulgaria",
          "Cameroon",
          "Canada",
          "Cayman Islands",
          "Chile",
          "China",
          "Colombia",
          "Costa Rica",
          "Croatia",
          "Curacao",
          "Cyprus",
          "Czech Republic",
          "Denmark",
          "Dominica",
          "Egypt",
          "Estonia",
          "Ethiopia",
          "Fiji",
          "Finland",
          "France",
          "Georgia",
          "Germany",
          "Ghana",
          "Greece",
          "Guam",
          "Guatemala",
          "Honduras",
          "Hungary",
          "Iceland",
          "India",
          "Individual Olympic Athletes",
          "Iran",
          "Ireland",
          "Israel",
          "Italy",
          "Jamaica",
          "Japan",
          "Kazakhstan",
          "Kenya",
          "Kyrgyzstan",
          "Latvia",
          "Lebanon",
          "Liechtenstein",
          "Lithuania",
          "Luxembourg",
          "Macedonia",
          "Madagascar",
          "Malta",
          "Mexico",
          "Moldova",
          "Monaco",
          "Mongolia",
          "Montenegro",
          "Morocco",
          "Nepal",
          "Netherlands",
          "New Zealand",
          "North Korea",
          "Norway",
          "Pakistan",
          "Paraguay",
          "Peru",
          "Philippines",
          "Poland",
          "Portugal",
          "Puerto Rico",
          "Romania",
          "Russia",
          "San Marino",
          "Senegal",
          "Serbia",
          "Slovakia",
          "Slovenia",
          "South Africa",
          "South Korea",
          "Spain",
          "Swaziland",
          "Sweden",
          "Switzerland",
          "Taiwan",
          "Tajikistan",
          "Thailand",
          "Timor-Leste",
          "Togo",
          "Tonga",
          "Trinidad",
          "Turkey",
          "UK",
          "USA",
          "Ukraine",
          "Uruguay",
          "Uzbekistan",
          "Venezuela",
          "Virgin Islands, British",
          "Virgin Islands, US",
          "Zimbabwe"
         ],
         "type": "choropleth",
         "uid": "4449987d-fcd9-43f4-aad2-0b548202b5b7",
         "z": [
          3,
          3,
          1,
          11,
          18,
          6,
          19,
          22,
          5,
          6,
          20,
          7,
          5,
          6,
          7,
          19,
          1,
          22,
          2,
          16,
          10,
          1,
          6,
          7,
          2,
          10,
          22,
          13,
          1,
          1,
          9,
          2,
          3,
          22,
          22,
          6,
          20,
          1,
          18,
          1,
          1,
          1,
          22,
          17,
          10,
          1,
          10,
          6,
          6,
          22,
          7,
          20,
          6,
          3,
          6,
          10,
          16,
          18,
          8,
          8,
          5,
          1,
          1,
          8,
          6,
          9,
          13,
          2,
          6,
          5,
          20,
          15,
          8,
          22,
          2,
          1,
          2,
          4,
          22,
          7,
          5,
          20,
          16,
          9,
          5,
          19,
          6,
          7,
          6,
          17,
          19,
          1,
          22,
          22,
          11,
          4,
          3,
          1,
          1,
          1,
          3,
          16,
          22,
          22,
          6,
          1,
          6,
          4,
          2,
          6,
          1
         ]
        }
       ],
       "layout": {
        "geo": {
         "projection": {
          "type": "equirectangular"
         },
         "showcoastlines": true,
         "showframe": true,
         "showlakes": false
        },
        "title": {
         "text": "PARTICIPAÇÃO MUNDIAL NOS JOGOS OLÍMPICOS DE INVERNO"
        }
       }
      },
      "text/html": [
       "<div id=\"5c85fea3-5a62-4c49-8b40-d95045270737\" style=\"height: 525px; width: 100%;\" class=\"plotly-graph-div\"></div><script type=\"text/javascript\">require([\"plotly\"], function(Plotly) { window.PLOTLYENV=window.PLOTLYENV || {};window.PLOTLYENV.BASE_URL=\"https://plot.ly\";Plotly.newPlot(\"5c85fea3-5a62-4c49-8b40-d95045270737\", [{\"autocolorscale\": false, \"colorbar\": {\"tickprefix\": \"\", \"title\": {\"text\": \"Edi\\u00e7\\u00f5es\"}}, \"colorscale\": \"Blues\", \"locationmode\": \"country names\", \"locations\": [\"Albania\", \"Algeria\", \"American Samoa\", \"Andorra\", \"Argentina\", \"Armenia\", \"Australia\", \"Austria\", \"Azerbaijan\", \"Belarus\", \"Belgium\", \"Bermuda\", \"Boliva\", \"Bosnia and Herzegovina\", \"Brazil\", \"Bulgaria\", \"Cameroon\", \"Canada\", \"Cayman Islands\", \"Chile\", \"China\", \"Colombia\", \"Costa Rica\", \"Croatia\", \"Curacao\", \"Cyprus\", \"Czech Republic\", \"Denmark\", \"Dominica\", \"Egypt\", \"Estonia\", \"Ethiopia\", \"Fiji\", \"Finland\", \"France\", \"Georgia\", \"Germany\", \"Ghana\", \"Greece\", \"Guam\", \"Guatemala\", \"Honduras\", \"Hungary\", \"Iceland\", \"India\", \"Individual Olympic Athletes\", \"Iran\", \"Ireland\", \"Israel\", \"Italy\", \"Jamaica\", \"Japan\", \"Kazakhstan\", \"Kenya\", \"Kyrgyzstan\", \"Latvia\", \"Lebanon\", \"Liechtenstein\", \"Lithuania\", \"Luxembourg\", \"Macedonia\", \"Madagascar\", \"Malta\", \"Mexico\", \"Moldova\", \"Monaco\", \"Mongolia\", \"Montenegro\", \"Morocco\", \"Nepal\", \"Netherlands\", \"New Zealand\", \"North Korea\", \"Norway\", \"Pakistan\", \"Paraguay\", \"Peru\", \"Philippines\", \"Poland\", \"Portugal\", \"Puerto Rico\", \"Romania\", \"Russia\", \"San Marino\", \"Senegal\", \"Serbia\", \"Slovakia\", \"Slovenia\", \"South Africa\", \"South Korea\", \"Spain\", \"Swaziland\", \"Sweden\", \"Switzerland\", \"Taiwan\", \"Tajikistan\", \"Thailand\", \"Timor-Leste\", \"Togo\", \"Tonga\", \"Trinidad\", \"Turkey\", \"UK\", \"USA\", \"Ukraine\", \"Uruguay\", \"Uzbekistan\", \"Venezuela\", \"Virgin Islands, British\", \"Virgin Islands, US\", \"Zimbabwe\"], \"marker\": {\"line\": {\"color\": \"rgb(0,0,0)\", \"width\": 0.5}}, \"reversescale\": false, \"text\": [\"Albania\", \"Algeria\", \"American Samoa\", \"Andorra\", \"Argentina\", \"Armenia\", \"Australia\", \"Austria\", \"Azerbaijan\", \"Belarus\", \"Belgium\", \"Bermuda\", \"Boliva\", \"Bosnia and Herzegovina\", \"Brazil\", \"Bulgaria\", \"Cameroon\", \"Canada\", \"Cayman Islands\", \"Chile\", \"China\", \"Colombia\", \"Costa Rica\", \"Croatia\", \"Curacao\", \"Cyprus\", \"Czech Republic\", \"Denmark\", \"Dominica\", \"Egypt\", \"Estonia\", \"Ethiopia\", \"Fiji\", \"Finland\", \"France\", \"Georgia\", \"Germany\", \"Ghana\", \"Greece\", \"Guam\", \"Guatemala\", \"Honduras\", \"Hungary\", \"Iceland\", \"India\", \"Individual Olympic Athletes\", \"Iran\", \"Ireland\", \"Israel\", \"Italy\", \"Jamaica\", \"Japan\", \"Kazakhstan\", \"Kenya\", \"Kyrgyzstan\", \"Latvia\", \"Lebanon\", \"Liechtenstein\", \"Lithuania\", \"Luxembourg\", \"Macedonia\", \"Madagascar\", \"Malta\", \"Mexico\", \"Moldova\", \"Monaco\", \"Mongolia\", \"Montenegro\", \"Morocco\", \"Nepal\", \"Netherlands\", \"New Zealand\", \"North Korea\", \"Norway\", \"Pakistan\", \"Paraguay\", \"Peru\", \"Philippines\", \"Poland\", \"Portugal\", \"Puerto Rico\", \"Romania\", \"Russia\", \"San Marino\", \"Senegal\", \"Serbia\", \"Slovakia\", \"Slovenia\", \"South Africa\", \"South Korea\", \"Spain\", \"Swaziland\", \"Sweden\", \"Switzerland\", \"Taiwan\", \"Tajikistan\", \"Thailand\", \"Timor-Leste\", \"Togo\", \"Tonga\", \"Trinidad\", \"Turkey\", \"UK\", \"USA\", \"Ukraine\", \"Uruguay\", \"Uzbekistan\", \"Venezuela\", \"Virgin Islands, British\", \"Virgin Islands, US\", \"Zimbabwe\"], \"z\": [3, 3, 1, 11, 18, 6, 19, 22, 5, 6, 20, 7, 5, 6, 7, 19, 1, 22, 2, 16, 10, 1, 6, 7, 2, 10, 22, 13, 1, 1, 9, 2, 3, 22, 22, 6, 20, 1, 18, 1, 1, 1, 22, 17, 10, 1, 10, 6, 6, 22, 7, 20, 6, 3, 6, 10, 16, 18, 8, 8, 5, 1, 1, 8, 6, 9, 13, 2, 6, 5, 20, 15, 8, 22, 2, 1, 2, 4, 22, 7, 5, 20, 16, 9, 5, 19, 6, 7, 6, 17, 19, 1, 22, 22, 11, 4, 3, 1, 1, 1, 3, 16, 22, 22, 6, 1, 6, 4, 2, 6, 1], \"type\": \"choropleth\", \"uid\": \"b4021387-7037-4135-8903-260f2a611db6\"}], {\"geo\": {\"projection\": {\"type\": \"equirectangular\"}, \"showcoastlines\": true, \"showframe\": true, \"showlakes\": false}, \"title\": {\"text\": \"PARTICIPA\\u00c7\\u00c3O MUNDIAL NOS JOGOS OL\\u00cdMPICOS DE INVERNO\"}}, {\"showLink\": false, \"linkText\": \"Export to plot.ly\", \"plotlyServerURL\": \"https://plot.ly\"})});</script><script type=\"text/javascript\">window.addEventListener(\"resize\", function(){window._Plotly.Plots.resize(document.getElementById(\"5c85fea3-5a62-4c49-8b40-d95045270737\"));});</script>"
      ],
      "text/vnd.plotly.v1+html": [
       "<div id=\"5c85fea3-5a62-4c49-8b40-d95045270737\" style=\"height: 525px; width: 100%;\" class=\"plotly-graph-div\"></div><script type=\"text/javascript\">require([\"plotly\"], function(Plotly) { window.PLOTLYENV=window.PLOTLYENV || {};window.PLOTLYENV.BASE_URL=\"https://plot.ly\";Plotly.newPlot(\"5c85fea3-5a62-4c49-8b40-d95045270737\", [{\"autocolorscale\": false, \"colorbar\": {\"tickprefix\": \"\", \"title\": {\"text\": \"Edi\\u00e7\\u00f5es\"}}, \"colorscale\": \"Blues\", \"locationmode\": \"country names\", \"locations\": [\"Albania\", \"Algeria\", \"American Samoa\", \"Andorra\", \"Argentina\", \"Armenia\", \"Australia\", \"Austria\", \"Azerbaijan\", \"Belarus\", \"Belgium\", \"Bermuda\", \"Boliva\", \"Bosnia and Herzegovina\", \"Brazil\", \"Bulgaria\", \"Cameroon\", \"Canada\", \"Cayman Islands\", \"Chile\", \"China\", \"Colombia\", \"Costa Rica\", \"Croatia\", \"Curacao\", \"Cyprus\", \"Czech Republic\", \"Denmark\", \"Dominica\", \"Egypt\", \"Estonia\", \"Ethiopia\", \"Fiji\", \"Finland\", \"France\", \"Georgia\", \"Germany\", \"Ghana\", \"Greece\", \"Guam\", \"Guatemala\", \"Honduras\", \"Hungary\", \"Iceland\", \"India\", \"Individual Olympic Athletes\", \"Iran\", \"Ireland\", \"Israel\", \"Italy\", \"Jamaica\", \"Japan\", \"Kazakhstan\", \"Kenya\", \"Kyrgyzstan\", \"Latvia\", \"Lebanon\", \"Liechtenstein\", \"Lithuania\", \"Luxembourg\", \"Macedonia\", \"Madagascar\", \"Malta\", \"Mexico\", \"Moldova\", \"Monaco\", \"Mongolia\", \"Montenegro\", \"Morocco\", \"Nepal\", \"Netherlands\", \"New Zealand\", \"North Korea\", \"Norway\", \"Pakistan\", \"Paraguay\", \"Peru\", \"Philippines\", \"Poland\", \"Portugal\", \"Puerto Rico\", \"Romania\", \"Russia\", \"San Marino\", \"Senegal\", \"Serbia\", \"Slovakia\", \"Slovenia\", \"South Africa\", \"South Korea\", \"Spain\", \"Swaziland\", \"Sweden\", \"Switzerland\", \"Taiwan\", \"Tajikistan\", \"Thailand\", \"Timor-Leste\", \"Togo\", \"Tonga\", \"Trinidad\", \"Turkey\", \"UK\", \"USA\", \"Ukraine\", \"Uruguay\", \"Uzbekistan\", \"Venezuela\", \"Virgin Islands, British\", \"Virgin Islands, US\", \"Zimbabwe\"], \"marker\": {\"line\": {\"color\": \"rgb(0,0,0)\", \"width\": 0.5}}, \"reversescale\": false, \"text\": [\"Albania\", \"Algeria\", \"American Samoa\", \"Andorra\", \"Argentina\", \"Armenia\", \"Australia\", \"Austria\", \"Azerbaijan\", \"Belarus\", \"Belgium\", \"Bermuda\", \"Boliva\", \"Bosnia and Herzegovina\", \"Brazil\", \"Bulgaria\", \"Cameroon\", \"Canada\", \"Cayman Islands\", \"Chile\", \"China\", \"Colombia\", \"Costa Rica\", \"Croatia\", \"Curacao\", \"Cyprus\", \"Czech Republic\", \"Denmark\", \"Dominica\", \"Egypt\", \"Estonia\", \"Ethiopia\", \"Fiji\", \"Finland\", \"France\", \"Georgia\", \"Germany\", \"Ghana\", \"Greece\", \"Guam\", \"Guatemala\", \"Honduras\", \"Hungary\", \"Iceland\", \"India\", \"Individual Olympic Athletes\", \"Iran\", \"Ireland\", \"Israel\", \"Italy\", \"Jamaica\", \"Japan\", \"Kazakhstan\", \"Kenya\", \"Kyrgyzstan\", \"Latvia\", \"Lebanon\", \"Liechtenstein\", \"Lithuania\", \"Luxembourg\", \"Macedonia\", \"Madagascar\", \"Malta\", \"Mexico\", \"Moldova\", \"Monaco\", \"Mongolia\", \"Montenegro\", \"Morocco\", \"Nepal\", \"Netherlands\", \"New Zealand\", \"North Korea\", \"Norway\", \"Pakistan\", \"Paraguay\", \"Peru\", \"Philippines\", \"Poland\", \"Portugal\", \"Puerto Rico\", \"Romania\", \"Russia\", \"San Marino\", \"Senegal\", \"Serbia\", \"Slovakia\", \"Slovenia\", \"South Africa\", \"South Korea\", \"Spain\", \"Swaziland\", \"Sweden\", \"Switzerland\", \"Taiwan\", \"Tajikistan\", \"Thailand\", \"Timor-Leste\", \"Togo\", \"Tonga\", \"Trinidad\", \"Turkey\", \"UK\", \"USA\", \"Ukraine\", \"Uruguay\", \"Uzbekistan\", \"Venezuela\", \"Virgin Islands, British\", \"Virgin Islands, US\", \"Zimbabwe\"], \"z\": [3, 3, 1, 11, 18, 6, 19, 22, 5, 6, 20, 7, 5, 6, 7, 19, 1, 22, 2, 16, 10, 1, 6, 7, 2, 10, 22, 13, 1, 1, 9, 2, 3, 22, 22, 6, 20, 1, 18, 1, 1, 1, 22, 17, 10, 1, 10, 6, 6, 22, 7, 20, 6, 3, 6, 10, 16, 18, 8, 8, 5, 1, 1, 8, 6, 9, 13, 2, 6, 5, 20, 15, 8, 22, 2, 1, 2, 4, 22, 7, 5, 20, 16, 9, 5, 19, 6, 7, 6, 17, 19, 1, 22, 22, 11, 4, 3, 1, 1, 1, 3, 16, 22, 22, 6, 1, 6, 4, 2, 6, 1], \"type\": \"choropleth\", \"uid\": \"b4021387-7037-4135-8903-260f2a611db6\"}], {\"geo\": {\"projection\": {\"type\": \"equirectangular\"}, \"showcoastlines\": true, \"showframe\": true, \"showlakes\": false}, \"title\": {\"text\": \"PARTICIPA\\u00c7\\u00c3O MUNDIAL NOS JOGOS OL\\u00cdMPICOS DE INVERNO\"}}, {\"showLink\": false, \"linkText\": \"Export to plot.ly\", \"plotlyServerURL\": \"https://plot.ly\"})});</script><script type=\"text/javascript\">window.addEventListener(\"resize\", function(){window._Plotly.Plots.resize(document.getElementById(\"5c85fea3-5a62-4c49-8b40-d95045270737\"));});</script>"
      ]
     },
     "metadata": {},
     "output_type": "display_data"
    }
   ],
   "source": [
    "winter = olympic_editions['Season'] == 'Winter'\n",
    "winter_editions = olympic_editions[winter]\n",
    "\n",
    "draw_map(winter_editions, 'PARTICIPAÇÃO MUNDIAL NOS JOGOS OLÍMPICOS DE INVERNO', \"Blues\", 'equirectangular')"
   ]
  },
  {
   "cell_type": "markdown",
   "metadata": {},
   "source": [
    "## BUCKET SORT"
   ]
  },
  {
   "cell_type": "code",
   "execution_count": 16,
   "metadata": {},
   "outputs": [],
   "source": [
    "def bucket_sort(athletes):\n",
    "    \"\"\"Implement bucket sort algorithm\n",
    "    \n",
    "    Attributes:\n",
    "        athletes: list with all olympic athletes.\n",
    "    \"\"\"\n",
    "    \n",
    "    length = int(len(athletes))\n",
    " \n",
    "    buckets = [[] for _ in range(26)]\n",
    "    for i in range(length):\n",
    "        bucket = int(ord(athletes[i].name[0])) - 65\n",
    "        if bucket >= 0 and bucket < 26 :\n",
    "            buckets[bucket].append(athletes[i])\n",
    " \n",
    "    return buckets"
   ]
  },
  {
   "cell_type": "code",
   "execution_count": 17,
   "metadata": {},
   "outputs": [],
   "source": [
    "def bucket_quick_sort(athletes):\n",
    "    \n",
    "    buckets = bucket_sort(athletes)\n",
    "    \n",
    "    for i in range(len(buckets)):\n",
    "        quick_sort(buckets[i])\n",
    "\n",
    "    return list(chain(*buckets))"
   ]
  },
  {
   "cell_type": "code",
   "execution_count": 18,
   "metadata": {},
   "outputs": [],
   "source": [
    "def bucket_merge_sort(athletes):\n",
    "    \n",
    "    buckets = bucket_sort(athletes)\n",
    "    \n",
    "    for i in range(len(buckets)):\n",
    "        merge_sort(buckets[i])\n",
    "\n",
    "    return list(chain(*buckets))"
   ]
  },
  {
   "cell_type": "code",
   "execution_count": 19,
   "metadata": {},
   "outputs": [],
   "source": [
    "def show_buckets(len_buckets):\n",
    "    \n",
    "    plt.grid(which='major', axis='y', color='green', linewidth=0.3)\n",
    "    plt.bar([i for i in range(1,27)], height=len_buckets) \n",
    "    plt.xticks([i for i in range(1,27)], [chr(i) for i in range(65,91)])\n",
    "    plt.xlabel('buckets')\n",
    "    plt.ylabel('athletes')\n",
    "    \n",
    "    plt.plot()"
   ]
  },
  {
   "cell_type": "code",
   "execution_count": 20,
   "metadata": {},
   "outputs": [],
   "source": [
    "def length_bucket(buckets):\n",
    "    len_buckets = []\n",
    "    for i in range(len(buckets)):\n",
    "        len_buckets.append(len(buckets[i]))\n",
    "    \n",
    "    show_buckets(len_buckets)"
   ]
  },
  {
   "cell_type": "markdown",
   "metadata": {},
   "source": [
    "### BUCKET SPLIT"
   ]
  },
  {
   "cell_type": "code",
   "execution_count": 21,
   "metadata": {},
   "outputs": [
    {
     "data": {
      "image/png": "[encoded data removed]",
      "text/plain": [
       "<Figure size 432x288 with 1 Axes>"
      ]
     },
     "metadata": {
      "needs_background": "light"
     },
     "output_type": "display_data"
    }
   ],
   "source": [
    "bucket = bucket_sort(ATHLETES.copy())\n",
    "length_bucket(bucket)"
   ]
  },
  {
   "cell_type": "markdown",
   "metadata": {},
   "source": [
    "## QUICK SORT"
   ]
  },
  {
   "cell_type": "code",
   "execution_count": 22,
   "metadata": {},
   "outputs": [],
   "source": [
    "def partition(athletes, low, high): \n",
    "    i = ( low-1 )        \n",
    "    pivot = athletes[high]      \n",
    "  \n",
    "    for j in range(low , high): \n",
    "        if athletes[j].name <= pivot.name: \n",
    "            i += 1 \n",
    "            athletes[i], athletes[j] = athletes[j], athletes[i] \n",
    "  \n",
    "    athletes[i+1], athletes[high] = athletes[high], athletes[i+1] \n",
    "    return ( i+1 ) \n",
    "  \n",
    "def quick_sort(athletes, low = 0, high = None):\n",
    "    \"\"\"Implement quick sort algorithm\n",
    "    \n",
    "    Attributes:\n",
    "        athletes: list with all olympic athletes.\n",
    "    \"\"\"\n",
    "    if high is None:\n",
    "        high = len(athletes) - 1\n",
    "    if low < high: \n",
    "        pivot = partition(athletes,low,high) \n",
    "        quick_sort(athletes, low, pivot - 1) \n",
    "        quick_sort(athletes, pivot + 1, high) \n",
    "    return athletes"
   ]
  },
  {
   "cell_type": "markdown",
   "metadata": {},
   "source": [
    "## MERGE SORT"
   ]
  },
  {
   "cell_type": "code",
   "execution_count": 23,
   "metadata": {},
   "outputs": [],
   "source": [
    "def merge_sort(athletes):\n",
    "    \"\"\"Implement merge sort algorithm\n",
    "    \n",
    "    Attributes:\n",
    "        athletes: list with all olympic athletes.\n",
    "    \"\"\"\n",
    "    if(len(athletes) > 1):\n",
    "        middle = int(len(athletes)/2)\n",
    "\n",
    "        left = athletes[:middle]\n",
    "        right = athletes[middle:]\n",
    "\n",
    "        merge_sort(left)\n",
    "        merge_sort(right)\n",
    "\n",
    "        i, j, k = [0, 0, 0]\n",
    "\n",
    "        while(i < len(left) and j < len(right)):\n",
    "            if(left[i].name < right[j].name):\n",
    "                athletes[k] = left[i]\n",
    "                i += 1\n",
    "            else:\n",
    "                athletes[k] = right[j]\n",
    "                j += 1\n",
    "\n",
    "            k += 1\n",
    "\n",
    "        while(i < len(left)):\n",
    "            athletes[k] = left[i]\n",
    "            k += 1\n",
    "            i += 1\n",
    "\n",
    "        while(j < len(right)):\n",
    "            athletes[k] = right[j]\n",
    "            j += 1\n",
    "            k += 1\n",
    "    return athletes"
   ]
  },
  {
   "cell_type": "markdown",
   "metadata": {},
   "source": [
    "# COMPUTE ALGORITHMS TIME COMPLEXITY"
   ]
  },
  {
   "cell_type": "code",
   "execution_count": 24,
   "metadata": {},
   "outputs": [],
   "source": [
    "def execution_time(athletes, function):\n",
    "    \"\"\"Time taken to sort athletes with certain function\n",
    "    \n",
    "    Attributes:\n",
    "        athletes: list with all olympic athletes;\n",
    "        function: bucket_quick_sort, bucket_merge_sort, quick_sort or merge_sort.\n",
    "    \"\"\"\n",
    "    begin = time.time()\n",
    "    function(athletes.copy())\n",
    "    end = time.time()\n",
    "\n",
    "    time_spend = end - begin\n",
    "    \n",
    "    return time_spend"
   ]
  },
  {
   "cell_type": "code",
   "execution_count": 25,
   "metadata": {},
   "outputs": [],
   "source": [
    "def algorithms_complexity(athletes):\n",
    "    \"\"\"Evaluate taken time to four sort algorithms methods\n",
    "    \n",
    "    Attributes:\n",
    "        athletes: list with all olympic athletes;\n",
    "    \"\"\"\n",
    "    print(\">>> LOADING <<<: GENERATING GRAPHIC!\")\n",
    "    \n",
    "    functions = [bucket_quick_sort, bucket_merge_sort, quick_sort, merge_sort]\n",
    "    \n",
    "    bar = IntProgress(min=0, max = 4, description='PROGRESS:') # instantiate the bar\n",
    "    display(bar)\n",
    "    \n",
    "    times = []\n",
    "    for function in functions:\n",
    "        time_spend = execution_time(athletes.copy(), function)\n",
    "        times.append(time_spend)\n",
    "        \n",
    "        bar.value += 1\n",
    "    \n",
    "    return times"
   ]
  },
  {
   "cell_type": "markdown",
   "metadata": {},
   "source": [
    "## Histogram box plot"
   ]
  },
  {
   "cell_type": "code",
   "execution_count": 26,
   "metadata": {},
   "outputs": [],
   "source": [
    "def plot_histogram(times):\n",
    "    \"\"\"Plot algorithm complexity of four sort algorithms\n",
    "    \n",
    "    Attributes:\n",
    "        times: list with time taken to evaluate bucket, quick and merge algorithms.\n",
    "    \"\"\"\n",
    "    plt.grid(which='major', axis='y', color='green', linewidth=0.3)\n",
    "    plt.bar([1, 2, 3, 4], height=times) \n",
    "    plt.xticks([1, 2, 3, 4], ['bucket_quick','bucket_merge','quick','merge'])\n",
    "    plt.xlabel('sort method')\n",
    "    plt.ylabel('seconds')\n",
    "    \n",
    "    plt.plot()"
   ]
  },
  {
   "cell_type": "code",
   "execution_count": 27,
   "metadata": {},
   "outputs": [
    {
     "name": "stdout",
     "output_type": "stream",
     "text": [
      ">>> LOADING <<<: GENERATING GRAPHIC!\n"
     ]
    },
    {
     "data": {
      "application/vnd.jupyter.widget-view+json": {
       "model_id": "eae70efb64244e78852cc4965ef7712b",
       "version_major": 2,
       "version_minor": 0
      },
      "text/plain": [
       "IntProgress(value=0, description='PROGRESS:', max=4)"
      ]
     },
     "metadata": {},
     "output_type": "display_data"
    },
    {
     "data": {
      "image/png": "[encoded data removed]",
      "text/plain": [
       "<Figure size 432x288 with 1 Axes>"
      ]
     },
     "metadata": {
      "needs_background": "light"
     },
     "output_type": "display_data"
    }
   ],
   "source": [
    "times_unordered = list(algorithms_complexity(ATHLETES.copy()))\n",
    "plot_histogram(times_unordered)"
   ]
  },
  {
   "cell_type": "markdown",
   "metadata": {},
   "source": [
    "## Violin box plot"
   ]
  },
  {
   "cell_type": "code",
   "execution_count": 28,
   "metadata": {},
   "outputs": [],
   "source": [
    "athletes_length = len(ATHLETE_EVENTS_CSV)\n",
    "\n",
    "random_athletes_samples = []\n",
    "for i in range(0, athletes_length, 20000):\n",
    "    random_sample = random.sample(ATHLETES, i)\n",
    "\n",
    "    random_athletes_samples.append(random_sample)"
   ]
  },
  {
   "cell_type": "code",
   "execution_count": 29,
   "metadata": {},
   "outputs": [
    {
     "name": "stdout",
     "output_type": "stream",
     "text": [
      "14 vetores com tamanhos variados e atletas randômicos\n",
      ">>> LOADING <<<: GENERATING GRAPHIC!\n"
     ]
    },
    {
     "data": {
      "application/vnd.jupyter.widget-view+json": {
       "model_id": "6ca03c97a57c4e9eb12455818cfce262",
       "version_major": 2,
       "version_minor": 0
      },
      "text/plain": [
       "IntProgress(value=0, description='PROGRESS:', max=4)"
      ]
     },
     "metadata": {},
     "output_type": "display_data"
    },
    {
     "name": "stdout",
     "output_type": "stream",
     "text": [
      ">>> LOADING <<<: GENERATING GRAPHIC!\n"
     ]
    },
    {
     "data": {
      "application/vnd.jupyter.widget-view+json": {
       "model_id": "29f8c6650409498ebe569d840d88218f",
       "version_major": 2,
       "version_minor": 0
      },
      "text/plain": [
       "IntProgress(value=0, description='PROGRESS:', max=4)"
      ]
     },
     "metadata": {},
     "output_type": "display_data"
    },
    {
     "name": "stdout",
     "output_type": "stream",
     "text": [
      ">>> LOADING <<<: GENERATING GRAPHIC!\n"
     ]
    },
    {
     "data": {
      "application/vnd.jupyter.widget-view+json": {
       "model_id": "c9a52bbf0bad4d58b222333c8df8ff0c",
       "version_major": 2,
       "version_minor": 0
      },
      "text/plain": [
       "IntProgress(value=0, description='PROGRESS:', max=4)"
      ]
     },
     "metadata": {},
     "output_type": "display_data"
    },
    {
     "name": "stdout",
     "output_type": "stream",
     "text": [
      ">>> LOADING <<<: GENERATING GRAPHIC!\n"
     ]
    },
    {
     "data": {
      "application/vnd.jupyter.widget-view+json": {
       "model_id": "372919068e574246a673445cd6854dc3",
       "version_major": 2,
       "version_minor": 0
      },
      "text/plain": [
       "IntProgress(value=0, description='PROGRESS:', max=4)"
      ]
     },
     "metadata": {},
     "output_type": "display_data"
    },
    {
     "name": "stdout",
     "output_type": "stream",
     "text": [
      ">>> LOADING <<<: GENERATING GRAPHIC!\n"
     ]
    },
    {
     "data": {
      "application/vnd.jupyter.widget-view+json": {
       "model_id": "94acb546b7a240a9baddcbf72e959e7d",
       "version_major": 2,
       "version_minor": 0
      },
      "text/plain": [
       "IntProgress(value=0, description='PROGRESS:', max=4)"
      ]
     },
     "metadata": {},
     "output_type": "display_data"
    },
    {
     "name": "stdout",
     "output_type": "stream",
     "text": [
      ">>> LOADING <<<: GENERATING GRAPHIC!\n"
     ]
    },
    {
     "data": {
      "application/vnd.jupyter.widget-view+json": {
       "model_id": "9b44994423974495baa7f0da8d48b714",
       "version_major": 2,
       "version_minor": 0
      },
      "text/plain": [
       "IntProgress(value=0, description='PROGRESS:', max=4)"
      ]
     },
     "metadata": {},
     "output_type": "display_data"
    },
    {
     "name": "stdout",
     "output_type": "stream",
     "text": [
      ">>> LOADING <<<: GENERATING GRAPHIC!\n"
     ]
    },
    {
     "data": {
      "application/vnd.jupyter.widget-view+json": {
       "model_id": "bae582e9437a4f72bff7105816e42adc",
       "version_major": 2,
       "version_minor": 0
      },
      "text/plain": [
       "IntProgress(value=0, description='PROGRESS:', max=4)"
      ]
     },
     "metadata": {},
     "output_type": "display_data"
    },
    {
     "name": "stdout",
     "output_type": "stream",
     "text": [
      ">>> LOADING <<<: GENERATING GRAPHIC!\n"
     ]
    },
    {
     "data": {
      "application/vnd.jupyter.widget-view+json": {
       "model_id": "9063dc07d7f54950884dbfa04413789d",
       "version_major": 2,
       "version_minor": 0
      },
      "text/plain": [
       "IntProgress(value=0, description='PROGRESS:', max=4)"
      ]
     },
     "metadata": {},
     "output_type": "display_data"
    },
    {
     "name": "stdout",
     "output_type": "stream",
     "text": [
      ">>> LOADING <<<: GENERATING GRAPHIC!\n"
     ]
    },
    {
     "data": {
      "application/vnd.jupyter.widget-view+json": {
       "model_id": "778bd7efd1064cd7a287ae55e4490d73",
       "version_major": 2,
       "version_minor": 0
      },
      "text/plain": [
       "IntProgress(value=0, description='PROGRESS:', max=4)"
      ]
     },
     "metadata": {},
     "output_type": "display_data"
    },
    {
     "name": "stdout",
     "output_type": "stream",
     "text": [
      ">>> LOADING <<<: GENERATING GRAPHIC!\n"
     ]
    },
    {
     "data": {
      "application/vnd.jupyter.widget-view+json": {
       "model_id": "670d8c84eea74cceb9c9d6fd75456c43",
       "version_major": 2,
       "version_minor": 0
      },
      "text/plain": [
       "IntProgress(value=0, description='PROGRESS:', max=4)"
      ]
     },
     "metadata": {},
     "output_type": "display_data"
    },
    {
     "name": "stdout",
     "output_type": "stream",
     "text": [
      ">>> LOADING <<<: GENERATING GRAPHIC!\n"
     ]
    },
    {
     "data": {
      "application/vnd.jupyter.widget-view+json": {
       "model_id": "a712c8c4fb5b46828cf54a2762975fd6",
       "version_major": 2,
       "version_minor": 0
      },
      "text/plain": [
       "IntProgress(value=0, description='PROGRESS:', max=4)"
      ]
     },
     "metadata": {},
     "output_type": "display_data"
    },
    {
     "name": "stdout",
     "output_type": "stream",
     "text": [
      ">>> LOADING <<<: GENERATING GRAPHIC!\n"
     ]
    },
    {
     "data": {
      "application/vnd.jupyter.widget-view+json": {
       "model_id": "a3a403b7b84248a080c223effb4a2133",
       "version_major": 2,
       "version_minor": 0
      },
      "text/plain": [
       "IntProgress(value=0, description='PROGRESS:', max=4)"
      ]
     },
     "metadata": {},
     "output_type": "display_data"
    },
    {
     "name": "stdout",
     "output_type": "stream",
     "text": [
      ">>> LOADING <<<: GENERATING GRAPHIC!\n"
     ]
    },
    {
     "data": {
      "application/vnd.jupyter.widget-view+json": {
       "model_id": "981dab5725764bd7880ef198df80d4e8",
       "version_major": 2,
       "version_minor": 0
      },
      "text/plain": [
       "IntProgress(value=0, description='PROGRESS:', max=4)"
      ]
     },
     "metadata": {},
     "output_type": "display_data"
    },
    {
     "name": "stdout",
     "output_type": "stream",
     "text": [
      ">>> LOADING <<<: GENERATING GRAPHIC!\n"
     ]
    },
    {
     "data": {
      "application/vnd.jupyter.widget-view+json": {
       "model_id": "cf21f0f6e9664e7eaea5bac077ba121d",
       "version_major": 2,
       "version_minor": 0
      },
      "text/plain": [
       "IntProgress(value=0, description='PROGRESS:', max=4)"
      ]
     },
     "metadata": {},
     "output_type": "display_data"
    }
   ],
   "source": [
    "print('{} vetores com tamanhos variados e atletas randômicos'.format(len(random_athletes_samples)))\n",
    "\n",
    "times = []\n",
    "for athlete_sample in random_athletes_samples:\n",
    "    algorithm_times = algorithms_complexity(athlete_sample)\n",
    "    times.append(algorithm_times)"
   ]
  },
  {
   "cell_type": "code",
   "execution_count": 30,
   "metadata": {},
   "outputs": [
    {
     "data": {
      "application/vnd.plotly.v1+json": {
       "config": {
        "linkText": "Export to plot.ly",
        "plotlyServerURL": "https://plot.ly",
        "showLink": false
       },
       "data": [
        {
         "box": {
          "visible": true
         },
         "meanline": {
          "visible": true
         },
         "name": "Bucket Quick",
         "type": "violin",
         "x": "Bucket Quick",
         "y": [
          4.029273986816406e-05,
          0.13122773170471191,
          0.23932981491088867,
          0.5903167724609375,
          0.46906542778015137,
          0.58040452003479,
          0.745858907699585,
          0.8522326946258545,
          1.0231313705444336,
          1.209414005279541,
          1.3215360641479492,
          1.8007316589355469,
          1.5851376056671143,
          1.7021851539611816
         ]
        },
        {
         "box": {
          "visible": true
         },
         "meanline": {
          "visible": true
         },
         "name": "Bucket Merge",
         "type": "violin",
         "x": "Bucket Merge",
         "y": [
          3.3855438232421875e-05,
          0.13116049766540527,
          0.27368712425231934,
          0.4444911479949951,
          0.597491979598999,
          0.777970552444458,
          1.2111151218414307,
          1.1349318027496338,
          1.3355906009674072,
          1.7196400165557861,
          2.065281867980957,
          1.8782215118408203,
          2.108154058456421,
          2.28718638420105
         ]
        },
        {
         "box": {
          "visible": true
         },
         "meanline": {
          "visible": true
         },
         "name": "Quick sort",
         "type": "violin",
         "x": "Quick sort",
         "y": [
          4.0531158447265625e-06,
          0.12668347358703613,
          0.30980563163757324,
          0.4736182689666748,
          0.6572437286376953,
          0.7943856716156006,
          1.0209028720855713,
          1.1831178665161133,
          1.4251384735107422,
          1.5719020366668701,
          2.384228467941284,
          1.9785923957824707,
          2.2755961418151855,
          2.341818332672119
         ]
        },
        {
         "box": {
          "visible": true
         },
         "meanline": {
          "visible": true
         },
         "name": "Merge sort",
         "type": "violin",
         "x": "Merge sort",
         "y": [
          2.86102294921875e-06,
          0.17892837524414062,
          0.46175551414489746,
          0.6166982650756836,
          0.8516921997070312,
          1.094313144683838,
          1.3210530281066895,
          1.6059401035308838,
          1.8213574886322021,
          2.0883514881134033,
          2.338772773742676,
          2.585278034210205,
          2.8584725856781006,
          3.1112101078033447
         ]
        }
       ],
       "layout": {
        "title": "Violin Box Plot - Algoritmos de ordenação",
        "yaxis": {
         "title": "seconds",
         "zeroline": false
        }
       }
      },
      "text/html": [
       "<div id=\"f6ac625b-850a-41ae-97af-7b793c33e876\" style=\"height: 525px; width: 100%;\" class=\"plotly-graph-div\"></div><script type=\"text/javascript\">require([\"plotly\"], function(Plotly) { window.PLOTLYENV=window.PLOTLYENV || {};window.PLOTLYENV.BASE_URL=\"https://plot.ly\";Plotly.newPlot(\"f6ac625b-850a-41ae-97af-7b793c33e876\", [{\"type\": \"violin\", \"x\": \"Bucket Quick\", \"y\": [4.029273986816406e-05, 0.13122773170471191, 0.23932981491088867, 0.5903167724609375, 0.46906542778015137, 0.58040452003479, 0.745858907699585, 0.8522326946258545, 1.0231313705444336, 1.209414005279541, 1.3215360641479492, 1.8007316589355469, 1.5851376056671143, 1.7021851539611816], \"name\": \"Bucket Quick\", \"box\": {\"visible\": true}, \"meanline\": {\"visible\": true}}, {\"type\": \"violin\", \"x\": \"Bucket Merge\", \"y\": [3.3855438232421875e-05, 0.13116049766540527, 0.27368712425231934, 0.4444911479949951, 0.597491979598999, 0.777970552444458, 1.2111151218414307, 1.1349318027496338, 1.3355906009674072, 1.7196400165557861, 2.065281867980957, 1.8782215118408203, 2.108154058456421, 2.28718638420105], \"name\": \"Bucket Merge\", \"box\": {\"visible\": true}, \"meanline\": {\"visible\": true}}, {\"type\": \"violin\", \"x\": \"Quick sort\", \"y\": [4.0531158447265625e-06, 0.12668347358703613, 0.30980563163757324, 0.4736182689666748, 0.6572437286376953, 0.7943856716156006, 1.0209028720855713, 1.1831178665161133, 1.4251384735107422, 1.5719020366668701, 2.384228467941284, 1.9785923957824707, 2.2755961418151855, 2.341818332672119], \"name\": \"Quick sort\", \"box\": {\"visible\": true}, \"meanline\": {\"visible\": true}}, {\"type\": \"violin\", \"x\": \"Merge sort\", \"y\": [2.86102294921875e-06, 0.17892837524414062, 0.46175551414489746, 0.6166982650756836, 0.8516921997070312, 1.094313144683838, 1.3210530281066895, 1.6059401035308838, 1.8213574886322021, 2.0883514881134033, 2.338772773742676, 2.585278034210205, 2.8584725856781006, 3.1112101078033447], \"name\": \"Merge sort\", \"box\": {\"visible\": true}, \"meanline\": {\"visible\": true}}], {\"title\": \"Violin Box Plot - Algoritmos de ordena\\u00e7\\u00e3o\", \"yaxis\": {\"title\": \"seconds\", \"zeroline\": false}}, {\"showLink\": false, \"linkText\": \"Export to plot.ly\", \"plotlyServerURL\": \"https://plot.ly\"})});</script><script type=\"text/javascript\">window.addEventListener(\"resize\", function(){window._Plotly.Plots.resize(document.getElementById(\"f6ac625b-850a-41ae-97af-7b793c33e876\"));});</script>"
      ],
      "text/vnd.plotly.v1+html": [
       "<div id=\"f6ac625b-850a-41ae-97af-7b793c33e876\" style=\"height: 525px; width: 100%;\" class=\"plotly-graph-div\"></div><script type=\"text/javascript\">require([\"plotly\"], function(Plotly) { window.PLOTLYENV=window.PLOTLYENV || {};window.PLOTLYENV.BASE_URL=\"https://plot.ly\";Plotly.newPlot(\"f6ac625b-850a-41ae-97af-7b793c33e876\", [{\"type\": \"violin\", \"x\": \"Bucket Quick\", \"y\": [4.029273986816406e-05, 0.13122773170471191, 0.23932981491088867, 0.5903167724609375, 0.46906542778015137, 0.58040452003479, 0.745858907699585, 0.8522326946258545, 1.0231313705444336, 1.209414005279541, 1.3215360641479492, 1.8007316589355469, 1.5851376056671143, 1.7021851539611816], \"name\": \"Bucket Quick\", \"box\": {\"visible\": true}, \"meanline\": {\"visible\": true}}, {\"type\": \"violin\", \"x\": \"Bucket Merge\", \"y\": [3.3855438232421875e-05, 0.13116049766540527, 0.27368712425231934, 0.4444911479949951, 0.597491979598999, 0.777970552444458, 1.2111151218414307, 1.1349318027496338, 1.3355906009674072, 1.7196400165557861, 2.065281867980957, 1.8782215118408203, 2.108154058456421, 2.28718638420105], \"name\": \"Bucket Merge\", \"box\": {\"visible\": true}, \"meanline\": {\"visible\": true}}, {\"type\": \"violin\", \"x\": \"Quick sort\", \"y\": [4.0531158447265625e-06, 0.12668347358703613, 0.30980563163757324, 0.4736182689666748, 0.6572437286376953, 0.7943856716156006, 1.0209028720855713, 1.1831178665161133, 1.4251384735107422, 1.5719020366668701, 2.384228467941284, 1.9785923957824707, 2.2755961418151855, 2.341818332672119], \"name\": \"Quick sort\", \"box\": {\"visible\": true}, \"meanline\": {\"visible\": true}}, {\"type\": \"violin\", \"x\": \"Merge sort\", \"y\": [2.86102294921875e-06, 0.17892837524414062, 0.46175551414489746, 0.6166982650756836, 0.8516921997070312, 1.094313144683838, 1.3210530281066895, 1.6059401035308838, 1.8213574886322021, 2.0883514881134033, 2.338772773742676, 2.585278034210205, 2.8584725856781006, 3.1112101078033447], \"name\": \"Merge sort\", \"box\": {\"visible\": true}, \"meanline\": {\"visible\": true}}], {\"title\": \"Violin Box Plot - Algoritmos de ordena\\u00e7\\u00e3o\", \"yaxis\": {\"title\": \"seconds\", \"zeroline\": false}}, {\"showLink\": false, \"linkText\": \"Export to plot.ly\", \"plotlyServerURL\": \"https://plot.ly\"})});</script><script type=\"text/javascript\">window.addEventListener(\"resize\", function(){window._Plotly.Plots.resize(document.getElementById(\"f6ac625b-850a-41ae-97af-7b793c33e876\"));});</script>"
      ]
     },
     "metadata": {},
     "output_type": "display_data"
    }
   ],
   "source": [
    "algorithms_times = [\n",
    "    ['Bucket Quick', list(zip(*times))[0]],\n",
    "    ['Bucket Merge', list(zip(*times))[1]],\n",
    "    ['Quick sort', list(zip(*times))[2]],\n",
    "    ['Merge sort', list(zip(*times))[3]]\n",
    "]\n",
    "\n",
    "data = []\n",
    "for algorithm_times in algorithms_times:\n",
    "    trace = {\n",
    "        \"type\": 'violin',\n",
    "        \"x\": algorithm_times[0],\n",
    "        \"y\": algorithm_times[1],\n",
    "        \"name\": algorithm_times[0],\n",
    "        \"box\": {\n",
    "            \"visible\": True\n",
    "        },\n",
    "        \"meanline\": {\n",
    "            \"visible\": True\n",
    "        }\n",
    "    }\n",
    "    \n",
    "    data.append(trace)\n",
    "        \n",
    "fig = {\n",
    "    \"data\": data,\n",
    "    \"layout\" : {\n",
    "        \"title\": \"Violin Box Plot - Algoritmos de ordenação\",\n",
    "        \"yaxis\": {\n",
    "            \"title\": 'seconds',\n",
    "            \"zeroline\": False,\n",
    "        }\n",
    "    }\n",
    "}\n",
    "\n",
    "iplot(fig, filename='violin/multiple', validate = False)"
   ]
  },
  {
   "cell_type": "markdown",
   "metadata": {},
   "source": [
    "### Binary Search"
   ]
  },
  {
   "cell_type": "code",
   "execution_count": 31,
   "metadata": {},
   "outputs": [],
   "source": [
    "def generate_athletes(athletes, idx):\n",
    "    list_athletes = []\n",
    "    up_limit = 0\n",
    "    \n",
    "    for i in range(idx,len(athletes)):\n",
    "        if athletes[i].name != athletes[idx].name:\n",
    "            up_limit = i-1\n",
    "            break\n",
    "\n",
    "    for i in range(up_limit,0,-1):\n",
    "        if athletes[i].name != athletes[idx].name:\n",
    "            break\n",
    "        athlete = []\n",
    "        athlete.append(athletes[i])\n",
    "        list_athletes.append(athlete) \n",
    "    \n",
    "    return list_athletes"
   ]
  },
  {
   "cell_type": "code",
   "execution_count": 32,
   "metadata": {},
   "outputs": [],
   "source": [
    "def binary_search(athletes, key):\n",
    "    \"\"\"Implementation of binary search algorithm\n",
    "    \n",
    "    Attributes:\n",
    "        athletes: list with all olympic athletes;\n",
    "        key: name of athlete to search.\n",
    "    \"\"\"\n",
    "    \n",
    "    min_index = 0\n",
    "    max_index = len(athletes)-1\n",
    "    \n",
    "    while (min_index <= max_index):\n",
    "        middle = min_index + (max_index - min_index)//2\n",
    "        \n",
    "        if (athletes[middle].name == key):\n",
    "            list_athletes = generate_athletes(athletes, middle)\n",
    "            return list_athletes\n",
    "        elif (athletes[middle].name < key):\n",
    "            min_index = middle+1\n",
    "        else:\n",
    "            max_index = middle-1\n",
    "        \n",
    "    return \"Not found!\""
   ]
  },
  {
   "cell_type": "markdown",
   "metadata": {},
   "source": [
    "### Sequencial Search"
   ]
  },
  {
   "cell_type": "code",
   "execution_count": 33,
   "metadata": {},
   "outputs": [],
   "source": [
    "def sequencial_search(athletes, key):\n",
    "    \"\"\"Perform sequencial search algorithm\n",
    "    \n",
    "    Attributes:\n",
    "        athletes: list with all olympic athletes;\n",
    "        key: name of athlete to search. \n",
    "    \"\"\"\n",
    "    \n",
    "    list_athletes = []\n",
    "    \n",
    "    for i in range(len(athletes)):\n",
    "        if athletes[i].name.count(key):\n",
    "            athlete = []\n",
    "            athlete.append(athletes[i])\n",
    "            list_athletes.append(athlete) \n",
    "        \n",
    "    if list_athletes:\n",
    "        return list_athletes\n",
    "    else:\n",
    "        return \"Not found!\""
   ]
  },
  {
   "cell_type": "markdown",
   "metadata": {},
   "source": [
    "### Search by name"
   ]
  },
  {
   "cell_type": "code",
   "execution_count": 34,
   "metadata": {},
   "outputs": [],
   "source": [
    "def search_name(athletes):\n",
    "    name = ''\n",
    "    while True:\n",
    "        name = input('> ')\n",
    "\n",
    "        if not name.strip():\n",
    "            if input('sair? (S/n) ').lower() in 's':\n",
    "                break\n",
    "        else:\n",
    "            break\n",
    "\n",
    "    if name.strip():\n",
    "        athletes = sequencial_search(athletes, name)\n",
    "        return athletes"
   ]
  },
  {
   "cell_type": "markdown",
   "metadata": {},
   "source": [
    "### Search by full name"
   ]
  },
  {
   "cell_type": "code",
   "execution_count": 35,
   "metadata": {},
   "outputs": [],
   "source": [
    "def search_full_name(athletes):\n",
    "    name = ''\n",
    "    while True:\n",
    "        name = input('> ')\n",
    "\n",
    "        if not name.strip():\n",
    "            if input('sair? (S/n) ').lower() in 's':\n",
    "                break\n",
    "        else:\n",
    "            break\n",
    "\n",
    "    if name.strip():\n",
    "        athletes = binary_search(athletes, name)\n",
    "        return athletes"
   ]
  },
  {
   "cell_type": "code",
   "execution_count": 36,
   "metadata": {},
   "outputs": [],
   "source": [
    "athletes_order = bucket_merge_sort(ATHLETES.copy())"
   ]
  },
  {
   "cell_type": "markdown",
   "metadata": {},
   "source": [
    "#### Digite um nome para pesquisar:"
   ]
  },
  {
   "cell_type": "code",
   "execution_count": 37,
   "metadata": {},
   "outputs": [
    {
     "name": "stdout",
     "output_type": "stream",
     "text": [
      "> Camilo\n"
     ]
    },
    {
     "data": {
      "text/html": [
       "<div>\n",
       "<style scoped>\n",
       "    .dataframe tbody tr th:only-of-type {\n",
       "        vertical-align: middle;\n",
       "    }\n",
       "\n",
       "    .dataframe tbody tr th {\n",
       "        vertical-align: top;\n",
       "    }\n",
       "\n",
       "    .dataframe thead th {\n",
       "        text-align: right;\n",
       "    }\n",
       "</style>\n",
       "<table border=\"1\" class=\"dataframe\">\n",
       "  <thead>\n",
       "    <tr style=\"text-align: right;\">\n",
       "      <th></th>\n",
       "      <th>Nome</th>\n",
       "      <th>Sexo</th>\n",
       "      <th>Time</th>\n",
       "      <th>NOC</th>\n",
       "      <th>Jogos</th>\n",
       "      <th>Cidade</th>\n",
       "      <th>Evento</th>\n",
       "      <th>Medalha</th>\n",
       "    </tr>\n",
       "  </thead>\n",
       "  <tbody>\n",
       "    <tr>\n",
       "      <th>0</th>\n",
       "      <td>Alberto Camilo Velzquez Aguilar</td>\n",
       "      <td>M</td>\n",
       "      <td>Uruguay</td>\n",
       "      <td>URU</td>\n",
       "      <td>1960 Summer</td>\n",
       "      <td>Roma</td>\n",
       "      <td>Cycling Men's Team Pursuit, 4,000 metres</td>\n",
       "      <td>NaN</td>\n",
       "    </tr>\n",
       "    <tr>\n",
       "      <th>1</th>\n",
       "      <td>Alberto Camilo Velzquez Aguilar</td>\n",
       "      <td>M</td>\n",
       "      <td>Uruguay</td>\n",
       "      <td>URU</td>\n",
       "      <td>1960 Summer</td>\n",
       "      <td>Roma</td>\n",
       "      <td>Cycling Men's Road Race, Individual</td>\n",
       "      <td>NaN</td>\n",
       "    </tr>\n",
       "    <tr>\n",
       "      <th>2</th>\n",
       "      <td>Alberto Camilo Velzquez Aguilar</td>\n",
       "      <td>M</td>\n",
       "      <td>Uruguay</td>\n",
       "      <td>URU</td>\n",
       "      <td>1956 Summer</td>\n",
       "      <td>Melbourne</td>\n",
       "      <td>Cycling Men's Team Pursuit, 4,000 metres</td>\n",
       "      <td>NaN</td>\n",
       "    </tr>\n",
       "    <tr>\n",
       "      <th>3</th>\n",
       "      <td>Alberto Camilo Velzquez Aguilar</td>\n",
       "      <td>M</td>\n",
       "      <td>Uruguay</td>\n",
       "      <td>URU</td>\n",
       "      <td>1956 Summer</td>\n",
       "      <td>Melbourne</td>\n",
       "      <td>Cycling Men's Road Race, Team</td>\n",
       "      <td>NaN</td>\n",
       "    </tr>\n",
       "    <tr>\n",
       "      <th>4</th>\n",
       "      <td>Alberto Camilo Velzquez Aguilar</td>\n",
       "      <td>M</td>\n",
       "      <td>Uruguay</td>\n",
       "      <td>URU</td>\n",
       "      <td>1956 Summer</td>\n",
       "      <td>Melbourne</td>\n",
       "      <td>Cycling Men's Road Race, Individual</td>\n",
       "      <td>NaN</td>\n",
       "    </tr>\n",
       "    <tr>\n",
       "      <th>5</th>\n",
       "      <td>Camilo Jos Becerra Velasco</td>\n",
       "      <td>M</td>\n",
       "      <td>Colombia</td>\n",
       "      <td>COL</td>\n",
       "      <td>2008 Summer</td>\n",
       "      <td>Beijing</td>\n",
       "      <td>Swimming Men's 100 metres Butterfly</td>\n",
       "      <td>NaN</td>\n",
       "    </tr>\n",
       "    <tr>\n",
       "      <th>6</th>\n",
       "      <td>Camilo Jos Becerra Velasco</td>\n",
       "      <td>M</td>\n",
       "      <td>Colombia</td>\n",
       "      <td>COL</td>\n",
       "      <td>2008 Summer</td>\n",
       "      <td>Beijing</td>\n",
       "      <td>Swimming Men's 50 metres Freestyle</td>\n",
       "      <td>NaN</td>\n",
       "    </tr>\n",
       "    <tr>\n",
       "      <th>7</th>\n",
       "      <td>Camilo Jos Becerra Velasco</td>\n",
       "      <td>M</td>\n",
       "      <td>Colombia</td>\n",
       "      <td>COL</td>\n",
       "      <td>2004 Summer</td>\n",
       "      <td>Athina</td>\n",
       "      <td>Swimming Men's 100 metres Butterfly</td>\n",
       "      <td>NaN</td>\n",
       "    </tr>\n",
       "    <tr>\n",
       "      <th>8</th>\n",
       "      <td>Camilo Jos Becerra Velasco</td>\n",
       "      <td>M</td>\n",
       "      <td>Colombia</td>\n",
       "      <td>COL</td>\n",
       "      <td>2004 Summer</td>\n",
       "      <td>Athina</td>\n",
       "      <td>Swimming Men's 100 metres Freestyle</td>\n",
       "      <td>NaN</td>\n",
       "    </tr>\n",
       "    <tr>\n",
       "      <th>9</th>\n",
       "      <td>Camilo Jos Becerra Velasco</td>\n",
       "      <td>M</td>\n",
       "      <td>Colombia</td>\n",
       "      <td>COL</td>\n",
       "      <td>2004 Summer</td>\n",
       "      <td>Athina</td>\n",
       "      <td>Swimming Men's 50 metres Freestyle</td>\n",
       "      <td>NaN</td>\n",
       "    </tr>\n",
       "    <tr>\n",
       "      <th>10</th>\n",
       "      <td>Camilo Jos Becerra Velasco</td>\n",
       "      <td>M</td>\n",
       "      <td>Colombia</td>\n",
       "      <td>COL</td>\n",
       "      <td>2000 Summer</td>\n",
       "      <td>Sydney</td>\n",
       "      <td>Swimming Men's 50 metres Freestyle</td>\n",
       "      <td>NaN</td>\n",
       "    </tr>\n",
       "    <tr>\n",
       "      <th>11</th>\n",
       "      <td>Camilo Mayr</td>\n",
       "      <td>M</td>\n",
       "      <td>Germany</td>\n",
       "      <td>GER</td>\n",
       "      <td>2012 Summer</td>\n",
       "      <td>London</td>\n",
       "      <td>Archery Men's Individual</td>\n",
       "      <td>NaN</td>\n",
       "    </tr>\n",
       "    <tr>\n",
       "      <th>12</th>\n",
       "      <td>Camilo Pedro</td>\n",
       "      <td>M</td>\n",
       "      <td>Hong Kong</td>\n",
       "      <td>HKG</td>\n",
       "      <td>1976 Summer</td>\n",
       "      <td>Montreal</td>\n",
       "      <td>Shooting Mixed Free Pistol, 50 metres</td>\n",
       "      <td>NaN</td>\n",
       "    </tr>\n",
       "    <tr>\n",
       "      <th>13</th>\n",
       "      <td>Camilo Romero Mora</td>\n",
       "      <td>M</td>\n",
       "      <td>Mexico</td>\n",
       "      <td>MEX</td>\n",
       "      <td>1992 Summer</td>\n",
       "      <td>Barcelona</td>\n",
       "      <td>Football Men's Football</td>\n",
       "      <td>NaN</td>\n",
       "    </tr>\n",
       "    <tr>\n",
       "      <th>14</th>\n",
       "      <td>Carlos \"Camilo\" Rivas</td>\n",
       "      <td>M</td>\n",
       "      <td>Argentina</td>\n",
       "      <td>ARG</td>\n",
       "      <td>1924 Summer</td>\n",
       "      <td>Paris</td>\n",
       "      <td>Athletics Men's 4 x 100 metres Relay</td>\n",
       "      <td>NaN</td>\n",
       "    </tr>\n",
       "    <tr>\n",
       "      <th>15</th>\n",
       "      <td>Carlos \"Camilo\" Rivas</td>\n",
       "      <td>M</td>\n",
       "      <td>Argentina</td>\n",
       "      <td>ARG</td>\n",
       "      <td>1924 Summer</td>\n",
       "      <td>Paris</td>\n",
       "      <td>Athletics Men's 100 metres</td>\n",
       "      <td>NaN</td>\n",
       "    </tr>\n",
       "    <tr>\n",
       "      <th>16</th>\n",
       "      <td>Dayane Camilo Da Silva</td>\n",
       "      <td>F</td>\n",
       "      <td>Brazil</td>\n",
       "      <td>BRA</td>\n",
       "      <td>2004 Summer</td>\n",
       "      <td>Athina</td>\n",
       "      <td>Rhythmic Gymnastics Women's Group</td>\n",
       "      <td>NaN</td>\n",
       "    </tr>\n",
       "    <tr>\n",
       "      <th>17</th>\n",
       "      <td>Dayane Camilo Da Silva</td>\n",
       "      <td>F</td>\n",
       "      <td>Brazil</td>\n",
       "      <td>BRA</td>\n",
       "      <td>2000 Summer</td>\n",
       "      <td>Sydney</td>\n",
       "      <td>Rhythmic Gymnastics Women's Group</td>\n",
       "      <td>NaN</td>\n",
       "    </tr>\n",
       "    <tr>\n",
       "      <th>18</th>\n",
       "      <td>Dimas Camilo Corts</td>\n",
       "      <td>M</td>\n",
       "      <td>Mexico</td>\n",
       "      <td>MEX</td>\n",
       "      <td>2008 Summer</td>\n",
       "      <td>Beijing</td>\n",
       "      <td>Canoeing Men's Canadian Doubles, 1,000 metres</td>\n",
       "      <td>NaN</td>\n",
       "    </tr>\n",
       "    <tr>\n",
       "      <th>19</th>\n",
       "      <td>Dimas Camilo Corts</td>\n",
       "      <td>M</td>\n",
       "      <td>Mexico</td>\n",
       "      <td>MEX</td>\n",
       "      <td>2008 Summer</td>\n",
       "      <td>Beijing</td>\n",
       "      <td>Canoeing Men's Canadian Doubles, 500 metres</td>\n",
       "      <td>NaN</td>\n",
       "    </tr>\n",
       "    <tr>\n",
       "      <th>20</th>\n",
       "      <td>Faryd Camilo Mondragn Al</td>\n",
       "      <td>M</td>\n",
       "      <td>Colombia</td>\n",
       "      <td>COL</td>\n",
       "      <td>1992 Summer</td>\n",
       "      <td>Barcelona</td>\n",
       "      <td>Football Men's Football</td>\n",
       "      <td>NaN</td>\n",
       "    </tr>\n",
       "    <tr>\n",
       "      <th>21</th>\n",
       "      <td>Juan Camilo Novoa Aguinaga</td>\n",
       "      <td>M</td>\n",
       "      <td>Colombia</td>\n",
       "      <td>COL</td>\n",
       "      <td>2004 Summer</td>\n",
       "      <td>Athina</td>\n",
       "      <td>Boxing Men's Welterweight</td>\n",
       "      <td>NaN</td>\n",
       "    </tr>\n",
       "    <tr>\n",
       "      <th>22</th>\n",
       "      <td>Tiago Henrique De Oliveira Camilo</td>\n",
       "      <td>M</td>\n",
       "      <td>Brazil</td>\n",
       "      <td>BRA</td>\n",
       "      <td>2016 Summer</td>\n",
       "      <td>Rio de Janeiro</td>\n",
       "      <td>Judo Men's Middleweight</td>\n",
       "      <td>NaN</td>\n",
       "    </tr>\n",
       "    <tr>\n",
       "      <th>23</th>\n",
       "      <td>Tiago Henrique De Oliveira Camilo</td>\n",
       "      <td>M</td>\n",
       "      <td>Brazil</td>\n",
       "      <td>BRA</td>\n",
       "      <td>2012 Summer</td>\n",
       "      <td>London</td>\n",
       "      <td>Judo Men's Middleweight</td>\n",
       "      <td>NaN</td>\n",
       "    </tr>\n",
       "    <tr>\n",
       "      <th>24</th>\n",
       "      <td>Tiago Henrique De Oliveira Camilo</td>\n",
       "      <td>M</td>\n",
       "      <td>Brazil</td>\n",
       "      <td>BRA</td>\n",
       "      <td>2008 Summer</td>\n",
       "      <td>Beijing</td>\n",
       "      <td>Judo Men's Half-Middleweight</td>\n",
       "      <td>Bronze</td>\n",
       "    </tr>\n",
       "    <tr>\n",
       "      <th>25</th>\n",
       "      <td>Tiago Henrique De Oliveira Camilo</td>\n",
       "      <td>M</td>\n",
       "      <td>Brazil</td>\n",
       "      <td>BRA</td>\n",
       "      <td>2000 Summer</td>\n",
       "      <td>Sydney</td>\n",
       "      <td>Judo Men's Lightweight</td>\n",
       "      <td>Silver</td>\n",
       "    </tr>\n",
       "    <tr>\n",
       "      <th>26</th>\n",
       "      <td>Yssica Camilo Gonzlez</td>\n",
       "      <td>F</td>\n",
       "      <td>Dominican Republic</td>\n",
       "      <td>DOM</td>\n",
       "      <td>2016 Summer</td>\n",
       "      <td>Rio de Janeiro</td>\n",
       "      <td>Archery Women's Individual</td>\n",
       "      <td>NaN</td>\n",
       "    </tr>\n",
       "  </tbody>\n",
       "</table>\n",
       "</div>"
      ],
      "text/plain": [
       "                                 Nome Sexo                Time  NOC  \\\n",
       "0     Alberto Camilo Velzquez Aguilar    M             Uruguay  URU   \n",
       "1     Alberto Camilo Velzquez Aguilar    M             Uruguay  URU   \n",
       "2     Alberto Camilo Velzquez Aguilar    M             Uruguay  URU   \n",
       "3     Alberto Camilo Velzquez Aguilar    M             Uruguay  URU   \n",
       "4     Alberto Camilo Velzquez Aguilar    M             Uruguay  URU   \n",
       "5          Camilo Jos Becerra Velasco    M            Colombia  COL   \n",
       "6          Camilo Jos Becerra Velasco    M            Colombia  COL   \n",
       "7          Camilo Jos Becerra Velasco    M            Colombia  COL   \n",
       "8          Camilo Jos Becerra Velasco    M            Colombia  COL   \n",
       "9          Camilo Jos Becerra Velasco    M            Colombia  COL   \n",
       "10         Camilo Jos Becerra Velasco    M            Colombia  COL   \n",
       "11                        Camilo Mayr    M             Germany  GER   \n",
       "12                       Camilo Pedro    M           Hong Kong  HKG   \n",
       "13                 Camilo Romero Mora    M              Mexico  MEX   \n",
       "14              Carlos \"Camilo\" Rivas    M           Argentina  ARG   \n",
       "15              Carlos \"Camilo\" Rivas    M           Argentina  ARG   \n",
       "16             Dayane Camilo Da Silva    F              Brazil  BRA   \n",
       "17             Dayane Camilo Da Silva    F              Brazil  BRA   \n",
       "18                 Dimas Camilo Corts    M              Mexico  MEX   \n",
       "19                 Dimas Camilo Corts    M              Mexico  MEX   \n",
       "20           Faryd Camilo Mondragn Al    M            Colombia  COL   \n",
       "21         Juan Camilo Novoa Aguinaga    M            Colombia  COL   \n",
       "22  Tiago Henrique De Oliveira Camilo    M              Brazil  BRA   \n",
       "23  Tiago Henrique De Oliveira Camilo    M              Brazil  BRA   \n",
       "24  Tiago Henrique De Oliveira Camilo    M              Brazil  BRA   \n",
       "25  Tiago Henrique De Oliveira Camilo    M              Brazil  BRA   \n",
       "26              Yssica Camilo Gonzlez    F  Dominican Republic  DOM   \n",
       "\n",
       "          Jogos          Cidade  \\\n",
       "0   1960 Summer            Roma   \n",
       "1   1960 Summer            Roma   \n",
       "2   1956 Summer       Melbourne   \n",
       "3   1956 Summer       Melbourne   \n",
       "4   1956 Summer       Melbourne   \n",
       "5   2008 Summer         Beijing   \n",
       "6   2008 Summer         Beijing   \n",
       "7   2004 Summer          Athina   \n",
       "8   2004 Summer          Athina   \n",
       "9   2004 Summer          Athina   \n",
       "10  2000 Summer          Sydney   \n",
       "11  2012 Summer          London   \n",
       "12  1976 Summer        Montreal   \n",
       "13  1992 Summer       Barcelona   \n",
       "14  1924 Summer           Paris   \n",
       "15  1924 Summer           Paris   \n",
       "16  2004 Summer          Athina   \n",
       "17  2000 Summer          Sydney   \n",
       "18  2008 Summer         Beijing   \n",
       "19  2008 Summer         Beijing   \n",
       "20  1992 Summer       Barcelona   \n",
       "21  2004 Summer          Athina   \n",
       "22  2016 Summer  Rio de Janeiro   \n",
       "23  2012 Summer          London   \n",
       "24  2008 Summer         Beijing   \n",
       "25  2000 Summer          Sydney   \n",
       "26  2016 Summer  Rio de Janeiro   \n",
       "\n",
       "                                           Evento Medalha  \n",
       "0        Cycling Men's Team Pursuit, 4,000 metres     NaN  \n",
       "1             Cycling Men's Road Race, Individual     NaN  \n",
       "2        Cycling Men's Team Pursuit, 4,000 metres     NaN  \n",
       "3                   Cycling Men's Road Race, Team     NaN  \n",
       "4             Cycling Men's Road Race, Individual     NaN  \n",
       "5             Swimming Men's 100 metres Butterfly     NaN  \n",
       "6              Swimming Men's 50 metres Freestyle     NaN  \n",
       "7             Swimming Men's 100 metres Butterfly     NaN  \n",
       "8             Swimming Men's 100 metres Freestyle     NaN  \n",
       "9              Swimming Men's 50 metres Freestyle     NaN  \n",
       "10             Swimming Men's 50 metres Freestyle     NaN  \n",
       "11                       Archery Men's Individual     NaN  \n",
       "12          Shooting Mixed Free Pistol, 50 metres     NaN  \n",
       "13                        Football Men's Football     NaN  \n",
       "14           Athletics Men's 4 x 100 metres Relay     NaN  \n",
       "15                     Athletics Men's 100 metres     NaN  \n",
       "16              Rhythmic Gymnastics Women's Group     NaN  \n",
       "17              Rhythmic Gymnastics Women's Group     NaN  \n",
       "18  Canoeing Men's Canadian Doubles, 1,000 metres     NaN  \n",
       "19    Canoeing Men's Canadian Doubles, 500 metres     NaN  \n",
       "20                        Football Men's Football     NaN  \n",
       "21                      Boxing Men's Welterweight     NaN  \n",
       "22                        Judo Men's Middleweight     NaN  \n",
       "23                        Judo Men's Middleweight     NaN  \n",
       "24                   Judo Men's Half-Middleweight  Bronze  \n",
       "25                         Judo Men's Lightweight  Silver  \n",
       "26                     Archery Women's Individual     NaN  "
      ]
     },
     "execution_count": 37,
     "metadata": {},
     "output_type": "execute_result"
    }
   ],
   "source": [
    "athletes = search_name(athletes_order)\n",
    "athletes_info(athletes)"
   ]
  },
  {
   "cell_type": "markdown",
   "metadata": {},
   "source": [
    "#### Digite o  nome completo para pesquisar:"
   ]
  },
  {
   "cell_type": "code",
   "execution_count": 38,
   "metadata": {},
   "outputs": [
    {
     "name": "stdout",
     "output_type": "stream",
     "text": [
      "> Tiago Henrique De Oliveira Camilo\n"
     ]
    },
    {
     "data": {
      "text/html": [
       "<div>\n",
       "<style scoped>\n",
       "    .dataframe tbody tr th:only-of-type {\n",
       "        vertical-align: middle;\n",
       "    }\n",
       "\n",
       "    .dataframe tbody tr th {\n",
       "        vertical-align: top;\n",
       "    }\n",
       "\n",
       "    .dataframe thead th {\n",
       "        text-align: right;\n",
       "    }\n",
       "</style>\n",
       "<table border=\"1\" class=\"dataframe\">\n",
       "  <thead>\n",
       "    <tr style=\"text-align: right;\">\n",
       "      <th></th>\n",
       "      <th>Nome</th>\n",
       "      <th>Sexo</th>\n",
       "      <th>Time</th>\n",
       "      <th>NOC</th>\n",
       "      <th>Jogos</th>\n",
       "      <th>Cidade</th>\n",
       "      <th>Evento</th>\n",
       "      <th>Medalha</th>\n",
       "    </tr>\n",
       "  </thead>\n",
       "  <tbody>\n",
       "    <tr>\n",
       "      <th>0</th>\n",
       "      <td>Tiago Henrique De Oliveira Camilo</td>\n",
       "      <td>M</td>\n",
       "      <td>Brazil</td>\n",
       "      <td>BRA</td>\n",
       "      <td>2000 Summer</td>\n",
       "      <td>Sydney</td>\n",
       "      <td>Judo Men's Lightweight</td>\n",
       "      <td>Silver</td>\n",
       "    </tr>\n",
       "    <tr>\n",
       "      <th>1</th>\n",
       "      <td>Tiago Henrique De Oliveira Camilo</td>\n",
       "      <td>M</td>\n",
       "      <td>Brazil</td>\n",
       "      <td>BRA</td>\n",
       "      <td>2008 Summer</td>\n",
       "      <td>Beijing</td>\n",
       "      <td>Judo Men's Half-Middleweight</td>\n",
       "      <td>Bronze</td>\n",
       "    </tr>\n",
       "    <tr>\n",
       "      <th>2</th>\n",
       "      <td>Tiago Henrique De Oliveira Camilo</td>\n",
       "      <td>M</td>\n",
       "      <td>Brazil</td>\n",
       "      <td>BRA</td>\n",
       "      <td>2012 Summer</td>\n",
       "      <td>London</td>\n",
       "      <td>Judo Men's Middleweight</td>\n",
       "      <td>NaN</td>\n",
       "    </tr>\n",
       "    <tr>\n",
       "      <th>3</th>\n",
       "      <td>Tiago Henrique De Oliveira Camilo</td>\n",
       "      <td>M</td>\n",
       "      <td>Brazil</td>\n",
       "      <td>BRA</td>\n",
       "      <td>2016 Summer</td>\n",
       "      <td>Rio de Janeiro</td>\n",
       "      <td>Judo Men's Middleweight</td>\n",
       "      <td>NaN</td>\n",
       "    </tr>\n",
       "  </tbody>\n",
       "</table>\n",
       "</div>"
      ],
      "text/plain": [
       "                                Nome Sexo    Time  NOC        Jogos  \\\n",
       "0  Tiago Henrique De Oliveira Camilo    M  Brazil  BRA  2000 Summer   \n",
       "1  Tiago Henrique De Oliveira Camilo    M  Brazil  BRA  2008 Summer   \n",
       "2  Tiago Henrique De Oliveira Camilo    M  Brazil  BRA  2012 Summer   \n",
       "3  Tiago Henrique De Oliveira Camilo    M  Brazil  BRA  2016 Summer   \n",
       "\n",
       "           Cidade                        Evento Medalha  \n",
       "0          Sydney        Judo Men's Lightweight  Silver  \n",
       "1         Beijing  Judo Men's Half-Middleweight  Bronze  \n",
       "2          London       Judo Men's Middleweight     NaN  \n",
       "3  Rio de Janeiro       Judo Men's Middleweight     NaN  "
      ]
     },
     "execution_count": 38,
     "metadata": {},
     "output_type": "execute_result"
    }
   ],
   "source": [
    "athletes = search_full_name(athletes_order)\n",
    "athletes_info(athletes)"
   ]
  },
  {
   "cell_type": "markdown",
   "metadata": {},
   "source": [
    "# CONSIDERAÇÕES FINAIS\n",
    "\n",
    "Como foi proposto, foram utilizados três algoritimos de ordenação $n \\cdot log ~n$, sendo que, junto ao bucket foram utilizados quick e merge, resultando em quatro estratégias diferentes. A ordenação foi feita de acordo com o nome dos atletas para ser possível implementar uma busca binária. Também foi utilizada a busca sequencial para retornar todos atletas com um nome em comum.\n",
    "\n",
    "Foram utilizadas dois tipos de entrada para realizar a comparação entre os diferentes algoritomos. No primeiro teste foi utilizado todo o vetor e o resultado obtido foi utilizado para montar um histograma com o tempo de resposta de cada algoritmo. Já no segundo foram utilizados 14 vetores de tamanhos diferentes com atletas aleatórios e o resultado foi utulizado para montar o gráfico violino.\n",
    "\n",
    "Em ambos testes foi possível notar uma ordem entre o tempo de reposta dos algoritmos. O menor tempo de resposta foi obtido pelo bucket sort utilizando o quick sort, seguido de perto do bucket com merge. Os algoritmos quick sort e merge sort obtiveram resultados bem parecidos, mas vale a pena lembrar que o quick sorte é instável e dependendo da escolha do pivô o algoritmo se torna quadrático. \n",
    "\n",
    "Analizando os resultados e as peculiaridades de cada algoritmo, foi decidido utilizar a estratégia de usar o bucket sort junto com o merge sort para ordernar os atletas para utilizar o método de busca binário. "
   ]
  }
 ],
 "metadata": {
  "kernelspec": {
   "display_name": "Python 3",
   "language": "python",
   "name": "python3"
  },
  "language_info": {
   "codemirror_mode": {
    "name": "ipython",
    "version": 3
   },
   "file_extension": ".py",
   "mimetype": "text/x-python",
   "name": "python",
   "nbconvert_exporter": "python",
   "pygments_lexer": "ipython3",
   "version": "3.7.3"
  }
 },
 "nbformat": 4,
 "nbformat_minor": 2
}
