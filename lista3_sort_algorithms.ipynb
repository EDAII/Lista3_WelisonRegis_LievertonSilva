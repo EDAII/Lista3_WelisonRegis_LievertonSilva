{
 "cells": [
  {
   "cell_type": "markdown",
   "metadata": {},
   "source": [
    "# ALGORITMOS DE ORDENAÇÃO $ N \\cdot LOG ~N $\n",
    "\n",
    "### Proposta:\n",
    "\n",
    "### Alunos:\n",
    "\n",
    "- Welison Lucas Almeida Regis - 2019.1,\n",
    "- Lieverton Santos Silva - 2019.1."
   ]
  },
  {
   "cell_type": "markdown",
   "metadata": {},
   "source": [
    "# IMPORTS"
   ]
  },
  {
   "cell_type": "code",
   "execution_count": null,
   "metadata": {},
   "outputs": [],
   "source": [
    "import pandas as pd\n",
    "import random\n",
    "import plotly.graph_objs as go\n",
    "\n",
    "from plotly.offline import download_plotlyjs, init_notebook_mode, plot, iplot\n",
    "\n",
    "init_notebook_mode(connected=True)"
   ]
  },
  {
   "cell_type": "markdown",
   "metadata": {},
   "source": [
    "# OLYMPIC ATHLETE CLASS"
   ]
  },
  {
   "cell_type": "code",
   "execution_count": null,
   "metadata": {},
   "outputs": [],
   "source": [
    "class Athlete:\n",
    "    \n",
    "    def __init__(self, name, sex, team, NOC, season, city, event, medal):\n",
    "        self.name = name\n",
    "        self.sex = sex\n",
    "        self.team = team\n",
    "        self.NOC = NOC\n",
    "        self.season = season\n",
    "        self.city = city\n",
    "        self.event = event\n",
    "        self.medal = medal"
   ]
  },
  {
   "cell_type": "markdown",
   "metadata": {},
   "source": [
    "# READ ATHLETES FROM CSV"
   ]
  },
  {
   "cell_type": "code",
   "execution_count": null,
   "metadata": {},
   "outputs": [],
   "source": [
    "def read_csv(filename = './assets/athlete_events.csv'): \n",
    "    \"\"\"Method to read specific soccer informations from csv file\n",
    "    \n",
    "    attributes:\n",
    "        filename: path to csv file with athletes data.\n",
    "    \"\"\"\n",
    "    \n",
    "    df = pd.read_csv(filename, usecols=['Name', 'Sex', 'Team', 'NOC', 'Season', 'City', 'Event', 'Medal'])\n",
    "    \n",
    "    athletes = []\n",
    "    for index, row in df.iterrows():\n",
    "        name = row['Name']\n",
    "        sex = row['Sex']\n",
    "        team = row['Team']\n",
    "        NOC = row['NOC']\n",
    "        season = row['Season']\n",
    "        city = row['City']\n",
    "        event = row['Event']\n",
    "        medal = row['Medal']\n",
    "        \n",
    "        athlete = Athlete(name, sex, team, NOC, season, city, event, medal)\n",
    "        athletes.append(athlete)\n",
    "        \n",
    "    return athletes"
   ]
  },
  {
   "cell_type": "code",
   "execution_count": null,
   "metadata": {},
   "outputs": [],
   "source": [
    "# LIST OF ATHLETES OBJECTS\n",
    "ATHLETES = read_csv()"
   ]
  },
  {
   "cell_type": "markdown",
   "metadata": {},
   "source": [
    "# DATASET EXAMPLE"
   ]
  },
  {
   "cell_type": "code",
   "execution_count": null,
   "metadata": {},
   "outputs": [],
   "source": [
    "def generate_random_athletes(athletes, n = 5):\n",
    "    \n",
    "    random_athletes = []\n",
    "    for i in range(n):\n",
    "        athlete = random.choices(athletes)\n",
    "        random_athletes.append(athlete)\n",
    "    \n",
    "    return random_athletes"
   ]
  },
  {
   "cell_type": "code",
   "execution_count": null,
   "metadata": {},
   "outputs": [],
   "source": [
    "def athletes_info(athletes):\n",
    "    athletes = generate_random_athletes(athletes, 5)\n",
    "        \n",
    "    athletes_table = []\n",
    "    for athlete in athletes:\n",
    "        athlete = athlete[0].__dict__.values()\n",
    "        athletes_table.append(athlete)\n",
    "\n",
    "    df = pd.DataFrame(\n",
    "        athletes_table,\n",
    "        columns=['Nome', 'Sexo', 'Time', 'NOC', 'Temporada', 'Cidade', 'Evento', 'Medalha']\n",
    "    )\n",
    "\n",
    "    return df"
   ]
  },
  {
   "cell_type": "code",
   "execution_count": null,
   "metadata": {},
   "outputs": [],
   "source": [
    "athletes_info(ATHLETES.copy())"
   ]
  },
  {
   "cell_type": "markdown",
   "metadata": {},
   "source": []
  }
 ],
 "metadata": {
  "kernelspec": {
   "display_name": "Python 3",
   "language": "python",
   "name": "python3"
  },
  "language_info": {
   "codemirror_mode": {
    "name": "ipython",
    "version": 3
   },
   "file_extension": ".py",
   "mimetype": "text/x-python",
   "name": "python",
   "nbconvert_exporter": "python",
   "pygments_lexer": "ipython3",
   "version": "3.7.3"
  }
 },
 "nbformat": 4,
 "nbformat_minor": 2
}
