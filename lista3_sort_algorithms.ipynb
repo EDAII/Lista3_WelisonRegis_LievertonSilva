{
 "cells": [
  {
   "cell_type": "markdown",
   "metadata": {},
   "source": [
    "# ALGORITMOS DE ORDENAÇÃO $ N \\cdot LOG ~N $\n",
    "\n",
    "### Proposta:\n",
    "\n",
    "### Alunos:\n",
    "\n",
    "- Welison Lucas Almeida Regis - 2019.1,\n",
    "- Lieverton Santos Silva - 2019.1."
   ]
  },
  {
   "cell_type": "markdown",
   "metadata": {},
   "source": [
    "# IMPORTS"
   ]
  },
  {
   "cell_type": "code",
   "execution_count": 1,
   "metadata": {},
   "outputs": [
    {
     "data": {
      "text/html": [
       "<script type=\"text/javascript\">window.PlotlyConfig = {MathJaxConfig: 'local'};</script><script type=\"text/javascript\">if (window.MathJax) {MathJax.Hub.Config({SVG: {font: \"STIX-Web\"}});}</script><script>requirejs.config({paths: { 'plotly': ['https://cdn.plot.ly/plotly-latest.min']},});if(!window._Plotly) {require(['plotly'],function(plotly) {window._Plotly=plotly;});}</script>"
      ],
      "text/vnd.plotly.v1+html": [
       "<script type=\"text/javascript\">window.PlotlyConfig = {MathJaxConfig: 'local'};</script><script type=\"text/javascript\">if (window.MathJax) {MathJax.Hub.Config({SVG: {font: \"STIX-Web\"}});}</script><script>requirejs.config({paths: { 'plotly': ['https://cdn.plot.ly/plotly-latest.min']},});if(!window._Plotly) {require(['plotly'],function(plotly) {window._Plotly=plotly;});}</script>"
      ]
     },
     "metadata": {},
     "output_type": "display_data"
    }
   ],
   "source": [
    "import pandas as pd\n",
    "import random\n",
    "import time\n",
    "import plotly.graph_objs as go\n",
    "\n",
    "from matplotlib import pyplot as plt\n",
    "from itertools import chain\n",
    "from ipywidgets import IntProgress\n",
    "\n",
    "from plotly.offline import download_plotlyjs, init_notebook_mode, plot, iplot\n",
    "\n",
    "init_notebook_mode(connected=True)"
   ]
  },
  {
   "cell_type": "markdown",
   "metadata": {},
   "source": [
    "# OLYMPIC ATHLETE CLASS"
   ]
  },
  {
   "cell_type": "code",
   "execution_count": 2,
   "metadata": {},
   "outputs": [],
   "source": [
    "class Athlete:\n",
    "    \n",
    "    def __init__(self, name, sex, team, NOC, games, city, event, medal):\n",
    "        self.name = name\n",
    "        self.sex = sex\n",
    "        self.team = team\n",
    "        self.NOC = NOC\n",
    "        self.games = games\n",
    "        self.city = city\n",
    "        self.event = event\n",
    "        self.medal = medal"
   ]
  },
  {
   "cell_type": "markdown",
   "metadata": {},
   "source": [
    "# READ ATHLETES FROM CSV"
   ]
  },
  {
   "cell_type": "code",
   "execution_count": 3,
   "metadata": {},
   "outputs": [],
   "source": [
    "def read_csv(filename = './assets/athlete_events.csv'): \n",
    "    \"\"\"Method to read specific soccer informations from csv file\n",
    "    \n",
    "    attributes:\n",
    "        filename: path to csv file with athletes data.\n",
    "    \"\"\"\n",
    "    \n",
    "    print(\">>>>>> LOADING <<<<<<\")\n",
    "    \n",
    "    #bar = IntProgress(min=0, max = 271116, description='PROGRESS:') # instantiate the bar\n",
    "    #display(bar)\n",
    "    \n",
    "    df = pd.read_csv(filename, usecols=['Name', 'Sex', 'Team', 'NOC', 'Games', 'City', 'Event', 'Medal'])\n",
    "    \n",
    "    athletes = athletes_objects(df)\n",
    "        \n",
    "    print(\">>> LOADING SUCESS! <<<\")\n",
    "        \n",
    "    return athletes"
   ]
  },
  {
   "cell_type": "code",
   "execution_count": 4,
   "metadata": {},
   "outputs": [],
   "source": [
    "def athletes_objects(athletes_df):\n",
    "    athletes = []\n",
    "    for index, row in athletes_df.iterrows():\n",
    "        name = row['Name'].strip().title()\n",
    "        sex = row['Sex']\n",
    "        team = row['Team']\n",
    "        NOC = row['NOC']\n",
    "        games = row['Games']\n",
    "        city = row['City']\n",
    "        event = row['Event']\n",
    "        medal = row['Medal']\n",
    "        \n",
    "        athlete = Athlete(name, sex, team, NOC, games, city, event, medal)\n",
    "        athletes.append(athlete)\n",
    "    \n",
    "    return athletes"
   ]
  },
  {
   "cell_type": "code",
   "execution_count": 5,
   "metadata": {},
   "outputs": [
    {
     "name": "stdout",
     "output_type": "stream",
     "text": [
      ">>>>>> LOADING <<<<<<\n",
      ">>> LOADING SUCESS! <<<\n"
     ]
    }
   ],
   "source": [
    "# LIST OF ATHLETES OBJECTS\n",
    "ATHLETES = read_csv()"
   ]
  },
  {
   "cell_type": "markdown",
   "metadata": {},
   "source": [
    "# DATASET EXAMPLE"
   ]
  },
  {
   "cell_type": "code",
   "execution_count": 6,
   "metadata": {},
   "outputs": [],
   "source": [
    "def generate_random_athletes(athletes, n = 5):\n",
    "    \n",
    "    random_athletes = []\n",
    "    for i in range(n):\n",
    "        athlete = random.choices(athletes)\n",
    "        random_athletes.append(athlete)\n",
    "    \n",
    "    return random_athletes"
   ]
  },
  {
   "cell_type": "code",
   "execution_count": 7,
   "metadata": {},
   "outputs": [],
   "source": [
    "def athletes_info(athletes):\n",
    "    if athletes:\n",
    "        if athletes == \"Not found!\":\n",
    "            print(athletes)\n",
    "        else:\n",
    "            athletes_table = []\n",
    "            for athlete in athletes:\n",
    "                athlete = athlete[0].__dict__.values()\n",
    "                athletes_table.append(athlete)\n",
    "\n",
    "            df = pd.DataFrame(\n",
    "                athletes_table,\n",
    "                columns=['Nome', 'Sexo', 'Time', 'NOC', 'Jogos', 'Cidade', 'Evento', 'Medalha']\n",
    "            )\n",
    "\n",
    "            return df"
   ]
  },
  {
   "cell_type": "code",
   "execution_count": 8,
   "metadata": {},
   "outputs": [
    {
     "data": {
      "text/html": [
       "<div>\n",
       "<style scoped>\n",
       "    .dataframe tbody tr th:only-of-type {\n",
       "        vertical-align: middle;\n",
       "    }\n",
       "\n",
       "    .dataframe tbody tr th {\n",
       "        vertical-align: top;\n",
       "    }\n",
       "\n",
       "    .dataframe thead th {\n",
       "        text-align: right;\n",
       "    }\n",
       "</style>\n",
       "<table border=\"1\" class=\"dataframe\">\n",
       "  <thead>\n",
       "    <tr style=\"text-align: right;\">\n",
       "      <th></th>\n",
       "      <th>Nome</th>\n",
       "      <th>Sexo</th>\n",
       "      <th>Time</th>\n",
       "      <th>NOC</th>\n",
       "      <th>Jogos</th>\n",
       "      <th>Cidade</th>\n",
       "      <th>Evento</th>\n",
       "      <th>Medalha</th>\n",
       "    </tr>\n",
       "  </thead>\n",
       "  <tbody>\n",
       "    <tr>\n",
       "      <th>0</th>\n",
       "      <td>Carl Edwards</td>\n",
       "      <td>M</td>\n",
       "      <td>Great Britain</td>\n",
       "      <td>GBR</td>\n",
       "      <td>2000 Summer</td>\n",
       "      <td>Sydney</td>\n",
       "      <td>Equestrianism Mixed Jumping, Individual</td>\n",
       "      <td>NaN</td>\n",
       "    </tr>\n",
       "    <tr>\n",
       "      <th>1</th>\n",
       "      <td>Sharon Anita Musson</td>\n",
       "      <td>F</td>\n",
       "      <td>New Zealand</td>\n",
       "      <td>NZL</td>\n",
       "      <td>1988 Summer</td>\n",
       "      <td>Seoul</td>\n",
       "      <td>Swimming Women's 100 metres Backstroke</td>\n",
       "      <td>NaN</td>\n",
       "    </tr>\n",
       "    <tr>\n",
       "      <th>2</th>\n",
       "      <td>Vladimir Mikhaylovich Smirnov</td>\n",
       "      <td>M</td>\n",
       "      <td>Kazakhstan</td>\n",
       "      <td>KAZ</td>\n",
       "      <td>1994 Winter</td>\n",
       "      <td>Lillehammer</td>\n",
       "      <td>Cross Country Skiing Men's 30 kilometres</td>\n",
       "      <td>NaN</td>\n",
       "    </tr>\n",
       "    <tr>\n",
       "      <th>3</th>\n",
       "      <td>Revaz Kvach'Ak'Idze</td>\n",
       "      <td>M</td>\n",
       "      <td>Soviet Union</td>\n",
       "      <td>URS</td>\n",
       "      <td>1960 Summer</td>\n",
       "      <td>Roma</td>\n",
       "      <td>Athletics Men's Long Jump</td>\n",
       "      <td>NaN</td>\n",
       "    </tr>\n",
       "    <tr>\n",
       "      <th>4</th>\n",
       "      <td>Eskil Ervik</td>\n",
       "      <td>M</td>\n",
       "      <td>Norway</td>\n",
       "      <td>NOR</td>\n",
       "      <td>2006 Winter</td>\n",
       "      <td>Torino</td>\n",
       "      <td>Speed Skating Men's 10,000 metres</td>\n",
       "      <td>NaN</td>\n",
       "    </tr>\n",
       "  </tbody>\n",
       "</table>\n",
       "</div>"
      ],
      "text/plain": [
       "                            Nome Sexo           Time  NOC        Jogos  \\\n",
       "0                   Carl Edwards    M  Great Britain  GBR  2000 Summer   \n",
       "1            Sharon Anita Musson    F    New Zealand  NZL  1988 Summer   \n",
       "2  Vladimir Mikhaylovich Smirnov    M     Kazakhstan  KAZ  1994 Winter   \n",
       "3            Revaz Kvach'Ak'Idze    M   Soviet Union  URS  1960 Summer   \n",
       "4                    Eskil Ervik    M         Norway  NOR  2006 Winter   \n",
       "\n",
       "        Cidade                                    Evento  Medalha  \n",
       "0       Sydney   Equestrianism Mixed Jumping, Individual      NaN  \n",
       "1        Seoul    Swimming Women's 100 metres Backstroke      NaN  \n",
       "2  Lillehammer  Cross Country Skiing Men's 30 kilometres      NaN  \n",
       "3         Roma                 Athletics Men's Long Jump      NaN  \n",
       "4       Torino         Speed Skating Men's 10,000 metres      NaN  "
      ]
     },
     "execution_count": 8,
     "metadata": {},
     "output_type": "execute_result"
    }
   ],
   "source": [
    "athletes = generate_random_athletes(ATHLETES.copy())\n",
    "athletes_info(athletes)"
   ]
  },
  {
   "cell_type": "markdown",
   "metadata": {},
   "source": [
    "# VISUALIZING DATA WITH PANDAS AND PLOTLY"
   ]
  },
  {
   "cell_type": "code",
   "execution_count": 9,
   "metadata": {},
   "outputs": [],
   "source": [
    "ATHLETE_EVENTS_CSV = pd.read_csv('./assets/athlete_events.csv')\n",
    "NOC_REGIONS_CSV = pd.read_csv('./assets/noc_regions.csv')"
   ]
  },
  {
   "cell_type": "markdown",
   "metadata": {},
   "source": [
    "### Count number of competitors per olympic"
   ]
  },
  {
   "cell_type": "code",
   "execution_count": 10,
   "metadata": {},
   "outputs": [],
   "source": [
    "def plot_summer_winter_athletes(olympics_df):\n",
    "    summer_df = olympics_df[olympics_df['Season'] == 'Summer']\n",
    "    winter_df = olympics_df[olympics_df['Season'] == 'Winter']\n",
    "\n",
    "    summer = go.Scatter(\n",
    "        x = summer_df['Year'],\n",
    "        y = summer_df['Athletes'],\n",
    "        name=\"Jogos de Verão\",\n",
    "        marker=dict(color=\"Green\"),\n",
    "        mode = \"markers+lines\"\n",
    "    )\n",
    "    winter = go.Scatter(\n",
    "        x = winter_df['Year'],\n",
    "        y = winter_df['Athletes'],\n",
    "        name=\"Jogos de Inverno\",\n",
    "        marker=dict(color=\"Red\"),\n",
    "        mode = \"markers+lines\"\n",
    "    )\n",
    "\n",
    "    data = [summer, winter]\n",
    "    layout = dict(title = 'Competidores por Olimpíadas',\n",
    "              xaxis = dict(title = 'Ano', showticklabels=True), \n",
    "              yaxis = dict(title = 'Número de Competidores'),\n",
    "              hovermode = 'closest'\n",
    "             )\n",
    "    fig = dict(data=data, layout=layout)\n",
    "    iplot(fig, filename='olympic_athletes')"
   ]
  },
  {
   "cell_type": "code",
   "execution_count": 11,
   "metadata": {},
   "outputs": [
    {
     "data": {
      "application/vnd.plotly.v1+json": {
       "config": {
        "linkText": "Export to plot.ly",
        "plotlyServerURL": "https://plot.ly",
        "showLink": false
       },
       "data": [
        {
         "marker": {
          "color": "Green"
         },
         "mode": "markers+lines",
         "name": "Jogos de Verão",
         "type": "scatter",
         "uid": "573c6b2e-6865-4b48-a582-bc5b976f968c",
         "x": [
          1896,
          1900,
          1904,
          1906,
          1908,
          1912,
          1920,
          1924,
          1928,
          1932,
          1936,
          1948,
          1952,
          1956,
          1960,
          1964,
          1968,
          1972,
          1976,
          1980,
          1984,
          1988,
          1992,
          1996,
          2000,
          2004,
          2008,
          2012,
          2016
         ],
         "y": [
          380,
          1936,
          1301,
          1733,
          3101,
          4040,
          4292,
          5233,
          4992,
          2969,
          6506,
          6405,
          8270,
          5127,
          8119,
          7702,
          8588,
          10304,
          8641,
          7191,
          9454,
          12037,
          12977,
          13780,
          13821,
          13443,
          13602,
          12920,
          13688
         ]
        },
        {
         "marker": {
          "color": "Red"
         },
         "mode": "markers+lines",
         "name": "Jogos de Inverno",
         "type": "scatter",
         "uid": "2c78b3a2-82d4-4ad5-87ef-d3a194d77eec",
         "x": [
          1924,
          1928,
          1932,
          1936,
          1948,
          1952,
          1956,
          1960,
          1964,
          1968,
          1972,
          1976,
          1980,
          1984,
          1988,
          1992,
          1994,
          1998,
          2002,
          2006,
          2010,
          2014
         ],
         "y": [
          460,
          582,
          352,
          895,
          1075,
          1088,
          1307,
          1116,
          1778,
          1891,
          1655,
          1861,
          1746,
          2134,
          2639,
          3436,
          3160,
          3605,
          4109,
          4382,
          4402,
          4891
         ]
        }
       ],
       "layout": {
        "hovermode": "closest",
        "title": {
         "text": "Competidores por Olimpíadas"
        },
        "xaxis": {
         "showticklabels": true,
         "title": {
          "text": "Ano"
         }
        },
        "yaxis": {
         "title": {
          "text": "Número de Competidores"
         }
        }
       }
      },
      "text/html": [
       "<div id=\"e34e8eba-1119-4d9d-8042-d17273921001\" style=\"height: 525px; width: 100%;\" class=\"plotly-graph-div\"></div><script type=\"text/javascript\">require([\"plotly\"], function(Plotly) { window.PLOTLYENV=window.PLOTLYENV || {};window.PLOTLYENV.BASE_URL=\"https://plot.ly\";\n",
       "if (document.getElementById(\"e34e8eba-1119-4d9d-8042-d17273921001\")) {\n",
       "    Plotly.newPlot(\"e34e8eba-1119-4d9d-8042-d17273921001\", [{\"marker\": {\"color\": \"Green\"}, \"mode\": \"markers+lines\", \"name\": \"Jogos de Ver\\u00e3o\", \"x\": [1896, 1900, 1904, 1906, 1908, 1912, 1920, 1924, 1928, 1932, 1936, 1948, 1952, 1956, 1960, 1964, 1968, 1972, 1976, 1980, 1984, 1988, 1992, 1996, 2000, 2004, 2008, 2012, 2016], \"y\": [380, 1936, 1301, 1733, 3101, 4040, 4292, 5233, 4992, 2969, 6506, 6405, 8270, 5127, 8119, 7702, 8588, 10304, 8641, 7191, 9454, 12037, 12977, 13780, 13821, 13443, 13602, 12920, 13688], \"type\": \"scatter\", \"uid\": \"69ee893f-1539-4646-96e5-47e82355262a\"}, {\"marker\": {\"color\": \"Red\"}, \"mode\": \"markers+lines\", \"name\": \"Jogos de Inverno\", \"x\": [1924, 1928, 1932, 1936, 1948, 1952, 1956, 1960, 1964, 1968, 1972, 1976, 1980, 1984, 1988, 1992, 1994, 1998, 2002, 2006, 2010, 2014], \"y\": [460, 582, 352, 895, 1075, 1088, 1307, 1116, 1778, 1891, 1655, 1861, 1746, 2134, 2639, 3436, 3160, 3605, 4109, 4382, 4402, 4891], \"type\": \"scatter\", \"uid\": \"a2a767b0-9dd0-4fbc-a57f-813cdd51b8d8\"}], {\"hovermode\": \"closest\", \"title\": {\"text\": \"Competidores por Olimp\\u00edadas\"}, \"xaxis\": {\"showticklabels\": true, \"title\": {\"text\": \"Ano\"}}, \"yaxis\": {\"title\": {\"text\": \"N\\u00famero de Competidores\"}}}, {\"showLink\": false, \"linkText\": \"Export to plot.ly\", \"plotlyServerURL\": \"https://plot.ly\"}); \n",
       "}\n",
       "});</script><script type=\"text/javascript\">window.addEventListener(\"resize\", function(){if (document.getElementById(\"e34e8eba-1119-4d9d-8042-d17273921001\")) {window._Plotly.Plots.resize(document.getElementById(\"e34e8eba-1119-4d9d-8042-d17273921001\"));};})</script>"
      ],
      "text/vnd.plotly.v1+html": [
       "<div id=\"e34e8eba-1119-4d9d-8042-d17273921001\" style=\"height: 525px; width: 100%;\" class=\"plotly-graph-div\"></div><script type=\"text/javascript\">require([\"plotly\"], function(Plotly) { window.PLOTLYENV=window.PLOTLYENV || {};window.PLOTLYENV.BASE_URL=\"https://plot.ly\";\n",
       "if (document.getElementById(\"e34e8eba-1119-4d9d-8042-d17273921001\")) {\n",
       "    Plotly.newPlot(\"e34e8eba-1119-4d9d-8042-d17273921001\", [{\"marker\": {\"color\": \"Green\"}, \"mode\": \"markers+lines\", \"name\": \"Jogos de Ver\\u00e3o\", \"x\": [1896, 1900, 1904, 1906, 1908, 1912, 1920, 1924, 1928, 1932, 1936, 1948, 1952, 1956, 1960, 1964, 1968, 1972, 1976, 1980, 1984, 1988, 1992, 1996, 2000, 2004, 2008, 2012, 2016], \"y\": [380, 1936, 1301, 1733, 3101, 4040, 4292, 5233, 4992, 2969, 6506, 6405, 8270, 5127, 8119, 7702, 8588, 10304, 8641, 7191, 9454, 12037, 12977, 13780, 13821, 13443, 13602, 12920, 13688], \"type\": \"scatter\", \"uid\": \"69ee893f-1539-4646-96e5-47e82355262a\"}, {\"marker\": {\"color\": \"Red\"}, \"mode\": \"markers+lines\", \"name\": \"Jogos de Inverno\", \"x\": [1924, 1928, 1932, 1936, 1948, 1952, 1956, 1960, 1964, 1968, 1972, 1976, 1980, 1984, 1988, 1992, 1994, 1998, 2002, 2006, 2010, 2014], \"y\": [460, 582, 352, 895, 1075, 1088, 1307, 1116, 1778, 1891, 1655, 1861, 1746, 2134, 2639, 3436, 3160, 3605, 4109, 4382, 4402, 4891], \"type\": \"scatter\", \"uid\": \"a2a767b0-9dd0-4fbc-a57f-813cdd51b8d8\"}], {\"hovermode\": \"closest\", \"title\": {\"text\": \"Competidores por Olimp\\u00edadas\"}, \"xaxis\": {\"showticklabels\": true, \"title\": {\"text\": \"Ano\"}}, \"yaxis\": {\"title\": {\"text\": \"N\\u00famero de Competidores\"}}}, {\"showLink\": false, \"linkText\": \"Export to plot.ly\", \"plotlyServerURL\": \"https://plot.ly\"}); \n",
       "}\n",
       "});</script><script type=\"text/javascript\">window.addEventListener(\"resize\", function(){if (document.getElementById(\"e34e8eba-1119-4d9d-8042-d17273921001\")) {window._Plotly.Plots.resize(document.getElementById(\"e34e8eba-1119-4d9d-8042-d17273921001\"));};})</script>"
      ]
     },
     "metadata": {},
     "output_type": "display_data"
    }
   ],
   "source": [
    "olympic_athletes = ATHLETE_EVENTS_CSV.groupby('Year')['Season'].value_counts()\n",
    "\n",
    "olympics_df = pd.DataFrame(\n",
    "    data = {'Athletes': olympic_athletes.values},\n",
    "    index = olympic_athletes.index\n",
    ").reset_index()\n",
    "\n",
    "\n",
    "plot_summer_winter_athletes(olympics_df)"
   ]
  },
  {
   "cell_type": "markdown",
   "metadata": {},
   "source": [
    "# OLYMPIC GAMES - COUNTRY'S PARTICIPATION"
   ]
  },
  {
   "cell_type": "markdown",
   "metadata": {},
   "source": [
    "### Draw 3D map with countries partition"
   ]
  },
  {
   "cell_type": "code",
   "execution_count": 12,
   "metadata": {},
   "outputs": [],
   "source": [
    "def draw_map(dataset, title, colorscale, map_type = 'orthographic'):\n",
    "    trace = go.Choropleth(\n",
    "                locations = dataset['Country'],\n",
    "                locationmode = 'country names',\n",
    "                z = dataset['Editions'],\n",
    "                text = dataset['Country'],\n",
    "                autocolorscale = False,\n",
    "                reversescale = False,\n",
    "                colorscale = colorscale,\n",
    "                marker = dict(\n",
    "                    line = dict(\n",
    "                        color = 'rgb(0,0,0)',\n",
    "                        width = 0.5)\n",
    "                ),\n",
    "                colorbar = dict(\n",
    "                    title = 'Edições',\n",
    "                    tickprefix = '')\n",
    "            )\n",
    "\n",
    "    data = [trace]\n",
    "    layout = go.Layout(\n",
    "        title = title,\n",
    "        geo = dict(\n",
    "            showframe = True,\n",
    "            showlakes = False,\n",
    "            showcoastlines = True,\n",
    "            projection = dict(\n",
    "                type = map_type\n",
    "            )\n",
    "        )\n",
    "    )\n",
    "    \n",
    "    fig = dict( data=data, layout=layout)\n",
    "    iplot(fig)"
   ]
  },
  {
   "cell_type": "markdown",
   "metadata": {},
   "source": [
    "### Merge athletes with regions datasets"
   ]
  },
  {
   "cell_type": "code",
   "execution_count": 13,
   "metadata": {},
   "outputs": [],
   "source": [
    "olympics_df = ATHLETE_EVENTS_CSV.merge(NOC_REGIONS_CSV)\n",
    "olympics_df = olympics_df.rename(columns = {'region':'Country'})\n",
    "\n",
    "countries_participations = olympics_df.groupby(['Country', 'Season'])['Year'].nunique()\n",
    "\n",
    "olympic_editions = pd.DataFrame(\n",
    "    data={'Editions': countries_participations.values},\n",
    "    index=countries_participations.index\n",
    ").reset_index()"
   ]
  },
  {
   "cell_type": "markdown",
   "metadata": {},
   "source": [
    "## Participation per country in summer editions"
   ]
  },
  {
   "cell_type": "code",
   "execution_count": 14,
   "metadata": {},
   "outputs": [
    {
     "data": {
      "application/vnd.plotly.v1+json": {
       "config": {
        "linkText": "Export to plot.ly",
        "plotlyServerURL": "https://plot.ly",
        "showLink": false
       },
       "data": [
        {
         "autocolorscale": false,
         "colorbar": {
          "tickprefix": "",
          "title": {
           "text": "Edições"
          }
         },
         "colorscale": "Reds",
         "locationmode": "country names",
         "locations": [
          "Afghanistan",
          "Albania",
          "Algeria",
          "American Samoa",
          "Andorra",
          "Angola",
          "Antigua",
          "Argentina",
          "Armenia",
          "Aruba",
          "Australia",
          "Austria",
          "Azerbaijan",
          "Bahamas",
          "Bahrain",
          "Bangladesh",
          "Barbados",
          "Belarus",
          "Belgium",
          "Belize",
          "Benin",
          "Bermuda",
          "Bhutan",
          "Boliva",
          "Bosnia and Herzegovina",
          "Botswana",
          "Brazil",
          "Brunei",
          "Bulgaria",
          "Burkina Faso",
          "Burundi",
          "Cambodia",
          "Cameroon",
          "Canada",
          "Cape Verde",
          "Cayman Islands",
          "Central African Republic",
          "Chad",
          "Chile",
          "China",
          "Colombia",
          "Comoros",
          "Cook Islands",
          "Costa Rica",
          "Croatia",
          "Cuba",
          "Curacao",
          "Cyprus",
          "Czech Republic",
          "Democratic Republic of the Congo",
          "Denmark",
          "Djibouti",
          "Dominica",
          "Dominican Republic",
          "Ecuador",
          "Egypt",
          "El Salvador",
          "Equatorial Guinea",
          "Eritrea",
          "Estonia",
          "Ethiopia",
          "Fiji",
          "Finland",
          "France",
          "Gabon",
          "Gambia",
          "Georgia",
          "Germany",
          "Ghana",
          "Greece",
          "Grenada",
          "Guam",
          "Guatemala",
          "Guinea",
          "Guinea-Bissau",
          "Guyana",
          "Haiti",
          "Honduras",
          "Hungary",
          "Iceland",
          "India",
          "Individual Olympic Athletes",
          "Indonesia",
          "Iran",
          "Iraq",
          "Ireland",
          "Israel",
          "Italy",
          "Ivory Coast",
          "Jamaica",
          "Japan",
          "Jordan",
          "Kazakhstan",
          "Kenya",
          "Kiribati",
          "Kosovo",
          "Kuwait",
          "Kyrgyzstan",
          "Laos",
          "Latvia",
          "Lebanon",
          "Lesotho",
          "Liberia",
          "Libya",
          "Liechtenstein",
          "Lithuania",
          "Luxembourg",
          "Macedonia",
          "Madagascar",
          "Malawi",
          "Malaysia",
          "Maldives",
          "Mali",
          "Malta",
          "Marshall Islands",
          "Mauritania",
          "Mauritius",
          "Mexico",
          "Micronesia",
          "Moldova",
          "Monaco",
          "Mongolia",
          "Montenegro",
          "Morocco",
          "Mozambique",
          "Myanmar",
          "Namibia",
          "Nauru",
          "Nepal",
          "Netherlands",
          "New Zealand",
          "Nicaragua",
          "Niger",
          "Nigeria",
          "North Korea",
          "Norway",
          "Oman",
          "Pakistan",
          "Palau",
          "Palestine",
          "Panama",
          "Papua New Guinea",
          "Paraguay",
          "Peru",
          "Philippines",
          "Poland",
          "Portugal",
          "Puerto Rico",
          "Qatar",
          "Republic of Congo",
          "Romania",
          "Russia",
          "Rwanda",
          "Saint Kitts",
          "Saint Lucia",
          "Saint Vincent",
          "Samoa",
          "San Marino",
          "Sao Tome and Principe",
          "Saudi Arabia",
          "Senegal",
          "Serbia",
          "Seychelles",
          "Sierra Leone",
          "Slovakia",
          "Slovenia",
          "Solomon Islands",
          "Somalia",
          "South Africa",
          "South Korea",
          "South Sudan",
          "Spain",
          "Sri Lanka",
          "Sudan",
          "Suriname",
          "Swaziland",
          "Sweden",
          "Switzerland",
          "Syria",
          "Taiwan",
          "Tajikistan",
          "Tanzania",
          "Thailand",
          "Timor-Leste",
          "Togo",
          "Tonga",
          "Trinidad",
          "Tunisia",
          "Turkey",
          "Turkmenistan",
          "UK",
          "USA",
          "Uganda",
          "Ukraine",
          "United Arab Emirates",
          "Uruguay",
          "Uzbekistan",
          "Vanuatu",
          "Venezuela",
          "Vietnam",
          "Virgin Islands, British",
          "Virgin Islands, US",
          "Yemen",
          "Zambia",
          "Zimbabwe"
         ],
         "marker": {
          "line": {
           "color": "rgb(0,0,0)",
           "width": 0.5
          }
         },
         "reversescale": false,
         "text": [
          "Afghanistan",
          "Albania",
          "Algeria",
          "American Samoa",
          "Andorra",
          "Angola",
          "Antigua",
          "Argentina",
          "Armenia",
          "Aruba",
          "Australia",
          "Austria",
          "Azerbaijan",
          "Bahamas",
          "Bahrain",
          "Bangladesh",
          "Barbados",
          "Belarus",
          "Belgium",
          "Belize",
          "Benin",
          "Bermuda",
          "Bhutan",
          "Boliva",
          "Bosnia and Herzegovina",
          "Botswana",
          "Brazil",
          "Brunei",
          "Bulgaria",
          "Burkina Faso",
          "Burundi",
          "Cambodia",
          "Cameroon",
          "Canada",
          "Cape Verde",
          "Cayman Islands",
          "Central African Republic",
          "Chad",
          "Chile",
          "China",
          "Colombia",
          "Comoros",
          "Cook Islands",
          "Costa Rica",
          "Croatia",
          "Cuba",
          "Curacao",
          "Cyprus",
          "Czech Republic",
          "Democratic Republic of the Congo",
          "Denmark",
          "Djibouti",
          "Dominica",
          "Dominican Republic",
          "Ecuador",
          "Egypt",
          "El Salvador",
          "Equatorial Guinea",
          "Eritrea",
          "Estonia",
          "Ethiopia",
          "Fiji",
          "Finland",
          "France",
          "Gabon",
          "Gambia",
          "Georgia",
          "Germany",
          "Ghana",
          "Greece",
          "Grenada",
          "Guam",
          "Guatemala",
          "Guinea",
          "Guinea-Bissau",
          "Guyana",
          "Haiti",
          "Honduras",
          "Hungary",
          "Iceland",
          "India",
          "Individual Olympic Athletes",
          "Indonesia",
          "Iran",
          "Iraq",
          "Ireland",
          "Israel",
          "Italy",
          "Ivory Coast",
          "Jamaica",
          "Japan",
          "Jordan",
          "Kazakhstan",
          "Kenya",
          "Kiribati",
          "Kosovo",
          "Kuwait",
          "Kyrgyzstan",
          "Laos",
          "Latvia",
          "Lebanon",
          "Lesotho",
          "Liberia",
          "Libya",
          "Liechtenstein",
          "Lithuania",
          "Luxembourg",
          "Macedonia",
          "Madagascar",
          "Malawi",
          "Malaysia",
          "Maldives",
          "Mali",
          "Malta",
          "Marshall Islands",
          "Mauritania",
          "Mauritius",
          "Mexico",
          "Micronesia",
          "Moldova",
          "Monaco",
          "Mongolia",
          "Montenegro",
          "Morocco",
          "Mozambique",
          "Myanmar",
          "Namibia",
          "Nauru",
          "Nepal",
          "Netherlands",
          "New Zealand",
          "Nicaragua",
          "Niger",
          "Nigeria",
          "North Korea",
          "Norway",
          "Oman",
          "Pakistan",
          "Palau",
          "Palestine",
          "Panama",
          "Papua New Guinea",
          "Paraguay",
          "Peru",
          "Philippines",
          "Poland",
          "Portugal",
          "Puerto Rico",
          "Qatar",
          "Republic of Congo",
          "Romania",
          "Russia",
          "Rwanda",
          "Saint Kitts",
          "Saint Lucia",
          "Saint Vincent",
          "Samoa",
          "San Marino",
          "Sao Tome and Principe",
          "Saudi Arabia",
          "Senegal",
          "Serbia",
          "Seychelles",
          "Sierra Leone",
          "Slovakia",
          "Slovenia",
          "Solomon Islands",
          "Somalia",
          "South Africa",
          "South Korea",
          "South Sudan",
          "Spain",
          "Sri Lanka",
          "Sudan",
          "Suriname",
          "Swaziland",
          "Sweden",
          "Switzerland",
          "Syria",
          "Taiwan",
          "Tajikistan",
          "Tanzania",
          "Thailand",
          "Timor-Leste",
          "Togo",
          "Tonga",
          "Trinidad",
          "Tunisia",
          "Turkey",
          "Turkmenistan",
          "UK",
          "USA",
          "Uganda",
          "Ukraine",
          "United Arab Emirates",
          "Uruguay",
          "Uzbekistan",
          "Vanuatu",
          "Venezuela",
          "Vietnam",
          "Virgin Islands, British",
          "Virgin Islands, US",
          "Yemen",
          "Zambia",
          "Zimbabwe"
         ],
         "type": "choropleth",
         "uid": "e53cb92e-4333-4d89-bf51-0ff45579a9ac",
         "z": [
          14,
          8,
          13,
          8,
          11,
          9,
          10,
          24,
          6,
          8,
          29,
          28,
          6,
          16,
          9,
          9,
          12,
          6,
          27,
          12,
          11,
          18,
          9,
          14,
          7,
          10,
          23,
          5,
          20,
          9,
          6,
          9,
          14,
          27,
          6,
          10,
          10,
          12,
          22,
          19,
          20,
          6,
          8,
          15,
          7,
          21,
          13,
          10,
          26,
          10,
          28,
          8,
          6,
          14,
          14,
          21,
          12,
          9,
          5,
          12,
          13,
          14,
          26,
          29,
          10,
          9,
          6,
          26,
          14,
          29,
          9,
          8,
          15,
          11,
          6,
          17,
          16,
          11,
          27,
          21,
          24,
          4,
          15,
          17,
          14,
          21,
          16,
          29,
          13,
          17,
          22,
          10,
          6,
          14,
          4,
          1,
          12,
          6,
          9,
          11,
          17,
          11,
          12,
          10,
          17,
          9,
          25,
          6,
          12,
          10,
          15,
          8,
          13,
          16,
          3,
          9,
          9,
          23,
          5,
          6,
          21,
          13,
          3,
          14,
          10,
          17,
          7,
          6,
          13,
          27,
          24,
          12,
          12,
          16,
          10,
          27,
          9,
          17,
          5,
          6,
          17,
          10,
          12,
          20,
          21,
          22,
          24,
          18,
          9,
          12,
          22,
          20,
          9,
          6,
          6,
          8,
          9,
          14,
          6,
          11,
          14,
          23,
          9,
          11,
          6,
          7,
          9,
          9,
          19,
          17,
          1,
          23,
          17,
          12,
          12,
          10,
          28,
          29,
          14,
          14,
          6,
          13,
          16,
          4,
          10,
          9,
          18,
          14,
          23,
          6,
          29,
          28,
          15,
          6,
          9,
          21,
          6,
          8,
          19,
          15,
          9,
          12,
          9,
          13,
          13
         ]
        }
       ],
       "layout": {
        "geo": {
         "projection": {
          "type": "orthographic"
         },
         "showcoastlines": true,
         "showframe": true,
         "showlakes": false
        },
        "title": {
         "text": "PARTICIPAÇÃO MUNDIAL NOS JOGOS OLÍMPICOS DE VERÃO"
        }
       }
      },
      "text/html": [
       "<div id=\"9d28e476-7e0d-414a-98da-81e96f516e88\" style=\"height: 525px; width: 100%;\" class=\"plotly-graph-div\"></div><script type=\"text/javascript\">require([\"plotly\"], function(Plotly) { window.PLOTLYENV=window.PLOTLYENV || {};window.PLOTLYENV.BASE_URL=\"https://plot.ly\";\n",
       "if (document.getElementById(\"9d28e476-7e0d-414a-98da-81e96f516e88\")) {\n",
       "    Plotly.newPlot(\"9d28e476-7e0d-414a-98da-81e96f516e88\", [{\"autocolorscale\": false, \"colorbar\": {\"tickprefix\": \"\", \"title\": {\"text\": \"Edi\\u00e7\\u00f5es\"}}, \"colorscale\": \"Reds\", \"locationmode\": \"country names\", \"locations\": [\"Afghanistan\", \"Albania\", \"Algeria\", \"American Samoa\", \"Andorra\", \"Angola\", \"Antigua\", \"Argentina\", \"Armenia\", \"Aruba\", \"Australia\", \"Austria\", \"Azerbaijan\", \"Bahamas\", \"Bahrain\", \"Bangladesh\", \"Barbados\", \"Belarus\", \"Belgium\", \"Belize\", \"Benin\", \"Bermuda\", \"Bhutan\", \"Boliva\", \"Bosnia and Herzegovina\", \"Botswana\", \"Brazil\", \"Brunei\", \"Bulgaria\", \"Burkina Faso\", \"Burundi\", \"Cambodia\", \"Cameroon\", \"Canada\", \"Cape Verde\", \"Cayman Islands\", \"Central African Republic\", \"Chad\", \"Chile\", \"China\", \"Colombia\", \"Comoros\", \"Cook Islands\", \"Costa Rica\", \"Croatia\", \"Cuba\", \"Curacao\", \"Cyprus\", \"Czech Republic\", \"Democratic Republic of the Congo\", \"Denmark\", \"Djibouti\", \"Dominica\", \"Dominican Republic\", \"Ecuador\", \"Egypt\", \"El Salvador\", \"Equatorial Guinea\", \"Eritrea\", \"Estonia\", \"Ethiopia\", \"Fiji\", \"Finland\", \"France\", \"Gabon\", \"Gambia\", \"Georgia\", \"Germany\", \"Ghana\", \"Greece\", \"Grenada\", \"Guam\", \"Guatemala\", \"Guinea\", \"Guinea-Bissau\", \"Guyana\", \"Haiti\", \"Honduras\", \"Hungary\", \"Iceland\", \"India\", \"Individual Olympic Athletes\", \"Indonesia\", \"Iran\", \"Iraq\", \"Ireland\", \"Israel\", \"Italy\", \"Ivory Coast\", \"Jamaica\", \"Japan\", \"Jordan\", \"Kazakhstan\", \"Kenya\", \"Kiribati\", \"Kosovo\", \"Kuwait\", \"Kyrgyzstan\", \"Laos\", \"Latvia\", \"Lebanon\", \"Lesotho\", \"Liberia\", \"Libya\", \"Liechtenstein\", \"Lithuania\", \"Luxembourg\", \"Macedonia\", \"Madagascar\", \"Malawi\", \"Malaysia\", \"Maldives\", \"Mali\", \"Malta\", \"Marshall Islands\", \"Mauritania\", \"Mauritius\", \"Mexico\", \"Micronesia\", \"Moldova\", \"Monaco\", \"Mongolia\", \"Montenegro\", \"Morocco\", \"Mozambique\", \"Myanmar\", \"Namibia\", \"Nauru\", \"Nepal\", \"Netherlands\", \"New Zealand\", \"Nicaragua\", \"Niger\", \"Nigeria\", \"North Korea\", \"Norway\", \"Oman\", \"Pakistan\", \"Palau\", \"Palestine\", \"Panama\", \"Papua New Guinea\", \"Paraguay\", \"Peru\", \"Philippines\", \"Poland\", \"Portugal\", \"Puerto Rico\", \"Qatar\", \"Republic of Congo\", \"Romania\", \"Russia\", \"Rwanda\", \"Saint Kitts\", \"Saint Lucia\", \"Saint Vincent\", \"Samoa\", \"San Marino\", \"Sao Tome and Principe\", \"Saudi Arabia\", \"Senegal\", \"Serbia\", \"Seychelles\", \"Sierra Leone\", \"Slovakia\", \"Slovenia\", \"Solomon Islands\", \"Somalia\", \"South Africa\", \"South Korea\", \"South Sudan\", \"Spain\", \"Sri Lanka\", \"Sudan\", \"Suriname\", \"Swaziland\", \"Sweden\", \"Switzerland\", \"Syria\", \"Taiwan\", \"Tajikistan\", \"Tanzania\", \"Thailand\", \"Timor-Leste\", \"Togo\", \"Tonga\", \"Trinidad\", \"Tunisia\", \"Turkey\", \"Turkmenistan\", \"UK\", \"USA\", \"Uganda\", \"Ukraine\", \"United Arab Emirates\", \"Uruguay\", \"Uzbekistan\", \"Vanuatu\", \"Venezuela\", \"Vietnam\", \"Virgin Islands, British\", \"Virgin Islands, US\", \"Yemen\", \"Zambia\", \"Zimbabwe\"], \"marker\": {\"line\": {\"color\": \"rgb(0,0,0)\", \"width\": 0.5}}, \"reversescale\": false, \"text\": [\"Afghanistan\", \"Albania\", \"Algeria\", \"American Samoa\", \"Andorra\", \"Angola\", \"Antigua\", \"Argentina\", \"Armenia\", \"Aruba\", \"Australia\", \"Austria\", \"Azerbaijan\", \"Bahamas\", \"Bahrain\", \"Bangladesh\", \"Barbados\", \"Belarus\", \"Belgium\", \"Belize\", \"Benin\", \"Bermuda\", \"Bhutan\", \"Boliva\", \"Bosnia and Herzegovina\", \"Botswana\", \"Brazil\", \"Brunei\", \"Bulgaria\", \"Burkina Faso\", \"Burundi\", \"Cambodia\", \"Cameroon\", \"Canada\", \"Cape Verde\", \"Cayman Islands\", \"Central African Republic\", \"Chad\", \"Chile\", \"China\", \"Colombia\", \"Comoros\", \"Cook Islands\", \"Costa Rica\", \"Croatia\", \"Cuba\", \"Curacao\", \"Cyprus\", \"Czech Republic\", \"Democratic Republic of the Congo\", \"Denmark\", \"Djibouti\", \"Dominica\", \"Dominican Republic\", \"Ecuador\", \"Egypt\", \"El Salvador\", \"Equatorial Guinea\", \"Eritrea\", \"Estonia\", \"Ethiopia\", \"Fiji\", \"Finland\", \"France\", \"Gabon\", \"Gambia\", \"Georgia\", \"Germany\", \"Ghana\", \"Greece\", \"Grenada\", \"Guam\", \"Guatemala\", \"Guinea\", \"Guinea-Bissau\", \"Guyana\", \"Haiti\", \"Honduras\", \"Hungary\", \"Iceland\", \"India\", \"Individual Olympic Athletes\", \"Indonesia\", \"Iran\", \"Iraq\", \"Ireland\", \"Israel\", \"Italy\", \"Ivory Coast\", \"Jamaica\", \"Japan\", \"Jordan\", \"Kazakhstan\", \"Kenya\", \"Kiribati\", \"Kosovo\", \"Kuwait\", \"Kyrgyzstan\", \"Laos\", \"Latvia\", \"Lebanon\", \"Lesotho\", \"Liberia\", \"Libya\", \"Liechtenstein\", \"Lithuania\", \"Luxembourg\", \"Macedonia\", \"Madagascar\", \"Malawi\", \"Malaysia\", \"Maldives\", \"Mali\", \"Malta\", \"Marshall Islands\", \"Mauritania\", \"Mauritius\", \"Mexico\", \"Micronesia\", \"Moldova\", \"Monaco\", \"Mongolia\", \"Montenegro\", \"Morocco\", \"Mozambique\", \"Myanmar\", \"Namibia\", \"Nauru\", \"Nepal\", \"Netherlands\", \"New Zealand\", \"Nicaragua\", \"Niger\", \"Nigeria\", \"North Korea\", \"Norway\", \"Oman\", \"Pakistan\", \"Palau\", \"Palestine\", \"Panama\", \"Papua New Guinea\", \"Paraguay\", \"Peru\", \"Philippines\", \"Poland\", \"Portugal\", \"Puerto Rico\", \"Qatar\", \"Republic of Congo\", \"Romania\", \"Russia\", \"Rwanda\", \"Saint Kitts\", \"Saint Lucia\", \"Saint Vincent\", \"Samoa\", \"San Marino\", \"Sao Tome and Principe\", \"Saudi Arabia\", \"Senegal\", \"Serbia\", \"Seychelles\", \"Sierra Leone\", \"Slovakia\", \"Slovenia\", \"Solomon Islands\", \"Somalia\", \"South Africa\", \"South Korea\", \"South Sudan\", \"Spain\", \"Sri Lanka\", \"Sudan\", \"Suriname\", \"Swaziland\", \"Sweden\", \"Switzerland\", \"Syria\", \"Taiwan\", \"Tajikistan\", \"Tanzania\", \"Thailand\", \"Timor-Leste\", \"Togo\", \"Tonga\", \"Trinidad\", \"Tunisia\", \"Turkey\", \"Turkmenistan\", \"UK\", \"USA\", \"Uganda\", \"Ukraine\", \"United Arab Emirates\", \"Uruguay\", \"Uzbekistan\", \"Vanuatu\", \"Venezuela\", \"Vietnam\", \"Virgin Islands, British\", \"Virgin Islands, US\", \"Yemen\", \"Zambia\", \"Zimbabwe\"], \"z\": [14, 8, 13, 8, 11, 9, 10, 24, 6, 8, 29, 28, 6, 16, 9, 9, 12, 6, 27, 12, 11, 18, 9, 14, 7, 10, 23, 5, 20, 9, 6, 9, 14, 27, 6, 10, 10, 12, 22, 19, 20, 6, 8, 15, 7, 21, 13, 10, 26, 10, 28, 8, 6, 14, 14, 21, 12, 9, 5, 12, 13, 14, 26, 29, 10, 9, 6, 26, 14, 29, 9, 8, 15, 11, 6, 17, 16, 11, 27, 21, 24, 4, 15, 17, 14, 21, 16, 29, 13, 17, 22, 10, 6, 14, 4, 1, 12, 6, 9, 11, 17, 11, 12, 10, 17, 9, 25, 6, 12, 10, 15, 8, 13, 16, 3, 9, 9, 23, 5, 6, 21, 13, 3, 14, 10, 17, 7, 6, 13, 27, 24, 12, 12, 16, 10, 27, 9, 17, 5, 6, 17, 10, 12, 20, 21, 22, 24, 18, 9, 12, 22, 20, 9, 6, 6, 8, 9, 14, 6, 11, 14, 23, 9, 11, 6, 7, 9, 9, 19, 17, 1, 23, 17, 12, 12, 10, 28, 29, 14, 14, 6, 13, 16, 4, 10, 9, 18, 14, 23, 6, 29, 28, 15, 6, 9, 21, 6, 8, 19, 15, 9, 12, 9, 13, 13], \"type\": \"choropleth\", \"uid\": \"d6faf9ec-2ab7-45e3-affb-a7f799cb4808\"}], {\"geo\": {\"projection\": {\"type\": \"orthographic\"}, \"showcoastlines\": true, \"showframe\": true, \"showlakes\": false}, \"title\": {\"text\": \"PARTICIPA\\u00c7\\u00c3O MUNDIAL NOS JOGOS OL\\u00cdMPICOS DE VER\\u00c3O\"}}, {\"showLink\": false, \"linkText\": \"Export to plot.ly\", \"plotlyServerURL\": \"https://plot.ly\"}); \n",
       "}\n",
       "});</script><script type=\"text/javascript\">window.addEventListener(\"resize\", function(){if (document.getElementById(\"9d28e476-7e0d-414a-98da-81e96f516e88\")) {window._Plotly.Plots.resize(document.getElementById(\"9d28e476-7e0d-414a-98da-81e96f516e88\"));};})</script>"
      ],
      "text/vnd.plotly.v1+html": [
       "<div id=\"9d28e476-7e0d-414a-98da-81e96f516e88\" style=\"height: 525px; width: 100%;\" class=\"plotly-graph-div\"></div><script type=\"text/javascript\">require([\"plotly\"], function(Plotly) { window.PLOTLYENV=window.PLOTLYENV || {};window.PLOTLYENV.BASE_URL=\"https://plot.ly\";\n",
       "if (document.getElementById(\"9d28e476-7e0d-414a-98da-81e96f516e88\")) {\n",
       "    Plotly.newPlot(\"9d28e476-7e0d-414a-98da-81e96f516e88\", [{\"autocolorscale\": false, \"colorbar\": {\"tickprefix\": \"\", \"title\": {\"text\": \"Edi\\u00e7\\u00f5es\"}}, \"colorscale\": \"Reds\", \"locationmode\": \"country names\", \"locations\": [\"Afghanistan\", \"Albania\", \"Algeria\", \"American Samoa\", \"Andorra\", \"Angola\", \"Antigua\", \"Argentina\", \"Armenia\", \"Aruba\", \"Australia\", \"Austria\", \"Azerbaijan\", \"Bahamas\", \"Bahrain\", \"Bangladesh\", \"Barbados\", \"Belarus\", \"Belgium\", \"Belize\", \"Benin\", \"Bermuda\", \"Bhutan\", \"Boliva\", \"Bosnia and Herzegovina\", \"Botswana\", \"Brazil\", \"Brunei\", \"Bulgaria\", \"Burkina Faso\", \"Burundi\", \"Cambodia\", \"Cameroon\", \"Canada\", \"Cape Verde\", \"Cayman Islands\", \"Central African Republic\", \"Chad\", \"Chile\", \"China\", \"Colombia\", \"Comoros\", \"Cook Islands\", \"Costa Rica\", \"Croatia\", \"Cuba\", \"Curacao\", \"Cyprus\", \"Czech Republic\", \"Democratic Republic of the Congo\", \"Denmark\", \"Djibouti\", \"Dominica\", \"Dominican Republic\", \"Ecuador\", \"Egypt\", \"El Salvador\", \"Equatorial Guinea\", \"Eritrea\", \"Estonia\", \"Ethiopia\", \"Fiji\", \"Finland\", \"France\", \"Gabon\", \"Gambia\", \"Georgia\", \"Germany\", \"Ghana\", \"Greece\", \"Grenada\", \"Guam\", \"Guatemala\", \"Guinea\", \"Guinea-Bissau\", \"Guyana\", \"Haiti\", \"Honduras\", \"Hungary\", \"Iceland\", \"India\", \"Individual Olympic Athletes\", \"Indonesia\", \"Iran\", \"Iraq\", \"Ireland\", \"Israel\", \"Italy\", \"Ivory Coast\", \"Jamaica\", \"Japan\", \"Jordan\", \"Kazakhstan\", \"Kenya\", \"Kiribati\", \"Kosovo\", \"Kuwait\", \"Kyrgyzstan\", \"Laos\", \"Latvia\", \"Lebanon\", \"Lesotho\", \"Liberia\", \"Libya\", \"Liechtenstein\", \"Lithuania\", \"Luxembourg\", \"Macedonia\", \"Madagascar\", \"Malawi\", \"Malaysia\", \"Maldives\", \"Mali\", \"Malta\", \"Marshall Islands\", \"Mauritania\", \"Mauritius\", \"Mexico\", \"Micronesia\", \"Moldova\", \"Monaco\", \"Mongolia\", \"Montenegro\", \"Morocco\", \"Mozambique\", \"Myanmar\", \"Namibia\", \"Nauru\", \"Nepal\", \"Netherlands\", \"New Zealand\", \"Nicaragua\", \"Niger\", \"Nigeria\", \"North Korea\", \"Norway\", \"Oman\", \"Pakistan\", \"Palau\", \"Palestine\", \"Panama\", \"Papua New Guinea\", \"Paraguay\", \"Peru\", \"Philippines\", \"Poland\", \"Portugal\", \"Puerto Rico\", \"Qatar\", \"Republic of Congo\", \"Romania\", \"Russia\", \"Rwanda\", \"Saint Kitts\", \"Saint Lucia\", \"Saint Vincent\", \"Samoa\", \"San Marino\", \"Sao Tome and Principe\", \"Saudi Arabia\", \"Senegal\", \"Serbia\", \"Seychelles\", \"Sierra Leone\", \"Slovakia\", \"Slovenia\", \"Solomon Islands\", \"Somalia\", \"South Africa\", \"South Korea\", \"South Sudan\", \"Spain\", \"Sri Lanka\", \"Sudan\", \"Suriname\", \"Swaziland\", \"Sweden\", \"Switzerland\", \"Syria\", \"Taiwan\", \"Tajikistan\", \"Tanzania\", \"Thailand\", \"Timor-Leste\", \"Togo\", \"Tonga\", \"Trinidad\", \"Tunisia\", \"Turkey\", \"Turkmenistan\", \"UK\", \"USA\", \"Uganda\", \"Ukraine\", \"United Arab Emirates\", \"Uruguay\", \"Uzbekistan\", \"Vanuatu\", \"Venezuela\", \"Vietnam\", \"Virgin Islands, British\", \"Virgin Islands, US\", \"Yemen\", \"Zambia\", \"Zimbabwe\"], \"marker\": {\"line\": {\"color\": \"rgb(0,0,0)\", \"width\": 0.5}}, \"reversescale\": false, \"text\": [\"Afghanistan\", \"Albania\", \"Algeria\", \"American Samoa\", \"Andorra\", \"Angola\", \"Antigua\", \"Argentina\", \"Armenia\", \"Aruba\", \"Australia\", \"Austria\", \"Azerbaijan\", \"Bahamas\", \"Bahrain\", \"Bangladesh\", \"Barbados\", \"Belarus\", \"Belgium\", \"Belize\", \"Benin\", \"Bermuda\", \"Bhutan\", \"Boliva\", \"Bosnia and Herzegovina\", \"Botswana\", \"Brazil\", \"Brunei\", \"Bulgaria\", \"Burkina Faso\", \"Burundi\", \"Cambodia\", \"Cameroon\", \"Canada\", \"Cape Verde\", \"Cayman Islands\", \"Central African Republic\", \"Chad\", \"Chile\", \"China\", \"Colombia\", \"Comoros\", \"Cook Islands\", \"Costa Rica\", \"Croatia\", \"Cuba\", \"Curacao\", \"Cyprus\", \"Czech Republic\", \"Democratic Republic of the Congo\", \"Denmark\", \"Djibouti\", \"Dominica\", \"Dominican Republic\", \"Ecuador\", \"Egypt\", \"El Salvador\", \"Equatorial Guinea\", \"Eritrea\", \"Estonia\", \"Ethiopia\", \"Fiji\", \"Finland\", \"France\", \"Gabon\", \"Gambia\", \"Georgia\", \"Germany\", \"Ghana\", \"Greece\", \"Grenada\", \"Guam\", \"Guatemala\", \"Guinea\", \"Guinea-Bissau\", \"Guyana\", \"Haiti\", \"Honduras\", \"Hungary\", \"Iceland\", \"India\", \"Individual Olympic Athletes\", \"Indonesia\", \"Iran\", \"Iraq\", \"Ireland\", \"Israel\", \"Italy\", \"Ivory Coast\", \"Jamaica\", \"Japan\", \"Jordan\", \"Kazakhstan\", \"Kenya\", \"Kiribati\", \"Kosovo\", \"Kuwait\", \"Kyrgyzstan\", \"Laos\", \"Latvia\", \"Lebanon\", \"Lesotho\", \"Liberia\", \"Libya\", \"Liechtenstein\", \"Lithuania\", \"Luxembourg\", \"Macedonia\", \"Madagascar\", \"Malawi\", \"Malaysia\", \"Maldives\", \"Mali\", \"Malta\", \"Marshall Islands\", \"Mauritania\", \"Mauritius\", \"Mexico\", \"Micronesia\", \"Moldova\", \"Monaco\", \"Mongolia\", \"Montenegro\", \"Morocco\", \"Mozambique\", \"Myanmar\", \"Namibia\", \"Nauru\", \"Nepal\", \"Netherlands\", \"New Zealand\", \"Nicaragua\", \"Niger\", \"Nigeria\", \"North Korea\", \"Norway\", \"Oman\", \"Pakistan\", \"Palau\", \"Palestine\", \"Panama\", \"Papua New Guinea\", \"Paraguay\", \"Peru\", \"Philippines\", \"Poland\", \"Portugal\", \"Puerto Rico\", \"Qatar\", \"Republic of Congo\", \"Romania\", \"Russia\", \"Rwanda\", \"Saint Kitts\", \"Saint Lucia\", \"Saint Vincent\", \"Samoa\", \"San Marino\", \"Sao Tome and Principe\", \"Saudi Arabia\", \"Senegal\", \"Serbia\", \"Seychelles\", \"Sierra Leone\", \"Slovakia\", \"Slovenia\", \"Solomon Islands\", \"Somalia\", \"South Africa\", \"South Korea\", \"South Sudan\", \"Spain\", \"Sri Lanka\", \"Sudan\", \"Suriname\", \"Swaziland\", \"Sweden\", \"Switzerland\", \"Syria\", \"Taiwan\", \"Tajikistan\", \"Tanzania\", \"Thailand\", \"Timor-Leste\", \"Togo\", \"Tonga\", \"Trinidad\", \"Tunisia\", \"Turkey\", \"Turkmenistan\", \"UK\", \"USA\", \"Uganda\", \"Ukraine\", \"United Arab Emirates\", \"Uruguay\", \"Uzbekistan\", \"Vanuatu\", \"Venezuela\", \"Vietnam\", \"Virgin Islands, British\", \"Virgin Islands, US\", \"Yemen\", \"Zambia\", \"Zimbabwe\"], \"z\": [14, 8, 13, 8, 11, 9, 10, 24, 6, 8, 29, 28, 6, 16, 9, 9, 12, 6, 27, 12, 11, 18, 9, 14, 7, 10, 23, 5, 20, 9, 6, 9, 14, 27, 6, 10, 10, 12, 22, 19, 20, 6, 8, 15, 7, 21, 13, 10, 26, 10, 28, 8, 6, 14, 14, 21, 12, 9, 5, 12, 13, 14, 26, 29, 10, 9, 6, 26, 14, 29, 9, 8, 15, 11, 6, 17, 16, 11, 27, 21, 24, 4, 15, 17, 14, 21, 16, 29, 13, 17, 22, 10, 6, 14, 4, 1, 12, 6, 9, 11, 17, 11, 12, 10, 17, 9, 25, 6, 12, 10, 15, 8, 13, 16, 3, 9, 9, 23, 5, 6, 21, 13, 3, 14, 10, 17, 7, 6, 13, 27, 24, 12, 12, 16, 10, 27, 9, 17, 5, 6, 17, 10, 12, 20, 21, 22, 24, 18, 9, 12, 22, 20, 9, 6, 6, 8, 9, 14, 6, 11, 14, 23, 9, 11, 6, 7, 9, 9, 19, 17, 1, 23, 17, 12, 12, 10, 28, 29, 14, 14, 6, 13, 16, 4, 10, 9, 18, 14, 23, 6, 29, 28, 15, 6, 9, 21, 6, 8, 19, 15, 9, 12, 9, 13, 13], \"type\": \"choropleth\", \"uid\": \"d6faf9ec-2ab7-45e3-affb-a7f799cb4808\"}], {\"geo\": {\"projection\": {\"type\": \"orthographic\"}, \"showcoastlines\": true, \"showframe\": true, \"showlakes\": false}, \"title\": {\"text\": \"PARTICIPA\\u00c7\\u00c3O MUNDIAL NOS JOGOS OL\\u00cdMPICOS DE VER\\u00c3O\"}}, {\"showLink\": false, \"linkText\": \"Export to plot.ly\", \"plotlyServerURL\": \"https://plot.ly\"}); \n",
       "}\n",
       "});</script><script type=\"text/javascript\">window.addEventListener(\"resize\", function(){if (document.getElementById(\"9d28e476-7e0d-414a-98da-81e96f516e88\")) {window._Plotly.Plots.resize(document.getElementById(\"9d28e476-7e0d-414a-98da-81e96f516e88\"));};})</script>"
      ]
     },
     "metadata": {},
     "output_type": "display_data"
    }
   ],
   "source": [
    "summer = olympic_editions['Season'] == 'Summer'\n",
    "summer_editions = olympic_editions[summer]\n",
    "\n",
    "draw_map(summer_editions, 'PARTICIPAÇÃO MUNDIAL NOS JOGOS OLÍMPICOS DE VERÃO', \"Reds\")"
   ]
  },
  {
   "cell_type": "markdown",
   "metadata": {},
   "source": [
    "## Participation per country in winter editions"
   ]
  },
  {
   "cell_type": "code",
   "execution_count": 15,
   "metadata": {},
   "outputs": [
    {
     "data": {
      "application/vnd.plotly.v1+json": {
       "config": {
        "linkText": "Export to plot.ly",
        "plotlyServerURL": "https://plot.ly",
        "showLink": false
       },
       "data": [
        {
         "autocolorscale": false,
         "colorbar": {
          "tickprefix": "",
          "title": {
           "text": "Edições"
          }
         },
         "colorscale": "Blues",
         "locationmode": "country names",
         "locations": [
          "Albania",
          "Algeria",
          "American Samoa",
          "Andorra",
          "Argentina",
          "Armenia",
          "Australia",
          "Austria",
          "Azerbaijan",
          "Belarus",
          "Belgium",
          "Bermuda",
          "Boliva",
          "Bosnia and Herzegovina",
          "Brazil",
          "Bulgaria",
          "Cameroon",
          "Canada",
          "Cayman Islands",
          "Chile",
          "China",
          "Colombia",
          "Costa Rica",
          "Croatia",
          "Curacao",
          "Cyprus",
          "Czech Republic",
          "Denmark",
          "Dominica",
          "Egypt",
          "Estonia",
          "Ethiopia",
          "Fiji",
          "Finland",
          "France",
          "Georgia",
          "Germany",
          "Ghana",
          "Greece",
          "Guam",
          "Guatemala",
          "Honduras",
          "Hungary",
          "Iceland",
          "India",
          "Individual Olympic Athletes",
          "Iran",
          "Ireland",
          "Israel",
          "Italy",
          "Jamaica",
          "Japan",
          "Kazakhstan",
          "Kenya",
          "Kyrgyzstan",
          "Latvia",
          "Lebanon",
          "Liechtenstein",
          "Lithuania",
          "Luxembourg",
          "Macedonia",
          "Madagascar",
          "Malta",
          "Mexico",
          "Moldova",
          "Monaco",
          "Mongolia",
          "Montenegro",
          "Morocco",
          "Nepal",
          "Netherlands",
          "New Zealand",
          "North Korea",
          "Norway",
          "Pakistan",
          "Paraguay",
          "Peru",
          "Philippines",
          "Poland",
          "Portugal",
          "Puerto Rico",
          "Romania",
          "Russia",
          "San Marino",
          "Senegal",
          "Serbia",
          "Slovakia",
          "Slovenia",
          "South Africa",
          "South Korea",
          "Spain",
          "Swaziland",
          "Sweden",
          "Switzerland",
          "Taiwan",
          "Tajikistan",
          "Thailand",
          "Timor-Leste",
          "Togo",
          "Tonga",
          "Trinidad",
          "Turkey",
          "UK",
          "USA",
          "Ukraine",
          "Uruguay",
          "Uzbekistan",
          "Venezuela",
          "Virgin Islands, British",
          "Virgin Islands, US",
          "Zimbabwe"
         ],
         "marker": {
          "line": {
           "color": "rgb(0,0,0)",
           "width": 0.5
          }
         },
         "reversescale": false,
         "text": [
          "Albania",
          "Algeria",
          "American Samoa",
          "Andorra",
          "Argentina",
          "Armenia",
          "Australia",
          "Austria",
          "Azerbaijan",
          "Belarus",
          "Belgium",
          "Bermuda",
          "Boliva",
          "Bosnia and Herzegovina",
          "Brazil",
          "Bulgaria",
          "Cameroon",
          "Canada",
          "Cayman Islands",
          "Chile",
          "China",
          "Colombia",
          "Costa Rica",
          "Croatia",
          "Curacao",
          "Cyprus",
          "Czech Republic",
          "Denmark",
          "Dominica",
          "Egypt",
          "Estonia",
          "Ethiopia",
          "Fiji",
          "Finland",
          "France",
          "Georgia",
          "Germany",
          "Ghana",
          "Greece",
          "Guam",
          "Guatemala",
          "Honduras",
          "Hungary",
          "Iceland",
          "India",
          "Individual Olympic Athletes",
          "Iran",
          "Ireland",
          "Israel",
          "Italy",
          "Jamaica",
          "Japan",
          "Kazakhstan",
          "Kenya",
          "Kyrgyzstan",
          "Latvia",
          "Lebanon",
          "Liechtenstein",
          "Lithuania",
          "Luxembourg",
          "Macedonia",
          "Madagascar",
          "Malta",
          "Mexico",
          "Moldova",
          "Monaco",
          "Mongolia",
          "Montenegro",
          "Morocco",
          "Nepal",
          "Netherlands",
          "New Zealand",
          "North Korea",
          "Norway",
          "Pakistan",
          "Paraguay",
          "Peru",
          "Philippines",
          "Poland",
          "Portugal",
          "Puerto Rico",
          "Romania",
          "Russia",
          "San Marino",
          "Senegal",
          "Serbia",
          "Slovakia",
          "Slovenia",
          "South Africa",
          "South Korea",
          "Spain",
          "Swaziland",
          "Sweden",
          "Switzerland",
          "Taiwan",
          "Tajikistan",
          "Thailand",
          "Timor-Leste",
          "Togo",
          "Tonga",
          "Trinidad",
          "Turkey",
          "UK",
          "USA",
          "Ukraine",
          "Uruguay",
          "Uzbekistan",
          "Venezuela",
          "Virgin Islands, British",
          "Virgin Islands, US",
          "Zimbabwe"
         ],
         "type": "choropleth",
         "uid": "5a252afc-2bfd-442a-8bbb-51d3be089542",
         "z": [
          3,
          3,
          1,
          11,
          18,
          6,
          19,
          22,
          5,
          6,
          20,
          7,
          5,
          6,
          7,
          19,
          1,
          22,
          2,
          16,
          10,
          1,
          6,
          7,
          2,
          10,
          22,
          13,
          1,
          1,
          9,
          2,
          3,
          22,
          22,
          6,
          20,
          1,
          18,
          1,
          1,
          1,
          22,
          17,
          10,
          1,
          10,
          6,
          6,
          22,
          7,
          20,
          6,
          3,
          6,
          10,
          16,
          18,
          8,
          8,
          5,
          1,
          1,
          8,
          6,
          9,
          13,
          2,
          6,
          5,
          20,
          15,
          8,
          22,
          2,
          1,
          2,
          4,
          22,
          7,
          5,
          20,
          16,
          9,
          5,
          19,
          6,
          7,
          6,
          17,
          19,
          1,
          22,
          22,
          11,
          4,
          3,
          1,
          1,
          1,
          3,
          16,
          22,
          22,
          6,
          1,
          6,
          4,
          2,
          6,
          1
         ]
        }
       ],
       "layout": {
        "geo": {
         "projection": {
          "type": "equirectangular"
         },
         "showcoastlines": true,
         "showframe": true,
         "showlakes": false
        },
        "title": {
         "text": "PARTICIPAÇÃO MUNDIAL NOS JOGOS OLÍMPICOS DE INVERNO"
        }
       }
      },
      "text/html": [
       "<div id=\"053c32e9-f5df-4c4b-ac00-32186d15082d\" style=\"height: 525px; width: 100%;\" class=\"plotly-graph-div\"></div><script type=\"text/javascript\">require([\"plotly\"], function(Plotly) { window.PLOTLYENV=window.PLOTLYENV || {};window.PLOTLYENV.BASE_URL=\"https://plot.ly\";\n",
       "if (document.getElementById(\"053c32e9-f5df-4c4b-ac00-32186d15082d\")) {\n",
       "    Plotly.newPlot(\"053c32e9-f5df-4c4b-ac00-32186d15082d\", [{\"autocolorscale\": false, \"colorbar\": {\"tickprefix\": \"\", \"title\": {\"text\": \"Edi\\u00e7\\u00f5es\"}}, \"colorscale\": \"Blues\", \"locationmode\": \"country names\", \"locations\": [\"Albania\", \"Algeria\", \"American Samoa\", \"Andorra\", \"Argentina\", \"Armenia\", \"Australia\", \"Austria\", \"Azerbaijan\", \"Belarus\", \"Belgium\", \"Bermuda\", \"Boliva\", \"Bosnia and Herzegovina\", \"Brazil\", \"Bulgaria\", \"Cameroon\", \"Canada\", \"Cayman Islands\", \"Chile\", \"China\", \"Colombia\", \"Costa Rica\", \"Croatia\", \"Curacao\", \"Cyprus\", \"Czech Republic\", \"Denmark\", \"Dominica\", \"Egypt\", \"Estonia\", \"Ethiopia\", \"Fiji\", \"Finland\", \"France\", \"Georgia\", \"Germany\", \"Ghana\", \"Greece\", \"Guam\", \"Guatemala\", \"Honduras\", \"Hungary\", \"Iceland\", \"India\", \"Individual Olympic Athletes\", \"Iran\", \"Ireland\", \"Israel\", \"Italy\", \"Jamaica\", \"Japan\", \"Kazakhstan\", \"Kenya\", \"Kyrgyzstan\", \"Latvia\", \"Lebanon\", \"Liechtenstein\", \"Lithuania\", \"Luxembourg\", \"Macedonia\", \"Madagascar\", \"Malta\", \"Mexico\", \"Moldova\", \"Monaco\", \"Mongolia\", \"Montenegro\", \"Morocco\", \"Nepal\", \"Netherlands\", \"New Zealand\", \"North Korea\", \"Norway\", \"Pakistan\", \"Paraguay\", \"Peru\", \"Philippines\", \"Poland\", \"Portugal\", \"Puerto Rico\", \"Romania\", \"Russia\", \"San Marino\", \"Senegal\", \"Serbia\", \"Slovakia\", \"Slovenia\", \"South Africa\", \"South Korea\", \"Spain\", \"Swaziland\", \"Sweden\", \"Switzerland\", \"Taiwan\", \"Tajikistan\", \"Thailand\", \"Timor-Leste\", \"Togo\", \"Tonga\", \"Trinidad\", \"Turkey\", \"UK\", \"USA\", \"Ukraine\", \"Uruguay\", \"Uzbekistan\", \"Venezuela\", \"Virgin Islands, British\", \"Virgin Islands, US\", \"Zimbabwe\"], \"marker\": {\"line\": {\"color\": \"rgb(0,0,0)\", \"width\": 0.5}}, \"reversescale\": false, \"text\": [\"Albania\", \"Algeria\", \"American Samoa\", \"Andorra\", \"Argentina\", \"Armenia\", \"Australia\", \"Austria\", \"Azerbaijan\", \"Belarus\", \"Belgium\", \"Bermuda\", \"Boliva\", \"Bosnia and Herzegovina\", \"Brazil\", \"Bulgaria\", \"Cameroon\", \"Canada\", \"Cayman Islands\", \"Chile\", \"China\", \"Colombia\", \"Costa Rica\", \"Croatia\", \"Curacao\", \"Cyprus\", \"Czech Republic\", \"Denmark\", \"Dominica\", \"Egypt\", \"Estonia\", \"Ethiopia\", \"Fiji\", \"Finland\", \"France\", \"Georgia\", \"Germany\", \"Ghana\", \"Greece\", \"Guam\", \"Guatemala\", \"Honduras\", \"Hungary\", \"Iceland\", \"India\", \"Individual Olympic Athletes\", \"Iran\", \"Ireland\", \"Israel\", \"Italy\", \"Jamaica\", \"Japan\", \"Kazakhstan\", \"Kenya\", \"Kyrgyzstan\", \"Latvia\", \"Lebanon\", \"Liechtenstein\", \"Lithuania\", \"Luxembourg\", \"Macedonia\", \"Madagascar\", \"Malta\", \"Mexico\", \"Moldova\", \"Monaco\", \"Mongolia\", \"Montenegro\", \"Morocco\", \"Nepal\", \"Netherlands\", \"New Zealand\", \"North Korea\", \"Norway\", \"Pakistan\", \"Paraguay\", \"Peru\", \"Philippines\", \"Poland\", \"Portugal\", \"Puerto Rico\", \"Romania\", \"Russia\", \"San Marino\", \"Senegal\", \"Serbia\", \"Slovakia\", \"Slovenia\", \"South Africa\", \"South Korea\", \"Spain\", \"Swaziland\", \"Sweden\", \"Switzerland\", \"Taiwan\", \"Tajikistan\", \"Thailand\", \"Timor-Leste\", \"Togo\", \"Tonga\", \"Trinidad\", \"Turkey\", \"UK\", \"USA\", \"Ukraine\", \"Uruguay\", \"Uzbekistan\", \"Venezuela\", \"Virgin Islands, British\", \"Virgin Islands, US\", \"Zimbabwe\"], \"z\": [3, 3, 1, 11, 18, 6, 19, 22, 5, 6, 20, 7, 5, 6, 7, 19, 1, 22, 2, 16, 10, 1, 6, 7, 2, 10, 22, 13, 1, 1, 9, 2, 3, 22, 22, 6, 20, 1, 18, 1, 1, 1, 22, 17, 10, 1, 10, 6, 6, 22, 7, 20, 6, 3, 6, 10, 16, 18, 8, 8, 5, 1, 1, 8, 6, 9, 13, 2, 6, 5, 20, 15, 8, 22, 2, 1, 2, 4, 22, 7, 5, 20, 16, 9, 5, 19, 6, 7, 6, 17, 19, 1, 22, 22, 11, 4, 3, 1, 1, 1, 3, 16, 22, 22, 6, 1, 6, 4, 2, 6, 1], \"type\": \"choropleth\", \"uid\": \"f4933d27-83df-4291-a945-8923a89f359e\"}], {\"geo\": {\"projection\": {\"type\": \"equirectangular\"}, \"showcoastlines\": true, \"showframe\": true, \"showlakes\": false}, \"title\": {\"text\": \"PARTICIPA\\u00c7\\u00c3O MUNDIAL NOS JOGOS OL\\u00cdMPICOS DE INVERNO\"}}, {\"showLink\": false, \"linkText\": \"Export to plot.ly\", \"plotlyServerURL\": \"https://plot.ly\"}); \n",
       "}\n",
       "});</script><script type=\"text/javascript\">window.addEventListener(\"resize\", function(){if (document.getElementById(\"053c32e9-f5df-4c4b-ac00-32186d15082d\")) {window._Plotly.Plots.resize(document.getElementById(\"053c32e9-f5df-4c4b-ac00-32186d15082d\"));};})</script>"
      ],
      "text/vnd.plotly.v1+html": [
       "<div id=\"053c32e9-f5df-4c4b-ac00-32186d15082d\" style=\"height: 525px; width: 100%;\" class=\"plotly-graph-div\"></div><script type=\"text/javascript\">require([\"plotly\"], function(Plotly) { window.PLOTLYENV=window.PLOTLYENV || {};window.PLOTLYENV.BASE_URL=\"https://plot.ly\";\n",
       "if (document.getElementById(\"053c32e9-f5df-4c4b-ac00-32186d15082d\")) {\n",
       "    Plotly.newPlot(\"053c32e9-f5df-4c4b-ac00-32186d15082d\", [{\"autocolorscale\": false, \"colorbar\": {\"tickprefix\": \"\", \"title\": {\"text\": \"Edi\\u00e7\\u00f5es\"}}, \"colorscale\": \"Blues\", \"locationmode\": \"country names\", \"locations\": [\"Albania\", \"Algeria\", \"American Samoa\", \"Andorra\", \"Argentina\", \"Armenia\", \"Australia\", \"Austria\", \"Azerbaijan\", \"Belarus\", \"Belgium\", \"Bermuda\", \"Boliva\", \"Bosnia and Herzegovina\", \"Brazil\", \"Bulgaria\", \"Cameroon\", \"Canada\", \"Cayman Islands\", \"Chile\", \"China\", \"Colombia\", \"Costa Rica\", \"Croatia\", \"Curacao\", \"Cyprus\", \"Czech Republic\", \"Denmark\", \"Dominica\", \"Egypt\", \"Estonia\", \"Ethiopia\", \"Fiji\", \"Finland\", \"France\", \"Georgia\", \"Germany\", \"Ghana\", \"Greece\", \"Guam\", \"Guatemala\", \"Honduras\", \"Hungary\", \"Iceland\", \"India\", \"Individual Olympic Athletes\", \"Iran\", \"Ireland\", \"Israel\", \"Italy\", \"Jamaica\", \"Japan\", \"Kazakhstan\", \"Kenya\", \"Kyrgyzstan\", \"Latvia\", \"Lebanon\", \"Liechtenstein\", \"Lithuania\", \"Luxembourg\", \"Macedonia\", \"Madagascar\", \"Malta\", \"Mexico\", \"Moldova\", \"Monaco\", \"Mongolia\", \"Montenegro\", \"Morocco\", \"Nepal\", \"Netherlands\", \"New Zealand\", \"North Korea\", \"Norway\", \"Pakistan\", \"Paraguay\", \"Peru\", \"Philippines\", \"Poland\", \"Portugal\", \"Puerto Rico\", \"Romania\", \"Russia\", \"San Marino\", \"Senegal\", \"Serbia\", \"Slovakia\", \"Slovenia\", \"South Africa\", \"South Korea\", \"Spain\", \"Swaziland\", \"Sweden\", \"Switzerland\", \"Taiwan\", \"Tajikistan\", \"Thailand\", \"Timor-Leste\", \"Togo\", \"Tonga\", \"Trinidad\", \"Turkey\", \"UK\", \"USA\", \"Ukraine\", \"Uruguay\", \"Uzbekistan\", \"Venezuela\", \"Virgin Islands, British\", \"Virgin Islands, US\", \"Zimbabwe\"], \"marker\": {\"line\": {\"color\": \"rgb(0,0,0)\", \"width\": 0.5}}, \"reversescale\": false, \"text\": [\"Albania\", \"Algeria\", \"American Samoa\", \"Andorra\", \"Argentina\", \"Armenia\", \"Australia\", \"Austria\", \"Azerbaijan\", \"Belarus\", \"Belgium\", \"Bermuda\", \"Boliva\", \"Bosnia and Herzegovina\", \"Brazil\", \"Bulgaria\", \"Cameroon\", \"Canada\", \"Cayman Islands\", \"Chile\", \"China\", \"Colombia\", \"Costa Rica\", \"Croatia\", \"Curacao\", \"Cyprus\", \"Czech Republic\", \"Denmark\", \"Dominica\", \"Egypt\", \"Estonia\", \"Ethiopia\", \"Fiji\", \"Finland\", \"France\", \"Georgia\", \"Germany\", \"Ghana\", \"Greece\", \"Guam\", \"Guatemala\", \"Honduras\", \"Hungary\", \"Iceland\", \"India\", \"Individual Olympic Athletes\", \"Iran\", \"Ireland\", \"Israel\", \"Italy\", \"Jamaica\", \"Japan\", \"Kazakhstan\", \"Kenya\", \"Kyrgyzstan\", \"Latvia\", \"Lebanon\", \"Liechtenstein\", \"Lithuania\", \"Luxembourg\", \"Macedonia\", \"Madagascar\", \"Malta\", \"Mexico\", \"Moldova\", \"Monaco\", \"Mongolia\", \"Montenegro\", \"Morocco\", \"Nepal\", \"Netherlands\", \"New Zealand\", \"North Korea\", \"Norway\", \"Pakistan\", \"Paraguay\", \"Peru\", \"Philippines\", \"Poland\", \"Portugal\", \"Puerto Rico\", \"Romania\", \"Russia\", \"San Marino\", \"Senegal\", \"Serbia\", \"Slovakia\", \"Slovenia\", \"South Africa\", \"South Korea\", \"Spain\", \"Swaziland\", \"Sweden\", \"Switzerland\", \"Taiwan\", \"Tajikistan\", \"Thailand\", \"Timor-Leste\", \"Togo\", \"Tonga\", \"Trinidad\", \"Turkey\", \"UK\", \"USA\", \"Ukraine\", \"Uruguay\", \"Uzbekistan\", \"Venezuela\", \"Virgin Islands, British\", \"Virgin Islands, US\", \"Zimbabwe\"], \"z\": [3, 3, 1, 11, 18, 6, 19, 22, 5, 6, 20, 7, 5, 6, 7, 19, 1, 22, 2, 16, 10, 1, 6, 7, 2, 10, 22, 13, 1, 1, 9, 2, 3, 22, 22, 6, 20, 1, 18, 1, 1, 1, 22, 17, 10, 1, 10, 6, 6, 22, 7, 20, 6, 3, 6, 10, 16, 18, 8, 8, 5, 1, 1, 8, 6, 9, 13, 2, 6, 5, 20, 15, 8, 22, 2, 1, 2, 4, 22, 7, 5, 20, 16, 9, 5, 19, 6, 7, 6, 17, 19, 1, 22, 22, 11, 4, 3, 1, 1, 1, 3, 16, 22, 22, 6, 1, 6, 4, 2, 6, 1], \"type\": \"choropleth\", \"uid\": \"f4933d27-83df-4291-a945-8923a89f359e\"}], {\"geo\": {\"projection\": {\"type\": \"equirectangular\"}, \"showcoastlines\": true, \"showframe\": true, \"showlakes\": false}, \"title\": {\"text\": \"PARTICIPA\\u00c7\\u00c3O MUNDIAL NOS JOGOS OL\\u00cdMPICOS DE INVERNO\"}}, {\"showLink\": false, \"linkText\": \"Export to plot.ly\", \"plotlyServerURL\": \"https://plot.ly\"}); \n",
       "}\n",
       "});</script><script type=\"text/javascript\">window.addEventListener(\"resize\", function(){if (document.getElementById(\"053c32e9-f5df-4c4b-ac00-32186d15082d\")) {window._Plotly.Plots.resize(document.getElementById(\"053c32e9-f5df-4c4b-ac00-32186d15082d\"));};})</script>"
      ]
     },
     "metadata": {},
     "output_type": "display_data"
    }
   ],
   "source": [
    "winter = olympic_editions['Season'] == 'Winter'\n",
    "winter_editions = olympic_editions[winter]\n",
    "\n",
    "draw_map(winter_editions, 'PARTICIPAÇÃO MUNDIAL NOS JOGOS OLÍMPICOS DE INVERNO', \"Blues\", 'equirectangular')"
   ]
  },
  {
   "cell_type": "markdown",
   "metadata": {},
   "source": [
    "## BUCKET SORT"
   ]
  },
  {
   "cell_type": "code",
   "execution_count": 16,
   "metadata": {},
   "outputs": [],
   "source": [
    "def bucket_sort(athletes):\n",
    "    \"\"\"Implement bucket sort algorithm\n",
    "    \n",
    "    Attributes:\n",
    "        athletes: list with all olympic athletes.\n",
    "    \"\"\"\n",
    "    \n",
    "    length = int(len(athletes))\n",
    " \n",
    "    buckets = [[] for _ in range(26)]\n",
    "    for i in range(length):\n",
    "        bucket = int(ord(athletes[i].name[0])) - 65\n",
    "        if bucket >= 0 and bucket < 26 :\n",
    "            buckets[bucket].append(athletes[i])\n",
    " \n",
    "    return buckets"
   ]
  },
  {
   "cell_type": "code",
   "execution_count": 17,
   "metadata": {},
   "outputs": [],
   "source": [
    "def bucket_quick_sort(athletes):\n",
    "    \n",
    "    buckets = bucket_sort(athletes)\n",
    "    \n",
    "    for i in range(len(buckets)):\n",
    "        quick_sort(buckets[i])\n",
    "\n",
    "    return list(chain(*buckets))"
   ]
  },
  {
   "cell_type": "code",
   "execution_count": 18,
   "metadata": {},
   "outputs": [],
   "source": [
    "def bucket_merge_sort(athletes):\n",
    "    \n",
    "    buckets = bucket_sort(athletes)\n",
    "    \n",
    "    for i in range(len(buckets)):\n",
    "        merge_sort(buckets[i])\n",
    "\n",
    "    return list(chain(*buckets))"
   ]
  },
  {
   "cell_type": "code",
   "execution_count": 19,
   "metadata": {},
   "outputs": [],
   "source": [
    "def show_buckets(len_buckets):\n",
    "    \n",
    "    plt.grid(which='major', axis='y', color='green', linewidth=0.3)\n",
    "    plt.bar([i for i in range(1,27)], height=len_buckets) \n",
    "    plt.xticks([i for i in range(1,27)], [chr(i) for i in range(65,91)])\n",
    "    plt.xlabel('buckets')\n",
    "    plt.ylabel('athletes')\n",
    "    \n",
    "    plt.plot()"
   ]
  },
  {
   "cell_type": "code",
   "execution_count": 20,
   "metadata": {},
   "outputs": [],
   "source": [
    "def length_bucket(buckets):\n",
    "    len_buckets = []\n",
    "    for i in range(len(buckets)):\n",
    "        len_buckets.append(len(buckets[i]))\n",
    "    \n",
    "    show_buckets(len_buckets)"
   ]
  },
  {
   "cell_type": "markdown",
   "metadata": {},
   "source": [
    "### BUCKET SPLIT"
   ]
  },
  {
   "cell_type": "code",
   "execution_count": 21,
   "metadata": {},
   "outputs": [
    {
     "data": {
      "image/png": "[encoded data removed]",
      "text/plain": [
       "<Figure size 432x288 with 1 Axes>"
      ]
     },
     "metadata": {
      "needs_background": "light"
     },
     "output_type": "display_data"
    }
   ],
   "source": [
    "bucket = bucket_sort(ATHLETES.copy())\n",
    "length_bucket(bucket)"
   ]
  },
  {
   "cell_type": "markdown",
   "metadata": {},
   "source": [
    "## QUICK SORT"
   ]
  },
  {
   "cell_type": "code",
   "execution_count": 22,
   "metadata": {},
   "outputs": [],
   "source": [
    "def partition(athletes, low, high): \n",
    "    i = ( low-1 )        \n",
    "    pivot = athletes[high]      \n",
    "  \n",
    "    for j in range(low , high): \n",
    "        if athletes[j].name <= pivot.name: \n",
    "            i += 1 \n",
    "            athletes[i], athletes[j] = athletes[j], athletes[i] \n",
    "  \n",
    "    athletes[i+1], athletes[high] = athletes[high], athletes[i+1] \n",
    "    return ( i+1 ) \n",
    "  \n",
    "def quick_sort(athletes, low = 0, high = None):\n",
    "    \"\"\"Implement quick sort algorithm\n",
    "    \n",
    "    Attributes:\n",
    "        athletes: list with all olympic athletes.\n",
    "    \"\"\"\n",
    "    if high is None:\n",
    "        high = len(athletes) - 1\n",
    "    if low < high: \n",
    "        pivot = partition(athletes,low,high) \n",
    "        quick_sort(athletes, low, pivot - 1) \n",
    "        quick_sort(athletes, pivot + 1, high) \n",
    "    return athletes"
   ]
  },
  {
   "cell_type": "markdown",
   "metadata": {},
   "source": [
    "## MERGE SORT"
   ]
  },
  {
   "cell_type": "code",
   "execution_count": 23,
   "metadata": {},
   "outputs": [],
   "source": [
    "def merge_sort(athletes):\n",
    "    \"\"\"Implement merge sort algorithm\n",
    "    \n",
    "    Attributes:\n",
    "        athletes: list with all olympic athletes.\n",
    "    \"\"\"\n",
    "    if(len(athletes) > 1):\n",
    "        middle = int(len(athletes)/2)\n",
    "\n",
    "        left = athletes[:middle]\n",
    "        right = athletes[middle:]\n",
    "\n",
    "        merge_sort(left)\n",
    "        merge_sort(right)\n",
    "\n",
    "        i, j, k = [0, 0, 0]\n",
    "\n",
    "        while(i < len(left) and j < len(right)):\n",
    "            if(left[i].name < right[j].name):\n",
    "                athletes[k] = left[i]\n",
    "                i += 1\n",
    "            else:\n",
    "                athletes[k] = right[j]\n",
    "                j += 1\n",
    "\n",
    "            k += 1\n",
    "\n",
    "        while(i < len(left)):\n",
    "            athletes[k] = left[i]\n",
    "            k += 1\n",
    "            i += 1\n",
    "\n",
    "        while(j < len(right)):\n",
    "            athletes[k] = right[j]\n",
    "            j += 1\n",
    "            k += 1\n",
    "    return athletes"
   ]
  },
  {
   "cell_type": "markdown",
   "metadata": {},
   "source": [
    "## ALGORITHM COMPLEXITY"
   ]
  },
  {
   "cell_type": "code",
   "execution_count": 24,
   "metadata": {},
   "outputs": [],
   "source": [
    "def execution_time(athletes, function):\n",
    "    \"\"\"Time taken to sort athletes with certain function\n",
    "    \n",
    "    Attributes:\n",
    "        athletes: list with all olympic athletes;\n",
    "        function: bucket_quick_sort, bucket_merge_sort, quick_sort or merge_sort.\n",
    "    \"\"\"\n",
    "    begin = time.time()\n",
    "    function(athletes.copy())\n",
    "    end = time.time()\n",
    "\n",
    "    time_spend = end - begin\n",
    "    \n",
    "    return time_spend"
   ]
  },
  {
   "cell_type": "code",
   "execution_count": 25,
   "metadata": {},
   "outputs": [],
   "source": [
    "def algorithms_complexity(athletes):\n",
    "    \"\"\"Evaluate taken time to four sort algorithms methods\n",
    "    \n",
    "    Attributes:\n",
    "        athletes: list with all olympic athletes;\n",
    "    \"\"\"\n",
    "    print(\">>> LOADING <<<: GENERATING GRAPHIC!\")\n",
    "    \n",
    "    functions = [bucket_quick_sort, bucket_merge_sort, quick_sort, merge_sort]\n",
    "    \n",
    "    bar = IntProgress(min=0, max = 4, description='PROGRESS:') # instantiate the bar\n",
    "    display(bar)\n",
    "    \n",
    "    times = []\n",
    "    for function in functions:\n",
    "        time_spend = execution_time(athletes.copy(), function)\n",
    "        times.append(time_spend)\n",
    "        \n",
    "        bar.value += 1\n",
    "    \n",
    "    return times"
   ]
  },
  {
   "cell_type": "code",
   "execution_count": 26,
   "metadata": {},
   "outputs": [],
   "source": [
    "def show_algorithms_complexity(times):\n",
    "    \"\"\"Plot algorithm complexity of four sort algorithms\n",
    "    \n",
    "    Attributes:\n",
    "        times: list with time taken to evaluate bucket, quick and merge algorithms.\n",
    "    \"\"\"\n",
    "    plt.grid(which='major', axis='y', color='green', linewidth=0.3)\n",
    "    plt.bar([1, 2, 3, 4], height=times) \n",
    "    plt.xticks([1, 2, 3, 4], ['bucket_quick','bucket_merge','quick','merge'])\n",
    "    plt.xlabel('sort method')\n",
    "    plt.ylabel('seconds')\n",
    "    \n",
    "    plt.plot()"
   ]
  },
  {
   "cell_type": "markdown",
   "metadata": {},
   "source": [
    "## COMPUTE ALGORITHMS TIME COMPLEXITY"
   ]
  },
  {
   "cell_type": "code",
   "execution_count": 27,
   "metadata": {},
   "outputs": [
    {
     "name": "stdout",
     "output_type": "stream",
     "text": [
      ">>> LOADING <<<: GENERATING GRAPHIC!\n"
     ]
    },
    {
     "data": {
      "application/vnd.jupyter.widget-view+json": {
       "model_id": "381c69c109bb454da38ee0af2a31d796",
       "version_major": 2,
       "version_minor": 0
      },
      "text/plain": [
       "IntProgress(value=0, description='PROGRESS:', max=4)"
      ]
     },
     "metadata": {},
     "output_type": "display_data"
    },
    {
     "data": {
      "image/png": "[encoded data removed]",
      "text/plain": [
       "<Figure size 432x288 with 1 Axes>"
      ]
     },
     "metadata": {
      "needs_background": "light"
     },
     "output_type": "display_data"
    }
   ],
   "source": [
    "times_unordered = list(algorithms_complexity(ATHLETES.copy()))\n",
    "show_algorithms_complexity(times_unordered)"
   ]
  },
  {
   "cell_type": "code",
   "execution_count": 28,
   "metadata": {},
   "outputs": [],
   "source": [
    "athletes_order = bucket_merge_sort(ATHLETES.copy())"
   ]
  },
  {
   "cell_type": "markdown",
   "metadata": {},
   "source": [
    "### Binary Search"
   ]
  },
  {
   "cell_type": "code",
   "execution_count": 29,
   "metadata": {},
   "outputs": [],
   "source": [
    "def generate_athletes(athletes, idx):\n",
    "    list_athletes = []\n",
    "    up_limit = 0\n",
    "    \n",
    "    for i in range(idx,len(athletes)):\n",
    "        if athletes[i].name != athletes[idx].name:\n",
    "            up_limit = i-1\n",
    "            break\n",
    "\n",
    "    for i in range(up_limit,0,-1):\n",
    "        if athletes[i].name != athletes[idx].name:\n",
    "            break\n",
    "        athlete = []\n",
    "        athlete.append(athletes[i])\n",
    "        list_athletes.append(athlete) \n",
    "    \n",
    "    return list_athletes"
   ]
  },
  {
   "cell_type": "code",
   "execution_count": 30,
   "metadata": {},
   "outputs": [],
   "source": [
    "def binary_search(athletes, key):\n",
    "    \"\"\"Implementation of binary search algorithm\n",
    "    \n",
    "    Attributes:\n",
    "        athletes: list with all olympic athletes;\n",
    "        key: name of athlete to search.\n",
    "    \"\"\"\n",
    "    \n",
    "    min_index = 0\n",
    "    max_index = len(athletes)-1\n",
    "    \n",
    "    while (min_index <= max_index):\n",
    "        middle = min_index + (max_index - min_index)//2\n",
    "        \n",
    "        if (athletes[middle].name == key):\n",
    "            list_athletes = generate_athletes(athletes, middle)\n",
    "            return list_athletes\n",
    "        elif (athletes[middle].name < key):\n",
    "            min_index = middle+1\n",
    "        else:\n",
    "            max_index = middle-1\n",
    "        \n",
    "    return \"Not found!\""
   ]
  },
  {
   "cell_type": "markdown",
   "metadata": {},
   "source": [
    "### Sequencial Search"
   ]
  },
  {
   "cell_type": "code",
   "execution_count": 31,
   "metadata": {},
   "outputs": [],
   "source": [
    "def sequencial_search(athletes, key):\n",
    "    \"\"\"Perform sequencial search algorithm\n",
    "    \n",
    "    Attributes:\n",
    "        athletes: list with all olympic athletes;\n",
    "        key: name of athlete to search. \n",
    "    \"\"\"\n",
    "    \n",
    "    list_athletes = []\n",
    "    \n",
    "    for i in range(len(athletes)):\n",
    "        if athletes[i].name.count(key):\n",
    "            athlete = []\n",
    "            athlete.append(athletes[i])\n",
    "            list_athletes.append(athlete) \n",
    "        \n",
    "    if list_athletes:\n",
    "        return list_athletes\n",
    "    else:\n",
    "        return \"Not found!\""
   ]
  },
  {
   "cell_type": "markdown",
   "metadata": {},
   "source": [
    "### Search by name"
   ]
  },
  {
   "cell_type": "code",
   "execution_count": 32,
   "metadata": {},
   "outputs": [],
   "source": [
    "def search_name(athletes):\n",
    "    name = ''\n",
    "    while True:\n",
    "        name = input('> ')\n",
    "\n",
    "        if not name.strip():\n",
    "            if input('sair? (S/n) ').lower() in 's':\n",
    "                break\n",
    "        else:\n",
    "            break\n",
    "\n",
    "    if name.strip():\n",
    "        athletes = sequencial_search(athletes, name)\n",
    "        return athletes"
   ]
  },
  {
   "cell_type": "markdown",
   "metadata": {},
   "source": [
    "### Search by full name"
   ]
  },
  {
   "cell_type": "code",
   "execution_count": 33,
   "metadata": {},
   "outputs": [],
   "source": [
    "def search_full_name(athletes):\n",
    "    name = ''\n",
    "    while True:\n",
    "        name = input('> ')\n",
    "\n",
    "        if not name.strip():\n",
    "            if input('sair? (S/n) ').lower() in 's':\n",
    "                break\n",
    "        else:\n",
    "            break\n",
    "\n",
    "    if name.strip():\n",
    "        athletes = binary_search(athletes, name)\n",
    "        return athletes"
   ]
  },
  {
   "cell_type": "markdown",
   "metadata": {},
   "source": [
    "#### Digite um nome para pesquisar:"
   ]
  },
  {
   "cell_type": "code",
   "execution_count": 34,
   "metadata": {},
   "outputs": [
    {
     "name": "stdout",
     "output_type": "stream",
     "text": [
      "> Neymar\n"
     ]
    },
    {
     "data": {
      "text/html": [
       "<div>\n",
       "<style scoped>\n",
       "    .dataframe tbody tr th:only-of-type {\n",
       "        vertical-align: middle;\n",
       "    }\n",
       "\n",
       "    .dataframe tbody tr th {\n",
       "        vertical-align: top;\n",
       "    }\n",
       "\n",
       "    .dataframe thead th {\n",
       "        text-align: right;\n",
       "    }\n",
       "</style>\n",
       "<table border=\"1\" class=\"dataframe\">\n",
       "  <thead>\n",
       "    <tr style=\"text-align: right;\">\n",
       "      <th></th>\n",
       "      <th>Nome</th>\n",
       "      <th>Sexo</th>\n",
       "      <th>Time</th>\n",
       "      <th>NOC</th>\n",
       "      <th>Jogos</th>\n",
       "      <th>Cidade</th>\n",
       "      <th>Evento</th>\n",
       "      <th>Medalha</th>\n",
       "    </tr>\n",
       "  </thead>\n",
       "  <tbody>\n",
       "    <tr>\n",
       "      <th>0</th>\n",
       "      <td>Neymar Da Silva Santos Jnior</td>\n",
       "      <td>M</td>\n",
       "      <td>Brazil</td>\n",
       "      <td>BRA</td>\n",
       "      <td>2016 Summer</td>\n",
       "      <td>Rio de Janeiro</td>\n",
       "      <td>Football Men's Football</td>\n",
       "      <td>Gold</td>\n",
       "    </tr>\n",
       "    <tr>\n",
       "      <th>1</th>\n",
       "      <td>Neymar Da Silva Santos Jnior</td>\n",
       "      <td>M</td>\n",
       "      <td>Brazil</td>\n",
       "      <td>BRA</td>\n",
       "      <td>2012 Summer</td>\n",
       "      <td>London</td>\n",
       "      <td>Football Men's Football</td>\n",
       "      <td>Silver</td>\n",
       "    </tr>\n",
       "  </tbody>\n",
       "</table>\n",
       "</div>"
      ],
      "text/plain": [
       "                           Nome Sexo    Time  NOC        Jogos  \\\n",
       "0  Neymar Da Silva Santos Jnior    M  Brazil  BRA  2016 Summer   \n",
       "1  Neymar Da Silva Santos Jnior    M  Brazil  BRA  2012 Summer   \n",
       "\n",
       "           Cidade                   Evento Medalha  \n",
       "0  Rio de Janeiro  Football Men's Football    Gold  \n",
       "1          London  Football Men's Football  Silver  "
      ]
     },
     "execution_count": 34,
     "metadata": {},
     "output_type": "execute_result"
    }
   ],
   "source": [
    "athletes = search_name(athletes_order.copy())\n",
    "athletes_info(athletes)"
   ]
  },
  {
   "cell_type": "markdown",
   "metadata": {},
   "source": [
    "#### Digite o  nome completo para pesquisar:"
   ]
  },
  {
   "cell_type": "code",
   "execution_count": 35,
   "metadata": {},
   "outputs": [
    {
     "name": "stdout",
     "output_type": "stream",
     "text": [
      "> Neymar Da Silva Santos Jnior\n"
     ]
    },
    {
     "data": {
      "text/html": [
       "<div>\n",
       "<style scoped>\n",
       "    .dataframe tbody tr th:only-of-type {\n",
       "        vertical-align: middle;\n",
       "    }\n",
       "\n",
       "    .dataframe tbody tr th {\n",
       "        vertical-align: top;\n",
       "    }\n",
       "\n",
       "    .dataframe thead th {\n",
       "        text-align: right;\n",
       "    }\n",
       "</style>\n",
       "<table border=\"1\" class=\"dataframe\">\n",
       "  <thead>\n",
       "    <tr style=\"text-align: right;\">\n",
       "      <th></th>\n",
       "      <th>Nome</th>\n",
       "      <th>Sexo</th>\n",
       "      <th>Time</th>\n",
       "      <th>NOC</th>\n",
       "      <th>Jogos</th>\n",
       "      <th>Cidade</th>\n",
       "      <th>Evento</th>\n",
       "      <th>Medalha</th>\n",
       "    </tr>\n",
       "  </thead>\n",
       "  <tbody>\n",
       "    <tr>\n",
       "      <th>0</th>\n",
       "      <td>Neymar Da Silva Santos Jnior</td>\n",
       "      <td>M</td>\n",
       "      <td>Brazil</td>\n",
       "      <td>BRA</td>\n",
       "      <td>2012 Summer</td>\n",
       "      <td>London</td>\n",
       "      <td>Football Men's Football</td>\n",
       "      <td>Silver</td>\n",
       "    </tr>\n",
       "    <tr>\n",
       "      <th>1</th>\n",
       "      <td>Neymar Da Silva Santos Jnior</td>\n",
       "      <td>M</td>\n",
       "      <td>Brazil</td>\n",
       "      <td>BRA</td>\n",
       "      <td>2016 Summer</td>\n",
       "      <td>Rio de Janeiro</td>\n",
       "      <td>Football Men's Football</td>\n",
       "      <td>Gold</td>\n",
       "    </tr>\n",
       "  </tbody>\n",
       "</table>\n",
       "</div>"
      ],
      "text/plain": [
       "                           Nome Sexo    Time  NOC        Jogos  \\\n",
       "0  Neymar Da Silva Santos Jnior    M  Brazil  BRA  2012 Summer   \n",
       "1  Neymar Da Silva Santos Jnior    M  Brazil  BRA  2016 Summer   \n",
       "\n",
       "           Cidade                   Evento Medalha  \n",
       "0          London  Football Men's Football  Silver  \n",
       "1  Rio de Janeiro  Football Men's Football    Gold  "
      ]
     },
     "execution_count": 35,
     "metadata": {},
     "output_type": "execute_result"
    }
   ],
   "source": [
    "athletes = search_full_name(athletes_order.copy())\n",
    "athletes_info(athletes)"
   ]
  },
  {
   "cell_type": "markdown",
   "metadata": {},
   "source": [
    "# Violin box plot"
   ]
  },
  {
   "cell_type": "code",
   "execution_count": 36,
   "metadata": {},
   "outputs": [],
   "source": [
    "athletes_length = len(ATHLETE_EVENTS_CSV)\n",
    "\n",
    "random_athletes_samples = []\n",
    "for i in range(0, athletes_length, 20000):\n",
    "    random_sample = random.sample(ATHLETES, i)\n",
    "\n",
    "    random_athletes_samples.append(random_sample)"
   ]
  },
  {
   "cell_type": "code",
   "execution_count": 50,
   "metadata": {},
   "outputs": [
    {
     "name": "stdout",
     "output_type": "stream",
     "text": [
      "14 vetores com tamanhos variados e atletas randômicos\n",
      ">>> LOADING <<<: GENERATING GRAPHIC!\n"
     ]
    },
    {
     "data": {
      "application/vnd.jupyter.widget-view+json": {
       "model_id": "b0e616c7e4334fa5ad4689e0806c77f5",
       "version_major": 2,
       "version_minor": 0
      },
      "text/plain": [
       "IntProgress(value=0, description='PROGRESS:', max=4)"
      ]
     },
     "metadata": {},
     "output_type": "display_data"
    },
    {
     "name": "stdout",
     "output_type": "stream",
     "text": [
      ">>> LOADING <<<: GENERATING GRAPHIC!\n"
     ]
    },
    {
     "data": {
      "application/vnd.jupyter.widget-view+json": {
       "model_id": "58a510e47f93475191c40cd6cd441ff8",
       "version_major": 2,
       "version_minor": 0
      },
      "text/plain": [
       "IntProgress(value=0, description='PROGRESS:', max=4)"
      ]
     },
     "metadata": {},
     "output_type": "display_data"
    },
    {
     "name": "stdout",
     "output_type": "stream",
     "text": [
      ">>> LOADING <<<: GENERATING GRAPHIC!\n"
     ]
    },
    {
     "data": {
      "application/vnd.jupyter.widget-view+json": {
       "model_id": "582a83133d7647c284d9f0e27b466d76",
       "version_major": 2,
       "version_minor": 0
      },
      "text/plain": [
       "IntProgress(value=0, description='PROGRESS:', max=4)"
      ]
     },
     "metadata": {},
     "output_type": "display_data"
    },
    {
     "name": "stdout",
     "output_type": "stream",
     "text": [
      ">>> LOADING <<<: GENERATING GRAPHIC!\n"
     ]
    },
    {
     "data": {
      "application/vnd.jupyter.widget-view+json": {
       "model_id": "30024e5886a948c5bdbcdb0ae5090406",
       "version_major": 2,
       "version_minor": 0
      },
      "text/plain": [
       "IntProgress(value=0, description='PROGRESS:', max=4)"
      ]
     },
     "metadata": {},
     "output_type": "display_data"
    },
    {
     "name": "stdout",
     "output_type": "stream",
     "text": [
      ">>> LOADING <<<: GENERATING GRAPHIC!\n"
     ]
    },
    {
     "data": {
      "application/vnd.jupyter.widget-view+json": {
       "model_id": "4be65898b5814b8384a41556e41a0cfb",
       "version_major": 2,
       "version_minor": 0
      },
      "text/plain": [
       "IntProgress(value=0, description='PROGRESS:', max=4)"
      ]
     },
     "metadata": {},
     "output_type": "display_data"
    },
    {
     "name": "stdout",
     "output_type": "stream",
     "text": [
      ">>> LOADING <<<: GENERATING GRAPHIC!\n"
     ]
    },
    {
     "data": {
      "application/vnd.jupyter.widget-view+json": {
       "model_id": "9ac35546a63b4fc3bd3189a1912f96c8",
       "version_major": 2,
       "version_minor": 0
      },
      "text/plain": [
       "IntProgress(value=0, description='PROGRESS:', max=4)"
      ]
     },
     "metadata": {},
     "output_type": "display_data"
    },
    {
     "name": "stdout",
     "output_type": "stream",
     "text": [
      ">>> LOADING <<<: GENERATING GRAPHIC!\n"
     ]
    },
    {
     "data": {
      "application/vnd.jupyter.widget-view+json": {
       "model_id": "3a578dfb9c4d4b41a8ed30d09f5a64be",
       "version_major": 2,
       "version_minor": 0
      },
      "text/plain": [
       "IntProgress(value=0, description='PROGRESS:', max=4)"
      ]
     },
     "metadata": {},
     "output_type": "display_data"
    },
    {
     "name": "stdout",
     "output_type": "stream",
     "text": [
      ">>> LOADING <<<: GENERATING GRAPHIC!\n"
     ]
    },
    {
     "data": {
      "application/vnd.jupyter.widget-view+json": {
       "model_id": "77ecacf2cff14ee8a120fff7c03b10f4",
       "version_major": 2,
       "version_minor": 0
      },
      "text/plain": [
       "IntProgress(value=0, description='PROGRESS:', max=4)"
      ]
     },
     "metadata": {},
     "output_type": "display_data"
    },
    {
     "name": "stdout",
     "output_type": "stream",
     "text": [
      ">>> LOADING <<<: GENERATING GRAPHIC!\n"
     ]
    },
    {
     "data": {
      "application/vnd.jupyter.widget-view+json": {
       "model_id": "8a1dbb5bf2de44aea06e9e584990c260",
       "version_major": 2,
       "version_minor": 0
      },
      "text/plain": [
       "IntProgress(value=0, description='PROGRESS:', max=4)"
      ]
     },
     "metadata": {},
     "output_type": "display_data"
    },
    {
     "name": "stdout",
     "output_type": "stream",
     "text": [
      ">>> LOADING <<<: GENERATING GRAPHIC!\n"
     ]
    },
    {
     "data": {
      "application/vnd.jupyter.widget-view+json": {
       "model_id": "fca5a309089a41acb160065d95f3d5ea",
       "version_major": 2,
       "version_minor": 0
      },
      "text/plain": [
       "IntProgress(value=0, description='PROGRESS:', max=4)"
      ]
     },
     "metadata": {},
     "output_type": "display_data"
    },
    {
     "name": "stdout",
     "output_type": "stream",
     "text": [
      ">>> LOADING <<<: GENERATING GRAPHIC!\n"
     ]
    },
    {
     "data": {
      "application/vnd.jupyter.widget-view+json": {
       "model_id": "8579ee8cbc3d4c59aedad2bdf5d29884",
       "version_major": 2,
       "version_minor": 0
      },
      "text/plain": [
       "IntProgress(value=0, description='PROGRESS:', max=4)"
      ]
     },
     "metadata": {},
     "output_type": "display_data"
    },
    {
     "name": "stdout",
     "output_type": "stream",
     "text": [
      ">>> LOADING <<<: GENERATING GRAPHIC!\n"
     ]
    },
    {
     "data": {
      "application/vnd.jupyter.widget-view+json": {
       "model_id": "c03ca8f161e1452aba5187408c636d9d",
       "version_major": 2,
       "version_minor": 0
      },
      "text/plain": [
       "IntProgress(value=0, description='PROGRESS:', max=4)"
      ]
     },
     "metadata": {},
     "output_type": "display_data"
    },
    {
     "name": "stdout",
     "output_type": "stream",
     "text": [
      ">>> LOADING <<<: GENERATING GRAPHIC!\n"
     ]
    },
    {
     "data": {
      "application/vnd.jupyter.widget-view+json": {
       "model_id": "066d6bd0e2cb43faa26fa5964b128201",
       "version_major": 2,
       "version_minor": 0
      },
      "text/plain": [
       "IntProgress(value=0, description='PROGRESS:', max=4)"
      ]
     },
     "metadata": {},
     "output_type": "display_data"
    },
    {
     "name": "stdout",
     "output_type": "stream",
     "text": [
      ">>> LOADING <<<: GENERATING GRAPHIC!\n"
     ]
    },
    {
     "data": {
      "application/vnd.jupyter.widget-view+json": {
       "model_id": "255c0644041b47879629b04c6d6a2fc4",
       "version_major": 2,
       "version_minor": 0
      },
      "text/plain": [
       "IntProgress(value=0, description='PROGRESS:', max=4)"
      ]
     },
     "metadata": {},
     "output_type": "display_data"
    }
   ],
   "source": [
    "print('{} vetores com tamanhos variados e atletas randômicos'.format(len(random_athletes_samples)))\n",
    "\n",
    "times = []\n",
    "for athlete_sample in random_athletes_samples:\n",
    "    algorithm_times = algorithms_complexity(athlete_sample)\n",
    "    times.append(algorithm_times)"
   ]
  },
  {
   "cell_type": "code",
   "execution_count": 51,
   "metadata": {},
   "outputs": [
    {
     "data": {
      "application/vnd.plotly.v1+json": {
       "config": {
        "linkText": "Export to plot.ly",
        "plotlyServerURL": "https://plot.ly",
        "showLink": false
       },
       "data": [
        {
         "box": {
          "visible": true
         },
         "meanline": {
          "visible": true
         },
         "name": "Bucket Quick",
         "type": "violin",
         "x": "Bucket Quick",
         "y": [
          5.125999450683594e-05,
          0.2017064094543457,
          0.29802727699279785,
          0.6314346790313721,
          0.6234085559844971,
          0.7824127674102783,
          0.9625182151794434,
          1.1623668670654297,
          1.3183982372283936,
          1.5528950691223145,
          1.7064063549041748,
          2.126279354095459,
          2.1257057189941406,
          2.326353073120117
         ]
        },
        {
         "box": {
          "visible": true
         },
         "meanline": {
          "visible": true
         },
         "name": "Bucket Merge",
         "type": "violin",
         "x": "Bucket Merge",
         "y": [
          4.673004150390625e-05,
          0.17654967308044434,
          0.3863387107849121,
          0.6707360744476318,
          0.8505737781524658,
          1.0722291469573975,
          1.3188579082489014,
          1.551919937133789,
          1.92085862159729,
          2.0970613956451416,
          2.3353536128997803,
          2.590362310409546,
          3.250706195831299,
          3.1223957538604736
         ]
        },
        {
         "box": {
          "visible": true
         },
         "meanline": {
          "visible": true
         },
         "name": "Quick sort",
         "type": "violin",
         "x": "Quick sort",
         "y": [
          2.6226043701171875e-06,
          0.17811012268066406,
          0.38109660148620605,
          0.7941179275512695,
          0.8153841495513916,
          1.0284500122070312,
          1.273637294769287,
          1.6567444801330566,
          1.776632308959961,
          2.128997564315796,
          2.2179839611053467,
          2.481053590774536,
          3.503571033477783,
          3.165008544921875
         ]
        },
        {
         "box": {
          "visible": true
         },
         "meanline": {
          "visible": true
         },
         "name": "Merge sort",
         "type": "violin",
         "x": "Merge sort",
         "y": [
          2.86102294921875e-06,
          0.24485087394714355,
          0.633638858795166,
          0.9822995662689209,
          1.144862174987793,
          1.483128547668457,
          1.7833173274993896,
          2.1782755851745605,
          2.458345651626587,
          2.8260903358459473,
          3.175715684890747,
          3.576852560043335,
          4.496970891952515,
          4.14759087562561
         ]
        }
       ],
       "layout": {
        "title": "Violin Box Plot - Algoritmos de ordenação",
        "yaxis": {
         "title": "seconds",
         "zeroline": false
        }
       }
      },
      "text/html": [
       "<div id=\"f956ee75-40ef-48d5-9bd8-e3bd8dcd0bca\" style=\"height: 525px; width: 100%;\" class=\"plotly-graph-div\"></div><script type=\"text/javascript\">require([\"plotly\"], function(Plotly) { window.PLOTLYENV=window.PLOTLYENV || {};window.PLOTLYENV.BASE_URL=\"https://plot.ly\";\n",
       "if (document.getElementById(\"f956ee75-40ef-48d5-9bd8-e3bd8dcd0bca\")) {\n",
       "    Plotly.newPlot(\"f956ee75-40ef-48d5-9bd8-e3bd8dcd0bca\", [{\"type\": \"violin\", \"x\": \"Bucket Quick\", \"y\": [5.125999450683594e-05, 0.2017064094543457, 0.29802727699279785, 0.6314346790313721, 0.6234085559844971, 0.7824127674102783, 0.9625182151794434, 1.1623668670654297, 1.3183982372283936, 1.5528950691223145, 1.7064063549041748, 2.126279354095459, 2.1257057189941406, 2.326353073120117], \"name\": \"Bucket Quick\", \"box\": {\"visible\": true}, \"meanline\": {\"visible\": true}}, {\"type\": \"violin\", \"x\": \"Bucket Merge\", \"y\": [4.673004150390625e-05, 0.17654967308044434, 0.3863387107849121, 0.6707360744476318, 0.8505737781524658, 1.0722291469573975, 1.3188579082489014, 1.551919937133789, 1.92085862159729, 2.0970613956451416, 2.3353536128997803, 2.590362310409546, 3.250706195831299, 3.1223957538604736], \"name\": \"Bucket Merge\", \"box\": {\"visible\": true}, \"meanline\": {\"visible\": true}}, {\"type\": \"violin\", \"x\": \"Quick sort\", \"y\": [2.6226043701171875e-06, 0.17811012268066406, 0.38109660148620605, 0.7941179275512695, 0.8153841495513916, 1.0284500122070312, 1.273637294769287, 1.6567444801330566, 1.776632308959961, 2.128997564315796, 2.2179839611053467, 2.481053590774536, 3.503571033477783, 3.165008544921875], \"name\": \"Quick sort\", \"box\": {\"visible\": true}, \"meanline\": {\"visible\": true}}, {\"type\": \"violin\", \"x\": \"Merge sort\", \"y\": [2.86102294921875e-06, 0.24485087394714355, 0.633638858795166, 0.9822995662689209, 1.144862174987793, 1.483128547668457, 1.7833173274993896, 2.1782755851745605, 2.458345651626587, 2.8260903358459473, 3.175715684890747, 3.576852560043335, 4.496970891952515, 4.14759087562561], \"name\": \"Merge sort\", \"box\": {\"visible\": true}, \"meanline\": {\"visible\": true}}], {\"title\": \"Violin Box Plot - Algoritmos de ordena\\u00e7\\u00e3o\", \"yaxis\": {\"title\": \"seconds\", \"zeroline\": false}}, {\"showLink\": false, \"linkText\": \"Export to plot.ly\", \"plotlyServerURL\": \"https://plot.ly\"}); \n",
       "}\n",
       "});</script><script type=\"text/javascript\">window.addEventListener(\"resize\", function(){if (document.getElementById(\"f956ee75-40ef-48d5-9bd8-e3bd8dcd0bca\")) {window._Plotly.Plots.resize(document.getElementById(\"f956ee75-40ef-48d5-9bd8-e3bd8dcd0bca\"));};})</script>"
      ],
      "text/vnd.plotly.v1+html": [
       "<div id=\"f956ee75-40ef-48d5-9bd8-e3bd8dcd0bca\" style=\"height: 525px; width: 100%;\" class=\"plotly-graph-div\"></div><script type=\"text/javascript\">require([\"plotly\"], function(Plotly) { window.PLOTLYENV=window.PLOTLYENV || {};window.PLOTLYENV.BASE_URL=\"https://plot.ly\";\n",
       "if (document.getElementById(\"f956ee75-40ef-48d5-9bd8-e3bd8dcd0bca\")) {\n",
       "    Plotly.newPlot(\"f956ee75-40ef-48d5-9bd8-e3bd8dcd0bca\", [{\"type\": \"violin\", \"x\": \"Bucket Quick\", \"y\": [5.125999450683594e-05, 0.2017064094543457, 0.29802727699279785, 0.6314346790313721, 0.6234085559844971, 0.7824127674102783, 0.9625182151794434, 1.1623668670654297, 1.3183982372283936, 1.5528950691223145, 1.7064063549041748, 2.126279354095459, 2.1257057189941406, 2.326353073120117], \"name\": \"Bucket Quick\", \"box\": {\"visible\": true}, \"meanline\": {\"visible\": true}}, {\"type\": \"violin\", \"x\": \"Bucket Merge\", \"y\": [4.673004150390625e-05, 0.17654967308044434, 0.3863387107849121, 0.6707360744476318, 0.8505737781524658, 1.0722291469573975, 1.3188579082489014, 1.551919937133789, 1.92085862159729, 2.0970613956451416, 2.3353536128997803, 2.590362310409546, 3.250706195831299, 3.1223957538604736], \"name\": \"Bucket Merge\", \"box\": {\"visible\": true}, \"meanline\": {\"visible\": true}}, {\"type\": \"violin\", \"x\": \"Quick sort\", \"y\": [2.6226043701171875e-06, 0.17811012268066406, 0.38109660148620605, 0.7941179275512695, 0.8153841495513916, 1.0284500122070312, 1.273637294769287, 1.6567444801330566, 1.776632308959961, 2.128997564315796, 2.2179839611053467, 2.481053590774536, 3.503571033477783, 3.165008544921875], \"name\": \"Quick sort\", \"box\": {\"visible\": true}, \"meanline\": {\"visible\": true}}, {\"type\": \"violin\", \"x\": \"Merge sort\", \"y\": [2.86102294921875e-06, 0.24485087394714355, 0.633638858795166, 0.9822995662689209, 1.144862174987793, 1.483128547668457, 1.7833173274993896, 2.1782755851745605, 2.458345651626587, 2.8260903358459473, 3.175715684890747, 3.576852560043335, 4.496970891952515, 4.14759087562561], \"name\": \"Merge sort\", \"box\": {\"visible\": true}, \"meanline\": {\"visible\": true}}], {\"title\": \"Violin Box Plot - Algoritmos de ordena\\u00e7\\u00e3o\", \"yaxis\": {\"title\": \"seconds\", \"zeroline\": false}}, {\"showLink\": false, \"linkText\": \"Export to plot.ly\", \"plotlyServerURL\": \"https://plot.ly\"}); \n",
       "}\n",
       "});</script><script type=\"text/javascript\">window.addEventListener(\"resize\", function(){if (document.getElementById(\"f956ee75-40ef-48d5-9bd8-e3bd8dcd0bca\")) {window._Plotly.Plots.resize(document.getElementById(\"f956ee75-40ef-48d5-9bd8-e3bd8dcd0bca\"));};})</script>"
      ]
     },
     "metadata": {},
     "output_type": "display_data"
    }
   ],
   "source": [
    "algorithms_times = [\n",
    "    ['Bucket Quick', list(zip(*times))[0]],\n",
    "    ['Bucket Merge', list(zip(*times))[1]],\n",
    "    ['Quick sort', list(zip(*times))[2]],\n",
    "    ['Merge sort', list(zip(*times))[3]]\n",
    "]\n",
    "\n",
    "data = []\n",
    "for algorithm_times in algorithms_times:\n",
    "    trace = {\n",
    "        \"type\": 'violin',\n",
    "        \"x\": algorithm_times[0],\n",
    "        \"y\": algorithm_times[1],\n",
    "        \"name\": algorithm_times[0],\n",
    "        \"box\": {\n",
    "            \"visible\": True\n",
    "        },\n",
    "        \"meanline\": {\n",
    "            \"visible\": True\n",
    "        }\n",
    "    }\n",
    "    \n",
    "    data.append(trace)\n",
    "        \n",
    "fig = {\n",
    "    \"data\": data,\n",
    "    \"layout\" : {\n",
    "        \"title\": \"Violin Box Plot - Algoritmos de ordenação\",\n",
    "        \"yaxis\": {\n",
    "            \"title\": 'seconds',\n",
    "            \"zeroline\": False,\n",
    "        }\n",
    "    }\n",
    "}\n",
    "\n",
    "iplot(fig, filename='violin/multiple', validate = False)"
   ]
  },
  {
   "cell_type": "markdown",
   "metadata": {},
   "source": []
  }
 ],
 "metadata": {
  "kernelspec": {
   "display_name": "Python 3",
   "language": "python",
   "name": "python3"
  },
  "language_info": {
   "codemirror_mode": {
    "name": "ipython",
    "version": 3
   },
   "file_extension": ".py",
   "mimetype": "text/x-python",
   "name": "python",
   "nbconvert_exporter": "python",
   "pygments_lexer": "ipython3",
   "version": "3.7.3"
  }
 },
 "nbformat": 4,
 "nbformat_minor": 2
}
