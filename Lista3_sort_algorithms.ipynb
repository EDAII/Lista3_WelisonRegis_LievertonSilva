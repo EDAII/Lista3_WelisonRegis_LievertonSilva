{
 "cells": [
  {
   "cell_type": "markdown",
   "metadata": {},
   "source": [
    "# ALGORITMOS DE ORDENAÇÃO $ N \\cdot LOG ~N $\n",
    "\n",
    "### Proposta:\n",
    "\n",
    "### Alunos:\n",
    "\n",
    "- Welison Lucas Almeida Regis - 2019.1,\n",
    "- Lieverton Santos Silva - 2019.1."
   ]
  },
  {
   "cell_type": "markdown",
   "metadata": {},
   "source": [
    "# IMPORTS"
   ]
  },
  {
   "cell_type": "code",
   "execution_count": null,
   "metadata": {},
   "outputs": [],
   "source": [
    "#import pandas as pd\n",
    "#import numpy as np\n",
    "#import matplotlib\n",
    "#import urllib\n",
    "#import time\n",
    "#import random\n",
    "\n",
    "#from matplotlib import pyplot as plt\n",
    "#from ipywidgets import IntProgress\n",
    "#from IPython.display import display"
   ]
  },
  {
   "cell_type": "code",
   "execution_count": null,
   "metadata": {},
   "outputs": [],
   "source": []
  }
 ],
 "metadata": {
  "kernelspec": {
   "display_name": "Python 3",
   "language": "python",
   "name": "python3"
  },
  "language_info": {
   "codemirror_mode": {
    "name": "ipython",
    "version": 3
   },
   "file_extension": ".py",
   "mimetype": "text/x-python",
   "name": "python",
   "nbconvert_exporter": "python",
   "pygments_lexer": "ipython3",
   "version": "3.7.3"
  }
 },
 "nbformat": 4,
 "nbformat_minor": 2
}
